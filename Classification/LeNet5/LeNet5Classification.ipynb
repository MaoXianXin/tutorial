{
 "cells": [
  {
   "cell_type": "markdown",
   "metadata": {},
   "source": [
    "# 导入函数库"
   ]
  },
  {
   "cell_type": "code",
   "execution_count": 1,
   "metadata": {
    "ExecuteTime": {
     "end_time": "2020-06-03T06:53:26.650002Z",
     "start_time": "2020-06-03T06:53:25.486310Z"
    }
   },
   "outputs": [],
   "source": [
    "import os\n",
    "import tensorflow as tf\n",
    "import numpy as np\n",
    "from tensorflow import keras  # 在TF2.0版本中,已经是自带Keras了,所以不需要额外安装\n",
    "import tensorflow_model_optimization as tfmot  # 导入TF2.0的模型优化函数库,降低模型优化难度,相当于调用借口解决问题\n",
    "import zipfile\n",
    "import tempfile\n",
    "import tensorflow_datasets as tfds # 这个是之前说过的Tensorflow Datasets\n",
    "%load_ext tensorboard"
   ]
  },
  {
   "cell_type": "markdown",
   "metadata": {},
   "source": [
    "# 如果出现显存不够的错误,把这个代码加上"
   ]
  },
  {
   "cell_type": "markdown",
   "metadata": {},
   "source": [
    "可以展示下不加这个出现错误的情形"
   ]
  },
  {
   "cell_type": "code",
   "execution_count": 2,
   "metadata": {
    "ExecuteTime": {
     "end_time": "2020-06-03T06:53:26.675232Z",
     "start_time": "2020-06-03T06:53:26.651074Z"
    }
   },
   "outputs": [],
   "source": [
    "# 加入下面这个代码片段主要是因为TF2.0对RTX20系列显卡支持不是很好,容易爆显存,所以设置成用多少占多少显存,而不是一次性全占了(默认)\n",
    "gpus = tf.config.experimental.list_physical_devices('GPU')\n",
    "if gpus:\n",
    "    try:\n",
    "        for gpu in gpus:\n",
    "            tf.config.experimental.set_memory_growth(gpu, True)\n",
    "    except RuntimeError as e:\n",
    "        print(e)"
   ]
  },
  {
   "cell_type": "markdown",
   "metadata": {},
   "source": [
    "# 定义网络结构"
   ]
  },
  {
   "cell_type": "markdown",
   "metadata": {},
   "source": [
    "## 一些参数设置"
   ]
  },
  {
   "cell_type": "code",
   "execution_count": 3,
   "metadata": {
    "ExecuteTime": {
     "end_time": "2020-06-03T06:53:26.693732Z",
     "start_time": "2020-06-03T06:53:26.676369Z"
    }
   },
   "outputs": [],
   "source": [
    "layers = tf.keras.layers\n",
    "models = tf.keras.models\n",
    "keras_utils = tf.keras.utils"
   ]
  },
  {
   "cell_type": "markdown",
   "metadata": {},
   "source": [
    "## 定义LeNet5用于猫狗分类"
   ]
  },
  {
   "cell_type": "code",
   "execution_count": 4,
   "metadata": {
    "ExecuteTime": {
     "end_time": "2020-06-03T06:53:26.701957Z",
     "start_time": "2020-06-03T06:53:26.697664Z"
    }
   },
   "outputs": [],
   "source": [
    "def LeNet5(include_top=False,\n",
    "         weights='imagenet',\n",
    "         input_shape=(32, 32, 3),\n",
    "         pooling='avg',\n",
    "         classes=2,\n",
    "         **kwargs):\n",
    "    img_input = layers.Input(shape=input_shape)  # 输入节点\n",
    "    \n",
    "    # Block 1\n",
    "    x = layers.Conv2D(64, (3, 3),\n",
    "                      activation='relu',\n",
    "                      padding='same',\n",
    "                      name='block1_conv1')(img_input)\n",
    "    x = layers.AveragePooling2D()(x)\n",
    "    x = layers.Conv2D(64, (3, 3),\n",
    "                      activation='relu',\n",
    "                      padding='same',\n",
    "                      name='block1_conv2')(x)\n",
    "    x = layers.AveragePooling2D()(x)\n",
    "    \n",
    "    if pooling == 'avg':\n",
    "        x = layers.Flatten()(x)\n",
    "        x = layers.Dense(1024, activation='relu', name='fc1')(x)\n",
    "        x = layers.Dense(128, activation='relu', name='fc2')(x)\n",
    "        x = layers.Dense(classes, activation='softmax', name='predictions')(x) # 此处是10分类，而不是ImageNet的1000分类\n",
    "    \n",
    "    inputs = img_input  # inputs是输入节点, x是输出节点\n",
    "    model = models.Model(inputs, x , name='vgg16')  # 生成一个Model, 需要指定输入和输出\n",
    "    \n",
    "    return model"
   ]
  },
  {
   "cell_type": "markdown",
   "metadata": {
    "ExecuteTime": {
     "end_time": "2020-06-03T06:52:16.860688Z",
     "start_time": "2020-06-03T06:52:16.855923Z"
    }
   },
   "source": [
    "## 声明一个LeNet5模型实例"
   ]
  },
  {
   "cell_type": "code",
   "execution_count": 5,
   "metadata": {
    "ExecuteTime": {
     "end_time": "2020-06-03T06:53:27.123412Z",
     "start_time": "2020-06-03T06:53:26.702696Z"
    }
   },
   "outputs": [],
   "source": [
    "model = LeNet5()\n",
    "# model.load_weights('./baseline.h5')"
   ]
  },
  {
   "cell_type": "markdown",
   "metadata": {},
   "source": [
    "## 这个函数可以用于查看网络结构和参数量"
   ]
  },
  {
   "cell_type": "code",
   "execution_count": 6,
   "metadata": {
    "ExecuteTime": {
     "end_time": "2020-06-03T06:53:27.128271Z",
     "start_time": "2020-06-03T06:53:27.124262Z"
    },
    "scrolled": true
   },
   "outputs": [
    {
     "name": "stdout",
     "output_type": "stream",
     "text": [
      "Model: \"vgg16\"\n",
      "_________________________________________________________________\n",
      "Layer (type)                 Output Shape              Param #   \n",
      "=================================================================\n",
      "input_1 (InputLayer)         [(None, 32, 32, 3)]       0         \n",
      "_________________________________________________________________\n",
      "block1_conv1 (Conv2D)        (None, 32, 32, 64)        1792      \n",
      "_________________________________________________________________\n",
      "average_pooling2d (AveragePo (None, 16, 16, 64)        0         \n",
      "_________________________________________________________________\n",
      "block1_conv2 (Conv2D)        (None, 16, 16, 64)        36928     \n",
      "_________________________________________________________________\n",
      "average_pooling2d_1 (Average (None, 8, 8, 64)          0         \n",
      "_________________________________________________________________\n",
      "flatten (Flatten)            (None, 4096)              0         \n",
      "_________________________________________________________________\n",
      "fc1 (Dense)                  (None, 1024)              4195328   \n",
      "_________________________________________________________________\n",
      "fc2 (Dense)                  (None, 128)               131200    \n",
      "_________________________________________________________________\n",
      "predictions (Dense)          (None, 2)                 258       \n",
      "=================================================================\n",
      "Total params: 4,365,506\n",
      "Trainable params: 4,365,506\n",
      "Non-trainable params: 0\n",
      "_________________________________________________________________\n"
     ]
    }
   ],
   "source": [
    "model.summary()"
   ]
  },
  {
   "cell_type": "code",
   "execution_count": 7,
   "metadata": {
    "ExecuteTime": {
     "end_time": "2020-06-03T06:53:27.238304Z",
     "start_time": "2020-06-03T06:53:27.129627Z"
    }
   },
   "outputs": [],
   "source": [
    "log_dir = './logs'\n",
    "tensorboard_callback = tf.keras.callbacks.TensorBoard(log_dir=log_dir, histogram_freq=1)"
   ]
  },
  {
   "cell_type": "markdown",
   "metadata": {},
   "source": [
    "## 对特征提取层进行冻结,加快模型训练速度"
   ]
  },
  {
   "cell_type": "markdown",
   "metadata": {},
   "source": [
    "可以展示下不加的情形，更直观的说明为什么需要训练更长时间"
   ]
  },
  {
   "cell_type": "code",
   "execution_count": 8,
   "metadata": {
    "ExecuteTime": {
     "end_time": "2020-06-03T06:53:27.249111Z",
     "start_time": "2020-06-03T06:53:27.241262Z"
    }
   },
   "outputs": [
    {
     "name": "stdout",
     "output_type": "stream",
     "text": [
      "9\n"
     ]
    }
   ],
   "source": [
    "length = len(model.layers)  # 查看模型有多少层Layer\n",
    "print(length)"
   ]
  },
  {
   "cell_type": "code",
   "execution_count": 9,
   "metadata": {
    "ExecuteTime": {
     "end_time": "2020-06-03T06:53:27.255310Z",
     "start_time": "2020-06-03T06:53:27.251766Z"
    }
   },
   "outputs": [],
   "source": [
    "# 对模型的特征提取层进行冻结,可以加快模型训练速度\n",
    "# for i in range(length - 2): # 我们看下上面的model.summary()，可以发现最后2层是全连接，所以不冻结\n",
    "#     model.layers[i].trainable = False # 对该层Layer进行冻结"
   ]
  },
  {
   "cell_type": "code",
   "execution_count": 10,
   "metadata": {
    "ExecuteTime": {
     "end_time": "2020-06-03T06:53:27.266454Z",
     "start_time": "2020-06-03T06:53:27.257348Z"
    },
    "scrolled": true
   },
   "outputs": [
    {
     "name": "stdout",
     "output_type": "stream",
     "text": [
      "True\n",
      "True\n",
      "True\n",
      "True\n",
      "True\n",
      "True\n",
      "True\n",
      "True\n",
      "True\n"
     ]
    }
   ],
   "source": [
    "for i in range(length):\n",
    "    print(model.layers[i].trainable)"
   ]
  },
  {
   "cell_type": "markdown",
   "metadata": {},
   "source": [
    "## 进行模型训练"
   ]
  },
  {
   "cell_type": "code",
   "execution_count": 11,
   "metadata": {
    "ExecuteTime": {
     "end_time": "2020-06-03T06:53:27.271604Z",
     "start_time": "2020-06-03T06:53:27.268128Z"
    }
   },
   "outputs": [],
   "source": [
    "def convert(image, label):\n",
    "    image = tf.image.convert_image_dtype(image, tf.float32) # Cast and normalize the image to [0,1]\n",
    "    image = tf.image.resize_with_crop_or_pad(image, 34, 34) # Add 6 pixels of padding\n",
    "    image = tf.image.random_crop(image, size=[32, 32, 3]) # Random crop back to 32x32\n",
    "    return image, label\n",
    "\n",
    "def augment(image,label):\n",
    "    image,label = convert(image, label)\n",
    "#     image = tf.image.random_flip_left_right(image)\n",
    "#     image = tf.image.random_flip_up_down(image)\n",
    "#     image = tf.image.random_brightness(image, max_delta=0.5) # Random brightness\n",
    "    return image,label"
   ]
  },
  {
   "cell_type": "code",
   "execution_count": 12,
   "metadata": {
    "ExecuteTime": {
     "end_time": "2020-06-03T06:53:27.556195Z",
     "start_time": "2020-06-03T06:53:27.272671Z"
    }
   },
   "outputs": [],
   "source": [
    "# 此处使用tfds的方式构建data pipeline\n",
    "raw_train, metadata = tfds.load(\n",
    "    'cats_vs_dogs', # 数据集名称，这个是手势识别分类数据集，共3个类别\n",
    "    split='train', # 这里的raw_test和split的'test'对应，raw_train和split的'train'对应\n",
    "    with_info=True, # 这个参数和metadata对应\n",
    "    as_supervised=True, # 这个参数的作用是返回tuple形式的(input, label),举个例子，raw_test=tuple(input, label)\n",
    "    shuffle_files=True  # 对数据进行扰乱操作，可以自己体会下设置成False时，下面imshow的时候的结果差别\n",
    ")\n",
    "raw_test = raw_train\n",
    "\n",
    "IMG_SIZE = 32 # All images will be resized to 300X300\n",
    "\n",
    "BATCH_SIZE = 16\n",
    "SHUFFLE_BUFFER_SIZE = 5000\n",
    "\n",
    "# 可以体验下这里是否加prefetch(tf.data.experimental.AUTOTUNE)和cache()的区别，对训练速度，以及CPU负载有影响\n",
    "train_batches = raw_train.shuffle(SHUFFLE_BUFFER_SIZE, reshuffle_each_iteration=True).map(augment).batch(BATCH_SIZE).prefetch(tf.data.experimental.AUTOTUNE)\n",
    "test_batches = raw_test.map(convert).batch(BATCH_SIZE)\n",
    "\n",
    "# compile模型并训练\n",
    "model.compile(optimizer=tf.keras.optimizers.Adam(learning_rate=1e-4),\n",
    "             loss=tf.keras.losses.SparseCategoricalCrossentropy(from_logits=True),\n",
    "             metrics=['accuracy'])"
   ]
  },
  {
   "cell_type": "code",
   "execution_count": 13,
   "metadata": {
    "ExecuteTime": {
     "end_time": "2020-06-03T06:57:48.050486Z",
     "start_time": "2020-06-03T06:53:27.557061Z"
    },
    "scrolled": true
   },
   "outputs": [
    {
     "name": "stdout",
     "output_type": "stream",
     "text": [
      "Epoch 1/20\n",
      "1454/1454 [==============================] - 12s 8ms/step - loss: 0.6812 - accuracy: 0.5549\n",
      "Epoch 2/20\n",
      "1454/1454 [==============================] - 12s 8ms/step - loss: 0.6622 - accuracy: 0.6079\n",
      "Epoch 3/20\n",
      "1454/1454 [==============================] - 11s 8ms/step - loss: 0.6553 - accuracy: 0.6176\n",
      "Epoch 4/20\n",
      "1454/1454 [==============================] - 12s 8ms/step - loss: 0.6498 - accuracy: 0.6270\n",
      "Epoch 5/20\n",
      "1454/1454 [==============================] - 12s 8ms/step - loss: 0.6443 - accuracy: 0.6344\n",
      "Epoch 6/20\n",
      "1454/1454 [==============================] - 12s 9ms/step - loss: 0.6392 - accuracy: 0.6404\n",
      "Epoch 7/20\n",
      "1454/1454 [==============================] - 13s 9ms/step - loss: 0.6362 - accuracy: 0.6448\n",
      "Epoch 8/20\n",
      "1454/1454 [==============================] - 11s 8ms/step - loss: 0.6306 - accuracy: 0.6518\n",
      "Epoch 9/20\n",
      "1454/1454 [==============================] - 13s 9ms/step - loss: 0.6270 - accuracy: 0.6582\n",
      "Epoch 10/20\n",
      "1454/1454 [==============================] - 12s 8ms/step - loss: 0.6223 - accuracy: 0.6643\n",
      "Epoch 11/20\n",
      "1454/1454 [==============================] - 12s 8ms/step - loss: 0.6171 - accuracy: 0.6682\n",
      "Epoch 12/20\n",
      "1454/1454 [==============================] - 13s 9ms/step - loss: 0.6111 - accuracy: 0.6756\n",
      "Epoch 13/20\n",
      "1454/1454 [==============================] - 12s 8ms/step - loss: 0.6067 - accuracy: 0.6822\n",
      "Epoch 14/20\n",
      "1454/1454 [==============================] - 13s 9ms/step - loss: 0.6011 - accuracy: 0.6903\n",
      "Epoch 15/20\n",
      "1454/1454 [==============================] - 12s 8ms/step - loss: 0.5933 - accuracy: 0.6987\n",
      "Epoch 16/20\n",
      "1454/1454 [==============================] - 16s 11ms/step - loss: 0.5858 - accuracy: 0.7063\n",
      "Epoch 17/20\n",
      "1454/1454 [==============================] - 12s 8ms/step - loss: 0.5793 - accuracy: 0.7154\n",
      "Epoch 18/20\n",
      "1454/1454 [==============================] - 13s 9ms/step - loss: 0.5724 - accuracy: 0.7232\n",
      "Epoch 19/20\n",
      "1454/1454 [==============================] - 12s 9ms/step - loss: 0.5650 - accuracy: 0.7337\n",
      "Epoch 20/20\n",
      "1454/1454 [==============================] - 12s 8ms/step - loss: 0.5585 - accuracy: 0.7388\n"
     ]
    },
    {
     "data": {
      "text/plain": [
       "<tensorflow.python.keras.callbacks.History at 0x7f6e3027f400>"
      ]
     },
     "execution_count": 13,
     "metadata": {},
     "output_type": "execute_result"
    }
   ],
   "source": [
    "model.fit(\n",
    "    train_batches,\n",
    "    epochs=20,\n",
    "    callbacks=[tensorboard_callback]\n",
    ")"
   ]
  },
  {
   "cell_type": "markdown",
   "metadata": {},
   "source": [
    "## Baseline的test acc和推断速度"
   ]
  },
  {
   "cell_type": "code",
   "execution_count": 14,
   "metadata": {
    "ExecuteTime": {
     "end_time": "2020-06-03T06:58:00.597260Z",
     "start_time": "2020-06-03T06:57:48.051477Z"
    }
   },
   "outputs": [
    {
     "name": "stdout",
     "output_type": "stream",
     "text": [
      "1454/1454 [==============================] - 12s 8ms/step - loss: 0.5487 - accuracy: 0.7497\n",
      "Baseline test accuracy:  0.749720573425293\n",
      "Saved baseline model to:  ./test.h5\n"
     ]
    }
   ],
   "source": [
    "# 此处我们可以看到Baseline的test acc和inference速度为6ms/step\n",
    "_, baseline_model_accuracy = model.evaluate(test_batches, verbose=1)\n",
    "print('Baseline test accuracy: ', baseline_model_accuracy)\n",
    "\n",
    "keras_file = './test.h5'\n",
    "tf.keras.models.save_model(model, keras_file, include_optimizer=False)\n",
    "print('Saved baseline model to: ', keras_file)"
   ]
  },
  {
   "cell_type": "code",
   "execution_count": 15,
   "metadata": {
    "ExecuteTime": {
     "end_time": "2020-06-03T06:58:00.602396Z",
     "start_time": "2020-06-03T06:58:00.598132Z"
    }
   },
   "outputs": [
    {
     "data": {
      "text/plain": [
       "Reusing TensorBoard on port 6011 (pid 14899), started 0:09:31 ago. (Use '!kill 14899' to kill it.)"
      ]
     },
     "metadata": {},
     "output_type": "display_data"
    },
    {
     "data": {
      "text/html": [
       "\n",
       "      <iframe id=\"tensorboard-frame-879ad36d139b1d0\" width=\"100%\" height=\"800\" frameborder=\"0\">\n",
       "      </iframe>\n",
       "      <script>\n",
       "        (function() {\n",
       "          const frame = document.getElementById(\"tensorboard-frame-879ad36d139b1d0\");\n",
       "          const url = new URL(\"/\", window.location);\n",
       "          url.port = 6011;\n",
       "          frame.src = url;\n",
       "        })();\n",
       "      </script>\n",
       "  "
      ],
      "text/plain": [
       "<IPython.core.display.HTML object>"
      ]
     },
     "metadata": {},
     "output_type": "display_data"
    }
   ],
   "source": [
    "%tensorboard --logdir ./logs"
   ]
  }
 ],
 "metadata": {
  "environment": {
   "name": "tf2-gpu.2-1.m46",
   "type": "gcloud",
   "uri": "gcr.io/deeplearning-platform-release/tf2-gpu.2-1:m46"
  },
  "kernelspec": {
   "display_name": "Python 3",
   "language": "python",
   "name": "python3"
  },
  "language_info": {
   "codemirror_mode": {
    "name": "ipython",
    "version": 3
   },
   "file_extension": ".py",
   "mimetype": "text/x-python",
   "name": "python",
   "nbconvert_exporter": "python",
   "pygments_lexer": "ipython3",
   "version": "3.6.9"
  },
  "toc": {
   "base_numbering": 1,
   "nav_menu": {},
   "number_sections": true,
   "sideBar": true,
   "skip_h1_title": false,
   "title_cell": "Table of Contents",
   "title_sidebar": "Contents",
   "toc_cell": false,
   "toc_position": {
    "height": "calc(100% - 180px)",
    "left": "10px",
    "top": "150px",
    "width": "498.594px"
   },
   "toc_section_display": true,
   "toc_window_display": false
  }
 },
 "nbformat": 4,
 "nbformat_minor": 4
}
