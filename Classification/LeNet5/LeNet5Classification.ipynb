{
 "cells": [
  {
   "cell_type": "markdown",
   "metadata": {},
   "source": [
    "# 导入函数库"
   ]
  },
  {
   "cell_type": "code",
   "execution_count": 1,
   "metadata": {
    "ExecuteTime": {
     "end_time": "2020-06-10T03:41:10.294832Z",
     "start_time": "2020-06-10T03:41:09.034937Z"
    }
   },
   "outputs": [],
   "source": [
    "import tensorflow as tf\n",
    "import numpy as np\n",
    "import tensorflow_datasets as tfds # 这个是指Tensorflow Datasets\n",
    "import matplotlib.pyplot as plt"
   ]
  },
  {
   "cell_type": "markdown",
   "metadata": {},
   "source": [
    "# 如果出现显存不够的错误,把这个代码加上"
   ]
  },
  {
   "cell_type": "code",
   "execution_count": 2,
   "metadata": {
    "ExecuteTime": {
     "end_time": "2020-06-10T03:41:10.326054Z",
     "start_time": "2020-06-10T03:41:10.296103Z"
    }
   },
   "outputs": [],
   "source": [
    "# 加入下面这个代码片段主要是因为TF2.0对RTX20系列显卡支持不是很好,容易爆显存,所以设置成用多少占多少显存,而不是一次性全占了(默认)\n",
    "gpus = tf.config.experimental.list_physical_devices('GPU')\n",
    "if gpus:\n",
    "    try:\n",
    "        for gpu in gpus:\n",
    "            tf.config.experimental.set_memory_growth(gpu, True)\n",
    "    except RuntimeError as e:\n",
    "        print(e)"
   ]
  },
  {
   "cell_type": "markdown",
   "metadata": {},
   "source": [
    "# 定义网络结构"
   ]
  },
  {
   "cell_type": "markdown",
   "metadata": {},
   "source": [
    "## 一些参数设置"
   ]
  },
  {
   "cell_type": "code",
   "execution_count": 3,
   "metadata": {
    "ExecuteTime": {
     "end_time": "2020-06-10T03:41:10.339958Z",
     "start_time": "2020-06-10T03:41:10.327476Z"
    }
   },
   "outputs": [],
   "source": [
    "layers = tf.keras.layers\n",
    "models = tf.keras.models\n",
    "\n",
    "IMG_SIZE = 32\n",
    "BATCH_SIZE = 8 * 1\n",
    "SHUFFLE_BUFFER_SIZE = 48 * 1\n",
    "DATASET_NAME = 'rock_paper_scissors'\n",
    "SPLIT = ['test', 'train']\n",
    "DATA_DIR = './tensorflow_datasets'\n",
    "LEARNING_RATE = 1e-4\n",
    "EPOCHS = 30\n",
    "CLASSES = 3"
   ]
  },
  {
   "cell_type": "markdown",
   "metadata": {},
   "source": [
    "## 定义LeNet5用于手势识别"
   ]
  },
  {
   "cell_type": "code",
   "execution_count": 4,
   "metadata": {
    "ExecuteTime": {
     "end_time": "2020-06-10T03:41:10.346558Z",
     "start_time": "2020-06-10T03:41:10.341054Z"
    }
   },
   "outputs": [],
   "source": [
    "def LeNet5(input_shape=(IMG_SIZE, IMG_SIZE, 3), # 原始图片是300x300x3\n",
    "           classes=CLASSES):\n",
    "    img_input = layers.Input(shape=input_shape)  # 输入节点\n",
    "\n",
    "    x = layers.Conv2D(64, (5, 5),\n",
    "                      activation='relu',\n",
    "                      padding='valid',\n",
    "                      name='conv1')(img_input)\n",
    "    x = layers.BatchNormalization()(x)\n",
    "    x = layers.AveragePooling2D()(x)\n",
    "    x = layers.Conv2D(64, (5, 5),\n",
    "                      activation='relu',\n",
    "                      padding='valid',\n",
    "                      name='conv2')(x)\n",
    "    x = layers.BatchNormalization()(x)\n",
    "    x = layers.AveragePooling2D()(x)\n",
    "\n",
    "    x = layers.Flatten()(x)\n",
    "    x = layers.Dense(512, activation='relu', name='fc1')(x)\n",
    "    x = layers.BatchNormalization()(x)\n",
    "    x = layers.Dense(128, activation='relu', name='fc2')(x)\n",
    "    x = layers.BatchNormalization()(x)\n",
    "    x = layers.Dense(classes, activation='softmax', name='predictions')(x)\n",
    "\n",
    "    inputs = img_input  # inputs是输入节点\n",
    "    outputs = x  # outputs是输出节点\n",
    "    model = models.Model(inputs, outputs, name='lenet5')  # 生成一个Model, 需要指定输入和输出\n",
    "\n",
    "    return model"
   ]
  },
  {
   "cell_type": "markdown",
   "metadata": {
    "ExecuteTime": {
     "end_time": "2020-06-03T06:52:16.860688Z",
     "start_time": "2020-06-03T06:52:16.855923Z"
    }
   },
   "source": [
    "## 声明一个LeNet5模型实例"
   ]
  },
  {
   "cell_type": "code",
   "execution_count": 5,
   "metadata": {
    "ExecuteTime": {
     "end_time": "2020-06-10T03:41:10.895289Z",
     "start_time": "2020-06-10T03:41:10.347511Z"
    }
   },
   "outputs": [],
   "source": [
    "model = LeNet5()"
   ]
  },
  {
   "cell_type": "code",
   "execution_count": 6,
   "metadata": {
    "ExecuteTime": {
     "end_time": "2020-06-10T03:41:10.900213Z",
     "start_time": "2020-06-10T03:41:10.896203Z"
    }
   },
   "outputs": [
    {
     "name": "stdout",
     "output_type": "stream",
     "text": [
      "Model: \"lenet5\"\n",
      "_________________________________________________________________\n",
      "Layer (type)                 Output Shape              Param #   \n",
      "=================================================================\n",
      "input_1 (InputLayer)         [(None, 32, 32, 3)]       0         \n",
      "_________________________________________________________________\n",
      "conv1 (Conv2D)               (None, 28, 28, 64)        4864      \n",
      "_________________________________________________________________\n",
      "batch_normalization (BatchNo (None, 28, 28, 64)        256       \n",
      "_________________________________________________________________\n",
      "average_pooling2d (AveragePo (None, 14, 14, 64)        0         \n",
      "_________________________________________________________________\n",
      "conv2 (Conv2D)               (None, 10, 10, 64)        102464    \n",
      "_________________________________________________________________\n",
      "batch_normalization_1 (Batch (None, 10, 10, 64)        256       \n",
      "_________________________________________________________________\n",
      "average_pooling2d_1 (Average (None, 5, 5, 64)          0         \n",
      "_________________________________________________________________\n",
      "flatten (Flatten)            (None, 1600)              0         \n",
      "_________________________________________________________________\n",
      "fc1 (Dense)                  (None, 512)               819712    \n",
      "_________________________________________________________________\n",
      "batch_normalization_2 (Batch (None, 512)               2048      \n",
      "_________________________________________________________________\n",
      "fc2 (Dense)                  (None, 128)               65664     \n",
      "_________________________________________________________________\n",
      "batch_normalization_3 (Batch (None, 128)               512       \n",
      "_________________________________________________________________\n",
      "predictions (Dense)          (None, 3)                 387       \n",
      "=================================================================\n",
      "Total params: 996,163\n",
      "Trainable params: 994,627\n",
      "Non-trainable params: 1,536\n",
      "_________________________________________________________________\n"
     ]
    }
   ],
   "source": [
    "model.summary()"
   ]
  },
  {
   "cell_type": "markdown",
   "metadata": {},
   "source": [
    "## 记录模型训练过程中的日志"
   ]
  },
  {
   "cell_type": "code",
   "execution_count": 7,
   "metadata": {
    "ExecuteTime": {
     "end_time": "2020-06-10T03:41:11.010325Z",
     "start_time": "2020-06-10T03:41:10.901861Z"
    }
   },
   "outputs": [],
   "source": [
    "log_dir = './logs'\n",
    "tensorboard_callback = tf.keras.callbacks.TensorBoard(log_dir=log_dir, histogram_freq=1)"
   ]
  },
  {
   "cell_type": "markdown",
   "metadata": {},
   "source": [
    "## 进行数据增强"
   ]
  },
  {
   "cell_type": "code",
   "execution_count": 8,
   "metadata": {
    "ExecuteTime": {
     "end_time": "2020-06-10T03:41:11.018946Z",
     "start_time": "2020-06-10T03:41:11.011321Z"
    }
   },
   "outputs": [],
   "source": [
    "def convert(image, label):\n",
    "    image = tf.image.convert_image_dtype(image, tf.float32) # Cast and normalize the image to [0,1]\n",
    "    image = tf.image.resize(image, size=[IMG_SIZE, IMG_SIZE])\n",
    "    return image, label\n",
    "\n",
    "def augment(image, label):\n",
    "    image, label = convert(image, label)\n",
    "    image = tf.image.random_flip_left_right(image)\n",
    "    image = tf.image.random_brightness(image, max_delta=0.3) # Random brightness\n",
    "    return image, label"
   ]
  },
  {
   "cell_type": "markdown",
   "metadata": {},
   "source": [
    "## 数据读取并预处理"
   ]
  },
  {
   "cell_type": "code",
   "execution_count": 9,
   "metadata": {
    "ExecuteTime": {
     "end_time": "2020-06-10T03:41:11.220919Z",
     "start_time": "2020-06-10T03:41:11.019838Z"
    }
   },
   "outputs": [],
   "source": [
    "# 此处使用tfds的方式构建data pipeline\n",
    "(raw_test, raw_train), metadata = tfds.load(\n",
    "    DATASET_NAME, # 数据集名称，这个是手势识别分类数据集，共3个类别\n",
    "    split=SPLIT, # 这里的raw_test和split的'test'对应，raw_train和split的'train'对应\n",
    "    with_info=True, # 这个参数和metadata对应\n",
    "    as_supervised=True, # 这个参数的作用是返回tuple形式的(input, label),举个例子，raw_test=tuple(input, label)\n",
    "    data_dir=DATA_DIR\n",
    ")\n",
    "\n",
    "# 可以体验下这里是否加prefetch(tf.data.experimental.AUTOTUNE)和cache()的区别，对训练速度，以及CPU负载有影响\n",
    "train_batches = raw_train.shuffle(SHUFFLE_BUFFER_SIZE).map(augment).batch(BATCH_SIZE).prefetch(tf.data.experimental.AUTOTUNE)\n",
    "test_batches = raw_test.map(convert).batch(BATCH_SIZE)"
   ]
  },
  {
   "cell_type": "markdown",
   "metadata": {},
   "source": [
    "## 进行模型训练"
   ]
  },
  {
   "cell_type": "code",
   "execution_count": 10,
   "metadata": {
    "ExecuteTime": {
     "end_time": "2020-06-10T03:41:53.802940Z",
     "start_time": "2020-06-10T03:41:11.221792Z"
    },
    "scrolled": true
   },
   "outputs": [
    {
     "name": "stdout",
     "output_type": "stream",
     "text": [
      "Epoch 1/30\n",
      "315/315 [==============================] - 2s 5ms/step - loss: 0.7438 - accuracy: 0.8214\n",
      "Epoch 2/30\n",
      "315/315 [==============================] - 1s 5ms/step - loss: 0.6219 - accuracy: 0.9425\n",
      "Epoch 3/30\n",
      "315/315 [==============================] - 2s 5ms/step - loss: 0.6026 - accuracy: 0.9595\n",
      "Epoch 4/30\n",
      "315/315 [==============================] - 1s 5ms/step - loss: 0.5969 - accuracy: 0.9623\n",
      "Epoch 5/30\n",
      "315/315 [==============================] - 1s 5ms/step - loss: 0.5848 - accuracy: 0.9726\n",
      "Epoch 6/30\n",
      "315/315 [==============================] - 1s 5ms/step - loss: 0.5813 - accuracy: 0.9782\n",
      "Epoch 7/30\n",
      "315/315 [==============================] - 1s 5ms/step - loss: 0.5790 - accuracy: 0.9802\n",
      "Epoch 8/30\n",
      "315/315 [==============================] - 1s 4ms/step - loss: 0.5758 - accuracy: 0.9798\n",
      "Epoch 9/30\n",
      "315/315 [==============================] - 1s 4ms/step - loss: 0.5741 - accuracy: 0.9813\n",
      "Epoch 10/30\n",
      "315/315 [==============================] - 1s 4ms/step - loss: 0.5755 - accuracy: 0.9790\n",
      "Epoch 11/30\n",
      "315/315 [==============================] - 1s 4ms/step - loss: 0.5704 - accuracy: 0.9849\n",
      "Epoch 12/30\n",
      "315/315 [==============================] - 1s 4ms/step - loss: 0.5670 - accuracy: 0.9873\n",
      "Epoch 13/30\n",
      "315/315 [==============================] - 1s 4ms/step - loss: 0.5649 - accuracy: 0.9913\n",
      "Epoch 14/30\n",
      "315/315 [==============================] - 1s 4ms/step - loss: 0.5703 - accuracy: 0.9837\n",
      "Epoch 15/30\n",
      "315/315 [==============================] - 1s 4ms/step - loss: 0.5711 - accuracy: 0.9845\n",
      "Epoch 16/30\n",
      "315/315 [==============================] - 1s 4ms/step - loss: 0.5650 - accuracy: 0.9905\n",
      "Epoch 17/30\n",
      "315/315 [==============================] - 1s 4ms/step - loss: 0.5621 - accuracy: 0.9921\n",
      "Epoch 18/30\n",
      "315/315 [==============================] - 1s 4ms/step - loss: 0.5621 - accuracy: 0.9925\n",
      "Epoch 19/30\n",
      "315/315 [==============================] - 1s 4ms/step - loss: 0.5637 - accuracy: 0.9913\n",
      "Epoch 20/30\n",
      "315/315 [==============================] - 1s 4ms/step - loss: 0.5596 - accuracy: 0.9952\n",
      "Epoch 21/30\n",
      "315/315 [==============================] - 1s 4ms/step - loss: 0.5641 - accuracy: 0.9905\n",
      "Epoch 22/30\n",
      "315/315 [==============================] - 1s 4ms/step - loss: 0.5637 - accuracy: 0.9921\n",
      "Epoch 23/30\n",
      "315/315 [==============================] - 1s 4ms/step - loss: 0.5612 - accuracy: 0.9925\n",
      "Epoch 24/30\n",
      "315/315 [==============================] - 1s 4ms/step - loss: 0.5638 - accuracy: 0.9901\n",
      "Epoch 25/30\n",
      "315/315 [==============================] - 1s 4ms/step - loss: 0.5614 - accuracy: 0.9921\n",
      "Epoch 26/30\n",
      "315/315 [==============================] - 1s 4ms/step - loss: 0.5582 - accuracy: 0.9968\n",
      "Epoch 27/30\n",
      "315/315 [==============================] - 1s 4ms/step - loss: 0.5629 - accuracy: 0.9905\n",
      "Epoch 28/30\n",
      "315/315 [==============================] - 1s 4ms/step - loss: 0.5585 - accuracy: 0.9944\n",
      "Epoch 29/30\n",
      "315/315 [==============================] - 1s 4ms/step - loss: 0.5572 - accuracy: 0.9972\n",
      "Epoch 30/30\n",
      "315/315 [==============================] - 1s 4ms/step - loss: 0.5594 - accuracy: 0.9933\n"
     ]
    },
    {
     "data": {
      "text/plain": [
       "<tensorflow.python.keras.callbacks.History at 0x7f1de83575f8>"
      ]
     },
     "execution_count": 10,
     "metadata": {},
     "output_type": "execute_result"
    }
   ],
   "source": [
    "model.compile(optimizer=tf.keras.optimizers.Adam(learning_rate=LEARNING_RATE),\n",
    "             loss=tf.keras.losses.SparseCategoricalCrossentropy(from_logits=True),\n",
    "             metrics=['accuracy'])\n",
    "\n",
    "model.fit(\n",
    "    train_batches,\n",
    "    epochs=EPOCHS,\n",
    "    callbacks=[tensorboard_callback]\n",
    ")"
   ]
  },
  {
   "cell_type": "markdown",
   "metadata": {
    "ExecuteTime": {
     "end_time": "2020-06-04T06:17:38.349132Z",
     "start_time": "2020-06-04T06:17:38.347130Z"
    }
   },
   "source": [
    "## 训练后的模型预测展示"
   ]
  },
  {
   "cell_type": "code",
   "execution_count": 11,
   "metadata": {
    "ExecuteTime": {
     "end_time": "2020-06-10T03:41:54.466368Z",
     "start_time": "2020-06-10T03:41:53.803755Z"
    },
    "scrolled": true
   },
   "outputs": [
    {
     "name": "stdout",
     "output_type": "stream",
     "text": [
      "scissors\n",
      "paper\n",
      "scissors\n",
      "rock\n",
      "rock\n"
     ]
    },
    {
     "data": {
      "image/png": "[encoded data removed]",
      "text/plain": [
       "<Figure size 432x288 with 1 Axes>"
      ]
     },
     "metadata": {
      "needs_background": "light"
     },
     "output_type": "display_data"
    },
    {
     "data": {
      "image/png": "[encoded data removed]",
      "text/plain": [
       "<Figure size 432x288 with 1 Axes>"
      ]
     },
     "metadata": {
      "needs_background": "light"
     },
     "output_type": "display_data"
    },
    {
     "data": {
      "image/png": "[encoded data removed]",
      "text/plain": [
       "<Figure size 432x288 with 1 Axes>"
      ]
     },
     "metadata": {
      "needs_background": "light"
     },
     "output_type": "display_data"
    },
    {
     "data": {
      "image/png": "[encoded data removed]",
      "text/plain": [
       "<Figure size 432x288 with 1 Axes>"
      ]
     },
     "metadata": {
      "needs_background": "light"
     },
     "output_type": "display_data"
    },
    {
     "data": {
      "image/png": "[encoded data removed]",
      "text/plain": [
       "<Figure size 432x288 with 1 Axes>"
      ]
     },
     "metadata": {
      "needs_background": "light"
     },
     "output_type": "display_data"
    }
   ],
   "source": [
    "get_label_name = metadata.features['label'].int2str\n",
    "\n",
    "for image, label in raw_test.take(5):\n",
    "    image, label = convert(image, label)\n",
    "    predict = np.argmax(model.predict(np.expand_dims(image, axis=0)))\n",
    "    print(get_label_name(predict))\n",
    "    plt.figure()\n",
    "    plt.imshow(image)\n",
    "    plt.title(get_label_name(label))"
   ]
  },
  {
   "cell_type": "markdown",
   "metadata": {},
   "source": [
    "## Baseline的test acc,并保存模型"
   ]
  },
  {
   "cell_type": "code",
   "execution_count": 12,
   "metadata": {
    "ExecuteTime": {
     "end_time": "2020-06-10T03:41:54.944023Z",
     "start_time": "2020-06-10T03:41:54.467275Z"
    }
   },
   "outputs": [
    {
     "name": "stdout",
     "output_type": "stream",
     "text": [
      "47/47 [==============================] - 0s 5ms/step - loss: 0.7541 - accuracy: 0.7742\n",
      "Baseline test accuracy:  0.774193525314331\n",
      "Saved baseline model to:  ./test.h5\n"
     ]
    }
   ],
   "source": [
    "_, baseline_model_accuracy = model.evaluate(test_batches, verbose=1)\n",
    "print('Baseline test accuracy: ', baseline_model_accuracy)\n",
    "\n",
    "keras_file = './test.h5'\n",
    "tf.keras.models.save_model(model, keras_file, include_optimizer=False)\n",
    "print('Saved baseline model to: ', keras_file)"
   ]
  }
 ],
 "metadata": {
  "environment": {
   "name": "tf2-gpu.2-1.m46",
   "type": "gcloud",
   "uri": "gcr.io/deeplearning-platform-release/tf2-gpu.2-1:m46"
  },
  "kernelspec": {
   "display_name": "Python 3",
   "language": "python",
   "name": "python3"
  },
  "language_info": {
   "codemirror_mode": {
    "name": "ipython",
    "version": 3
   },
   "file_extension": ".py",
   "mimetype": "text/x-python",
   "name": "python",
   "nbconvert_exporter": "python",
   "pygments_lexer": "ipython3",
   "version": "3.6.9"
  },
  "toc": {
   "base_numbering": 1,
   "nav_menu": {},
   "number_sections": true,
   "sideBar": true,
   "skip_h1_title": false,
   "title_cell": "Table of Contents",
   "title_sidebar": "Contents",
   "toc_cell": false,
   "toc_position": {
    "height": "calc(100% - 180px)",
    "left": "10px",
    "top": "150px",
    "width": "498.594px"
   },
   "toc_section_display": true,
   "toc_window_display": false
  }
 },
 "nbformat": 4,
 "nbformat_minor": 4
}
