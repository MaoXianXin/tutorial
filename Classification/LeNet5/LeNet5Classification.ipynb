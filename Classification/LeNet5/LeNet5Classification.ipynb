{
 "cells": [
  {
   "cell_type": "markdown",
   "metadata": {},
   "source": [
    "# 导入函数库"
   ]
  },
  {
   "cell_type": "code",
   "execution_count": 1,
   "metadata": {
    "ExecuteTime": {
     "end_time": "2020-06-04T03:12:20.243379Z",
     "start_time": "2020-06-04T03:12:19.123374Z"
    }
   },
   "outputs": [],
   "source": [
    "import tensorflow as tf\n",
    "import numpy as np\n",
    "from tensorflow import keras  # 在TF2.0版本中,已经是自带Keras了,所以不需要额外安装\n",
    "import tensorflow_datasets as tfds # 这个是之前说过的Tensorflow Datasets"
   ]
  },
  {
   "cell_type": "markdown",
   "metadata": {},
   "source": [
    "# 如果出现显存不够的错误,把这个代码加上"
   ]
  },
  {
   "cell_type": "code",
   "execution_count": 2,
   "metadata": {
    "ExecuteTime": {
     "end_time": "2020-06-04T03:12:20.276647Z",
     "start_time": "2020-06-04T03:12:20.244436Z"
    }
   },
   "outputs": [],
   "source": [
    "# 加入下面这个代码片段主要是因为TF2.0对RTX20系列显卡支持不是很好,容易爆显存,所以设置成用多少占多少显存,而不是一次性全占了(默认)\n",
    "gpus = tf.config.experimental.list_physical_devices('GPU')\n",
    "if gpus:\n",
    "    try:\n",
    "        for gpu in gpus:\n",
    "            tf.config.experimental.set_memory_growth(gpu, True)\n",
    "    except RuntimeError as e:\n",
    "        print(e)"
   ]
  },
  {
   "cell_type": "markdown",
   "metadata": {},
   "source": [
    "# 定义网络结构"
   ]
  },
  {
   "cell_type": "markdown",
   "metadata": {},
   "source": [
    "## 一些参数设置"
   ]
  },
  {
   "cell_type": "code",
   "execution_count": 3,
   "metadata": {
    "ExecuteTime": {
     "end_time": "2020-06-04T03:12:20.292635Z",
     "start_time": "2020-06-04T03:12:20.277865Z"
    }
   },
   "outputs": [],
   "source": [
    "layers = tf.keras.layers\n",
    "models = tf.keras.models"
   ]
  },
  {
   "cell_type": "markdown",
   "metadata": {},
   "source": [
    "## 定义LeNet5用于手势识别"
   ]
  },
  {
   "cell_type": "code",
   "execution_count": 4,
   "metadata": {
    "ExecuteTime": {
     "end_time": "2020-06-04T03:12:20.298633Z",
     "start_time": "2020-06-04T03:12:20.293606Z"
    }
   },
   "outputs": [],
   "source": [
    "def LeNet5(input_shape=(32, 32, 3),\n",
    "         classes=3):\n",
    "    img_input = layers.Input(shape=input_shape)  # 输入节点\n",
    "    \n",
    "    x = layers.Conv2D(64, (5, 5),\n",
    "                      activation='relu',\n",
    "                      padding='valid',\n",
    "                      name='conv1')(img_input)\n",
    "    x = layers.BatchNormalization()(x)\n",
    "    x = layers.AveragePooling2D()(x)\n",
    "    x = layers.Conv2D(64, (5, 5),\n",
    "                      activation='relu',\n",
    "                      padding='valid',\n",
    "                      name='conv2')(x)\n",
    "    x = layers.BatchNormalization()(x)\n",
    "    x = layers.AveragePooling2D()(x)\n",
    "    \n",
    "    x = layers.Flatten()(x)\n",
    "    x = layers.Dense(512, activation='relu', name='fc1')(x)\n",
    "    x = layers.BatchNormalization()(x)\n",
    "    x = layers.Dense(128, activation='relu', name='fc2')(x)\n",
    "    x = layers.BatchNormalization()(x)\n",
    "    x = layers.Dense(classes, activation='softmax', name='predictions')(x)\n",
    "    \n",
    "    inputs = img_input  # inputs是输入节点\n",
    "    outputs = x # outputs是输出节点\n",
    "    model = models.Model(inputs, outputs , name='lenet5')  # 生成一个Model, 需要指定输入和输出\n",
    "    \n",
    "    return model"
   ]
  },
  {
   "cell_type": "markdown",
   "metadata": {
    "ExecuteTime": {
     "end_time": "2020-06-03T06:52:16.860688Z",
     "start_time": "2020-06-03T06:52:16.855923Z"
    }
   },
   "source": [
    "## 声明一个LeNet5模型实例"
   ]
  },
  {
   "cell_type": "code",
   "execution_count": 5,
   "metadata": {
    "ExecuteTime": {
     "end_time": "2020-06-04T03:12:20.797361Z",
     "start_time": "2020-06-04T03:12:20.299503Z"
    }
   },
   "outputs": [],
   "source": [
    "model = LeNet5()"
   ]
  },
  {
   "cell_type": "markdown",
   "metadata": {},
   "source": [
    "## 记录模型训练过程中的日志"
   ]
  },
  {
   "cell_type": "code",
   "execution_count": 6,
   "metadata": {
    "ExecuteTime": {
     "end_time": "2020-06-04T03:12:20.902475Z",
     "start_time": "2020-06-04T03:12:20.798317Z"
    }
   },
   "outputs": [],
   "source": [
    "log_dir = './logs'\n",
    "tensorboard_callback = tf.keras.callbacks.TensorBoard(log_dir=log_dir, histogram_freq=1)"
   ]
  },
  {
   "cell_type": "markdown",
   "metadata": {},
   "source": [
    "## 进行数据增强"
   ]
  },
  {
   "cell_type": "code",
   "execution_count": 7,
   "metadata": {
    "ExecuteTime": {
     "end_time": "2020-06-04T03:12:20.911056Z",
     "start_time": "2020-06-04T03:12:20.903816Z"
    }
   },
   "outputs": [],
   "source": [
    "def convert(image, label):\n",
    "    image = tf.image.convert_image_dtype(image, tf.float32) # Cast and normalize the image to [0,1]\n",
    "    image = tf.image.resize(image, size=[32, 32])\n",
    "    return image, label\n",
    "\n",
    "def augment(image,label):\n",
    "    image,label = convert(image, label)\n",
    "    image = tf.image.random_flip_left_right(image)\n",
    "    image = tf.image.random_brightness(image, max_delta=0.5) # Random brightness\n",
    "    return image,label"
   ]
  },
  {
   "cell_type": "markdown",
   "metadata": {},
   "source": [
    "## 数据读取并预处理"
   ]
  },
  {
   "cell_type": "code",
   "execution_count": 8,
   "metadata": {
    "ExecuteTime": {
     "end_time": "2020-06-04T03:12:21.110899Z",
     "start_time": "2020-06-04T03:12:20.912039Z"
    }
   },
   "outputs": [],
   "source": [
    "# 此处使用tfds的方式构建data pipeline\n",
    "(raw_test, raw_train), metadata = tfds.load(\n",
    "    'rock_paper_scissors', # 数据集名称，这个是手势识别分类数据集，共3个类别\n",
    "    split=['test', 'train'], # 这里的raw_test和split的'test'对应，raw_train和split的'train'对应\n",
    "    with_info=True, # 这个参数和metadata对应\n",
    "    as_supervised=True, # 这个参数的作用是返回tuple形式的(input, label),举个例子，raw_test=tuple(input, label)\n",
    "    shuffle_files=True  # 对数据进行扰乱操作，可以自己体会下设置成False时，下面imshow的时候的结果差别\n",
    ")\n",
    "\n",
    "BATCH_SIZE = 4\n",
    "SHUFFLE_BUFFER_SIZE = 2520\n",
    "\n",
    "# 可以体验下这里是否加prefetch(tf.data.experimental.AUTOTUNE)和cache()的区别，对训练速度，以及CPU负载有影响\n",
    "train_batches = raw_train.shuffle(SHUFFLE_BUFFER_SIZE, reshuffle_each_iteration=True).map(augment).batch(BATCH_SIZE).prefetch(tf.data.experimental.AUTOTUNE)\n",
    "test_batches = raw_test.map(convert).batch(BATCH_SIZE)"
   ]
  },
  {
   "cell_type": "markdown",
   "metadata": {},
   "source": [
    "## 进行模型训练"
   ]
  },
  {
   "cell_type": "code",
   "execution_count": 9,
   "metadata": {
    "ExecuteTime": {
     "end_time": "2020-06-04T03:13:19.499842Z",
     "start_time": "2020-06-04T03:12:21.112184Z"
    },
    "scrolled": true
   },
   "outputs": [
    {
     "name": "stdout",
     "output_type": "stream",
     "text": [
      "Epoch 1/20\n",
      "630/630 [==============================] - 2s 2ms/step - loss: 0.9219 - accuracy: 0.6250\n",
      "Epoch 2/20\n",
      "630/630 [==============================] - 2s 4ms/step - loss: 0.7872 - accuracy: 0.7702\n",
      "Epoch 3/20\n",
      "630/630 [==============================] - 2s 3ms/step - loss: 0.7379 - accuracy: 0.8135\n",
      "Epoch 4/20\n",
      "630/630 [==============================] - 3s 4ms/step - loss: 0.7118 - accuracy: 0.8440\n",
      "Epoch 5/20\n",
      "630/630 [==============================] - 2s 4ms/step - loss: 0.6924 - accuracy: 0.8667\n",
      "Epoch 6/20\n",
      "630/630 [==============================] - 2s 4ms/step - loss: 0.6729 - accuracy: 0.8837\n",
      "Epoch 7/20\n",
      "630/630 [==============================] - 3s 4ms/step - loss: 0.6753 - accuracy: 0.8790\n",
      "Epoch 8/20\n",
      "630/630 [==============================] - 3s 4ms/step - loss: 0.6524 - accuracy: 0.9071\n",
      "Epoch 9/20\n",
      "630/630 [==============================] - 3s 4ms/step - loss: 0.6452 - accuracy: 0.9155\n",
      "Epoch 10/20\n",
      "630/630 [==============================] - 2s 4ms/step - loss: 0.6495 - accuracy: 0.9067\n",
      "Epoch 11/20\n",
      "630/630 [==============================] - 2s 3ms/step - loss: 0.6261 - accuracy: 0.9302\n",
      "Epoch 12/20\n",
      "630/630 [==============================] - 2s 4ms/step - loss: 0.6369 - accuracy: 0.9183\n",
      "Epoch 13/20\n",
      "630/630 [==============================] - 2s 4ms/step - loss: 0.6384 - accuracy: 0.9143\n",
      "Epoch 14/20\n",
      "630/630 [==============================] - 2s 3ms/step - loss: 0.6475 - accuracy: 0.9040\n",
      "Epoch 15/20\n",
      "630/630 [==============================] - 2s 3ms/step - loss: 0.6280 - accuracy: 0.9246\n",
      "Epoch 16/20\n",
      "630/630 [==============================] - 2s 3ms/step - loss: 0.6156 - accuracy: 0.9381\n",
      "Epoch 17/20\n",
      "630/630 [==============================] - 2s 3ms/step - loss: 0.5996 - accuracy: 0.9560\n",
      "Epoch 18/20\n",
      "630/630 [==============================] - 2s 4ms/step - loss: 0.6096 - accuracy: 0.9468\n",
      "Epoch 19/20\n",
      "630/630 [==============================] - 2s 4ms/step - loss: 0.6267 - accuracy: 0.9270\n",
      "Epoch 20/20\n",
      "630/630 [==============================] - 3s 4ms/step - loss: 0.6085 - accuracy: 0.9456\n"
     ]
    },
    {
     "data": {
      "text/plain": [
       "<tensorflow.python.keras.callbacks.History at 0x7f3d6c3780b8>"
      ]
     },
     "execution_count": 9,
     "metadata": {},
     "output_type": "execute_result"
    }
   ],
   "source": [
    "model.compile(optimizer=tf.keras.optimizers.Adam(learning_rate=1e-4),\n",
    "             loss=tf.keras.losses.SparseCategoricalCrossentropy(from_logits=True),\n",
    "             metrics=['accuracy'])\n",
    "\n",
    "model.fit(\n",
    "    train_batches,\n",
    "    epochs=20,\n",
    "    callbacks=[tensorboard_callback]\n",
    ")"
   ]
  },
  {
   "cell_type": "markdown",
   "metadata": {},
   "source": [
    "## Baseline的test acc"
   ]
  },
  {
   "cell_type": "code",
   "execution_count": 10,
   "metadata": {
    "ExecuteTime": {
     "end_time": "2020-06-04T03:13:19.943926Z",
     "start_time": "2020-06-04T03:13:19.500823Z"
    }
   },
   "outputs": [
    {
     "name": "stdout",
     "output_type": "stream",
     "text": [
      "93/93 [==============================] - 0s 2ms/step - loss: 0.6502 - accuracy: 0.9140\n",
      "Baseline test accuracy:  0.9139785170555115\n",
      "Saved baseline model to:  ./test.h5\n"
     ]
    }
   ],
   "source": [
    "_, baseline_model_accuracy = model.evaluate(test_batches, verbose=1)\n",
    "print('Baseline test accuracy: ', baseline_model_accuracy)\n",
    "\n",
    "keras_file = './test.h5'\n",
    "tf.keras.models.save_model(model, keras_file, include_optimizer=False)\n",
    "print('Saved baseline model to: ', keras_file)"
   ]
  }
 ],
 "metadata": {
  "environment": {
   "name": "tf2-gpu.2-1.m46",
   "type": "gcloud",
   "uri": "gcr.io/deeplearning-platform-release/tf2-gpu.2-1:m46"
  },
  "kernelspec": {
   "display_name": "Python 3",
   "language": "python",
   "name": "python3"
  },
  "language_info": {
   "codemirror_mode": {
    "name": "ipython",
    "version": 3
   },
   "file_extension": ".py",
   "mimetype": "text/x-python",
   "name": "python",
   "nbconvert_exporter": "python",
   "pygments_lexer": "ipython3",
   "version": "3.6.9"
  },
  "toc": {
   "base_numbering": 1,
   "nav_menu": {},
   "number_sections": true,
   "sideBar": true,
   "skip_h1_title": false,
   "title_cell": "Table of Contents",
   "title_sidebar": "Contents",
   "toc_cell": false,
   "toc_position": {
    "height": "calc(100% - 180px)",
    "left": "10px",
    "top": "150px",
    "width": "498.594px"
   },
   "toc_section_display": true,
   "toc_window_display": true
  }
 },
 "nbformat": 4,
 "nbformat_minor": 4
}
