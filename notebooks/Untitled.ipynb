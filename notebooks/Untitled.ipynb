{
 "cells": [
  {
   "cell_type": "markdown",
   "metadata": {},
   "source": [
    "1. 用简单的网络(Pytorch CPU版本)训练cifar10数据集，得到53%左右的准确率，并保存模型为cifar10.pth\n",
    "2. 加载训练过的cifar10.pth模型，并剪枝，稀疏度设置为50%，保存模型为cifar10_50%.pth\n",
    "3. 加载cifar10_50%.pth模型，验证准确率，发现有所下降，再一次进行剪枝，这一次设置稀疏度为80%，保存模型为cifar10_80%.pth\n",
    "4. 加载cifar10_80%.pth模型，验证准确率，发现进一步下降     解决准确率下降的办法就是训练+剪枝+训练+剪枝，不断循环"
   ]
  },
  {
   "cell_type": "code",
   "execution_count": null,
   "metadata": {},
   "outputs": [],
   "source": [
    "import torch\n",
    "import torch.nn as nn\n",
    "import torchvision\n",
    "import "
   ]
  }
 ],
 "metadata": {
  "kernelspec": {
   "display_name": "Python 3",
   "language": "python",
   "name": "python3"
  },
  "language_info": {
   "codemirror_mode": {
    "name": "ipython",
    "version": 3
   },
   "file_extension": ".py",
   "mimetype": "text/x-python",
   "name": "python",
   "nbconvert_exporter": "python",
   "pygments_lexer": "ipython3",
   "version": "3.7.7"
  },
  "toc": {
   "base_numbering": 1,
   "nav_menu": {},
   "number_sections": true,
   "sideBar": true,
   "skip_h1_title": false,
   "title_cell": "Table of Contents",
   "title_sidebar": "Contents",
   "toc_cell": false,
   "toc_position": {},
   "toc_section_display": true,
   "toc_window_display": false
  }
 },
 "nbformat": 4,
 "nbformat_minor": 4
}
