{
 "cells": [
  {
   "cell_type": "markdown",
   "metadata": {},
   "source": [
    "# 导入函数库"
   ]
  },
  {
   "cell_type": "code",
   "execution_count": 1,
   "metadata": {
    "ExecuteTime": {
     "end_time": "2020-05-14T06:41:38.268653Z",
     "start_time": "2020-05-14T06:41:37.639107Z"
    }
   },
   "outputs": [],
   "source": [
    "import os\n",
    "from tensorflow.keras.applications.mobilenet_v2 import MobileNetV2 as Net\n",
    "import tensorflow as tf\n",
    "from tensorflow.python.framework import graph_io\n",
    "from tensorflow.keras.models import load_model\n",
    "import numpy as np\n",
    "from tensorflow.keras.preprocessing import image\n",
    "from tensorflow.keras.applications.mobilenet_v2 import preprocess_input, decode_predictions\n",
    "import time"
   ]
  },
  {
   "cell_type": "markdown",
   "metadata": {},
   "source": [
    "# 声明一个MobielnetV2实例，加载的是在ImageNet上预训练过的模型，使用的是keras的.h5模型"
   ]
  },
  {
   "cell_type": "code",
   "execution_count": 2,
   "metadata": {
    "ExecuteTime": {
     "end_time": "2020-05-14T06:41:41.712339Z",
     "start_time": "2020-05-14T06:41:38.269688Z"
    }
   },
   "outputs": [
    {
     "name": "stdout",
     "output_type": "stream",
     "text": [
      "WARNING:tensorflow:From /opt/conda/lib/python3.7/site-packages/tensorflow_core/python/ops/resource_variable_ops.py:1630: calling BaseResourceVariable.__init__ (from tensorflow.python.ops.resource_variable_ops) with constraint is deprecated and will be removed in a future version.\n",
      "Instructions for updating:\n",
      "If using Keras pass *_constraint arguments to layers.\n"
     ]
    }
   ],
   "source": [
    "model = Net(weights='imagenet')"
   ]
  },
  {
   "cell_type": "markdown",
   "metadata": {},
   "source": [
    "## 保存MobilenetV2到model文件下，命名为mobilenetv2.h5"
   ]
  },
  {
   "cell_type": "code",
   "execution_count": 3,
   "metadata": {
    "ExecuteTime": {
     "end_time": "2020-05-14T06:41:45.726467Z",
     "start_time": "2020-05-14T06:41:41.713370Z"
    }
   },
   "outputs": [],
   "source": [
    "os.makedirs('./model', exist_ok=True)  # 使用这种方式有个好处，如果已经存在model文件夹了，不会报错\n",
    "\n",
    "model.save('./model/mobilenetv2.h5')"
   ]
  },
  {
   "cell_type": "markdown",
   "metadata": {},
   "source": [
    "# Clear any previous session"
   ]
  },
  {
   "cell_type": "code",
   "execution_count": 4,
   "metadata": {
    "ExecuteTime": {
     "end_time": "2020-05-14T06:41:45.779016Z",
     "start_time": "2020-05-14T06:41:45.728651Z"
    }
   },
   "outputs": [],
   "source": [
    "tf.keras.backend.clear_session()"
   ]
  },
  {
   "cell_type": "markdown",
   "metadata": {},
   "source": [
    "# 一些参数设置"
   ]
  },
  {
   "cell_type": "code",
   "execution_count": 5,
   "metadata": {
    "ExecuteTime": {
     "end_time": "2020-05-14T06:41:45.781507Z",
     "start_time": "2020-05-14T06:41:45.779885Z"
    }
   },
   "outputs": [],
   "source": [
    "save_pb_dir = './model'\n",
    "model_fname = './model/mobilenetv2.h5'"
   ]
  },
  {
   "cell_type": "markdown",
   "metadata": {},
   "source": [
    "# 封装freeze函数，用于把.h5模型文件转换成.pb"
   ]
  },
  {
   "cell_type": "code",
   "execution_count": 6,
   "metadata": {
    "ExecuteTime": {
     "end_time": "2020-05-14T06:41:45.787696Z",
     "start_time": "2020-05-14T06:41:45.782361Z"
    }
   },
   "outputs": [],
   "source": [
    "def freeze_graph(graph, session, output, save_pb_dir='.', save_pb_name='fp32_frozen_graph.pb', save_pb_as_text=False):\n",
    "    with graph.as_default():\n",
    "        graphdef_inf = tf.graph_util.remove_training_nodes(graph.as_graph_def())\n",
    "        # 把变量转化成常量\n",
    "        graphdef_frozen = tf.graph_util.convert_variables_to_constants(session, graphdef_inf, output)\n",
    "        # 保存fp32_frozen_graph.pb到本地\n",
    "        graph_io.write_graph(graphdef_frozen, save_pb_dir, save_pb_name, as_text=save_pb_as_text)\n",
    "        return graphdef_frozen"
   ]
  },
  {
   "cell_type": "markdown",
   "metadata": {},
   "source": [
    "# This line must be executed before loading Keras model"
   ]
  },
  {
   "cell_type": "code",
   "execution_count": 7,
   "metadata": {
    "ExecuteTime": {
     "end_time": "2020-05-14T06:41:45.796359Z",
     "start_time": "2020-05-14T06:41:45.789303Z"
    }
   },
   "outputs": [],
   "source": [
    "tf.keras.backend.set_learning_phase(0)"
   ]
  },
  {
   "cell_type": "markdown",
   "metadata": {},
   "source": [
    "# 加载mobilenetv2.h5模型"
   ]
  },
  {
   "cell_type": "code",
   "execution_count": 8,
   "metadata": {
    "ExecuteTime": {
     "end_time": "2020-05-14T06:41:48.304249Z",
     "start_time": "2020-05-14T06:41:45.797640Z"
    }
   },
   "outputs": [
    {
     "name": "stdout",
     "output_type": "stream",
     "text": [
      "WARNING:tensorflow:From /opt/conda/lib/python3.7/site-packages/tensorflow_core/python/ops/init_ops.py:97: calling GlorotUniform.__init__ (from tensorflow.python.ops.init_ops) with dtype is deprecated and will be removed in a future version.\n",
      "Instructions for updating:\n",
      "Call initializer instance with the dtype argument instead of passing it to the constructor\n",
      "WARNING:tensorflow:From /opt/conda/lib/python3.7/site-packages/tensorflow_core/python/ops/init_ops.py:97: calling Zeros.__init__ (from tensorflow.python.ops.init_ops) with dtype is deprecated and will be removed in a future version.\n",
      "Instructions for updating:\n",
      "Call initializer instance with the dtype argument instead of passing it to the constructor\n",
      "WARNING:tensorflow:From /opt/conda/lib/python3.7/site-packages/tensorflow_core/python/ops/init_ops.py:97: calling Ones.__init__ (from tensorflow.python.ops.init_ops) with dtype is deprecated and will be removed in a future version.\n",
      "Instructions for updating:\n",
      "Call initializer instance with the dtype argument instead of passing it to the constructor\n",
      "WARNING:tensorflow:No training configuration found in save file: the model was *not* compiled. Compile it manually.\n"
     ]
    }
   ],
   "source": [
    "model = load_model(model_fname)"
   ]
  },
  {
   "cell_type": "markdown",
   "metadata": {},
   "source": [
    "## 生成一个Session，里面包含了上面加载过来的模型结构和参数"
   ]
  },
  {
   "cell_type": "code",
   "execution_count": 9,
   "metadata": {
    "ExecuteTime": {
     "end_time": "2020-05-14T06:41:48.308929Z",
     "start_time": "2020-05-14T06:41:48.305532Z"
    }
   },
   "outputs": [],
   "source": [
    "session = tf.keras.backend.get_session()"
   ]
  },
  {
   "cell_type": "markdown",
   "metadata": {},
   "source": [
    "## 输入和输出节点收集"
   ]
  },
  {
   "cell_type": "code",
   "execution_count": 10,
   "metadata": {
    "ExecuteTime": {
     "end_time": "2020-05-14T06:41:48.322797Z",
     "start_time": "2020-05-14T06:41:48.309957Z"
    }
   },
   "outputs": [],
   "source": [
    "input_names = [t.op.name for t in model.inputs]\n",
    "output_names = [t.op.name for t in model.outputs]"
   ]
  },
  {
   "cell_type": "code",
   "execution_count": 11,
   "metadata": {
    "ExecuteTime": {
     "end_time": "2020-05-14T06:41:48.330122Z",
     "start_time": "2020-05-14T06:41:48.323695Z"
    }
   },
   "outputs": [
    {
     "name": "stdout",
     "output_type": "stream",
     "text": [
      "['input_1'] ['Logits/Softmax']\n"
     ]
    }
   ],
   "source": [
    "print(input_names, output_names)"
   ]
  },
  {
   "cell_type": "markdown",
   "metadata": {},
   "source": [
    "## 进行模型的freeze操作，保存fp32_frozen_graph.pb，并返回fp32_frozen_graph"
   ]
  },
  {
   "cell_type": "code",
   "execution_count": 12,
   "metadata": {
    "ExecuteTime": {
     "end_time": "2020-05-14T06:41:48.693806Z",
     "start_time": "2020-05-14T06:41:48.331214Z"
    }
   },
   "outputs": [
    {
     "name": "stdout",
     "output_type": "stream",
     "text": [
      "WARNING:tensorflow:From <ipython-input-6-b2d2df7fefa1>:3: remove_training_nodes (from tensorflow.python.framework.graph_util_impl) is deprecated and will be removed in a future version.\n",
      "Instructions for updating:\n",
      "Use `tf.compat.v1.graph_util.remove_training_nodes`\n",
      "WARNING:tensorflow:From <ipython-input-6-b2d2df7fefa1>:5: convert_variables_to_constants (from tensorflow.python.framework.graph_util_impl) is deprecated and will be removed in a future version.\n",
      "Instructions for updating:\n",
      "Use `tf.compat.v1.graph_util.convert_variables_to_constants`\n",
      "WARNING:tensorflow:From /opt/conda/lib/python3.7/site-packages/tensorflow_core/python/framework/graph_util_impl.py:277: extract_sub_graph (from tensorflow.python.framework.graph_util_impl) is deprecated and will be removed in a future version.\n",
      "Instructions for updating:\n",
      "Use `tf.compat.v1.graph_util.extract_sub_graph`\n",
      "INFO:tensorflow:Froze 262 variables.\n",
      "INFO:tensorflow:Converted 262 variables to const ops.\n"
     ]
    }
   ],
   "source": [
    "fp32_frozen_graph = freeze_graph(session.graph, session, output_names, save_pb_dir)"
   ]
  },
  {
   "cell_type": "markdown",
   "metadata": {},
   "source": [
    "# 把fp32_frozen_graph.pb转化成fp32_frozen_graph.tflite，相当于FP32->FP32"
   ]
  },
  {
   "cell_type": "code",
   "execution_count": 13,
   "metadata": {
    "ExecuteTime": {
     "end_time": "2020-05-14T06:41:48.704340Z",
     "start_time": "2020-05-14T06:41:48.700122Z"
    }
   },
   "outputs": [],
   "source": [
    "graph_def_file = './model/fp32_frozen_graph.pb'\n",
    "input_arrays = ['input_1']  # 输入节点\n",
    "output_arrays = ['Logits/Softmax']  # 输出节点"
   ]
  },
  {
   "cell_type": "code",
   "execution_count": 14,
   "metadata": {
    "ExecuteTime": {
     "end_time": "2020-05-14T06:41:49.724425Z",
     "start_time": "2020-05-14T06:41:48.705539Z"
    }
   },
   "outputs": [
    {
     "data": {
      "text/plain": [
       "13973880"
      ]
     },
     "execution_count": 14,
     "metadata": {},
     "output_type": "execute_result"
    }
   ],
   "source": [
    "converter = tf.lite.TFLiteConverter.from_frozen_graph(graph_def_file, input_arrays, output_arrays) # 得到converter对象\n",
    "tflite_model = converter.convert() # 进行转换\n",
    "open('./model/fp32_frozen_graph.tflite', 'wb').write(tflite_model) # 保存fp32_frozen_graph.tflite到本地"
   ]
  },
  {
   "cell_type": "markdown",
   "metadata": {},
   "source": [
    "# 把fp32_frozen_graph.pb转化成int8_frozen_graph.tflite，相当于FP32->INT8"
   ]
  },
  {
   "cell_type": "markdown",
   "metadata": {},
   "source": [
    "## 加载一张图片用于calibration"
   ]
  },
  {
   "cell_type": "code",
   "execution_count": 15,
   "metadata": {
    "ExecuteTime": {
     "end_time": "2020-05-14T06:41:49.754071Z",
     "start_time": "2020-05-14T06:41:49.725373Z"
    }
   },
   "outputs": [],
   "source": [
    "img_path = './elephant.jpg'\n",
    "\n",
    "image_size = [224, 224, 3]\n",
    "img = image.load_img(img_path, target_size=image_size[:2])\n",
    "x = image.img_to_array(img)  # 转换成numpy array\n",
    "x = np.expand_dims(x, axis=0) # 添加一个维度，变成[batch_size, H, W, C]\n",
    "x = preprocess_input(x) # 对图片进行预处理"
   ]
  },
  {
   "cell_type": "markdown",
   "metadata": {},
   "source": [
    "## 一些参数设置"
   ]
  },
  {
   "cell_type": "code",
   "execution_count": 16,
   "metadata": {
    "ExecuteTime": {
     "end_time": "2020-05-14T06:41:49.757131Z",
     "start_time": "2020-05-14T06:41:49.754920Z"
    }
   },
   "outputs": [],
   "source": [
    "num_calibration_batches = 2\n",
    "BATCH_SIZE = 1\n",
    "batched_input = np.zeros((BATCH_SIZE * num_calibration_batches, 224, 224, 3), dtype=np.float32)"
   ]
  },
  {
   "cell_type": "markdown",
   "metadata": {},
   "source": [
    "## 得到batched_input,用于calibration"
   ]
  },
  {
   "cell_type": "code",
   "execution_count": 17,
   "metadata": {
    "ExecuteTime": {
     "end_time": "2020-05-14T06:41:49.769626Z",
     "start_time": "2020-05-14T06:41:49.757949Z"
    }
   },
   "outputs": [
    {
     "name": "stdout",
     "output_type": "stream",
     "text": [
      "(1, 224, 224, 3) (1, 224, 224, 3)\n",
      "(1, 224, 224, 3) (1, 224, 224, 3)\n",
      "Calibration data shape:  (2, 224, 224, 3)\n"
     ]
    }
   ],
   "source": [
    "config = tf.ConfigProto()\n",
    "config.gpu_options.allow_growth = True  # 这种设置的好处是，tensorflow不会一次性占用全部显存，而是用多少占多少\n",
    "with tf.Session(graph=tf.Graph(), config=config) as sess:\n",
    "    next_element = tf.convert_to_tensor(x)  # 把numpy array转换成tensor\n",
    "    for i in range(num_calibration_batches):\n",
    "        print(batched_input[i*BATCH_SIZE:(i+1)*BATCH_SIZE, :].shape, sess.run(next_element).shape)\n",
    "        batched_input[i*BATCH_SIZE:(i+1)*BATCH_SIZE, :] = sess.run(next_element)\n",
    "\n",
    "print('Calibration data shape: ', batched_input.shape)"
   ]
  },
  {
   "cell_type": "markdown",
   "metadata": {},
   "source": [
    "## 封装calibration_input函数"
   ]
  },
  {
   "cell_type": "code",
   "execution_count": 18,
   "metadata": {
    "ExecuteTime": {
     "end_time": "2020-05-14T06:41:49.772412Z",
     "start_time": "2020-05-14T06:41:49.770512Z"
    }
   },
   "outputs": [],
   "source": [
    "def calibration_input_fn_gen():\n",
    "    for i in range(num_calibration_batches):\n",
    "        yield [batched_input[i*BATCH_SIZE:(i+1)*BATCH_SIZE, :]]"
   ]
  },
  {
   "cell_type": "markdown",
   "metadata": {},
   "source": [
    "## 进行FP32->INT8的转化"
   ]
  },
  {
   "cell_type": "code",
   "execution_count": 19,
   "metadata": {
    "ExecuteTime": {
     "end_time": "2020-05-14T06:41:49.781356Z",
     "start_time": "2020-05-14T06:41:49.773161Z"
    }
   },
   "outputs": [],
   "source": [
    "graph_def_file = './model/fp32_frozen_graph.pb'\n",
    "input_arrays = ['input_1']\n",
    "output_arrays = ['Logits/Softmax']"
   ]
  },
  {
   "cell_type": "code",
   "execution_count": 20,
   "metadata": {
    "ExecuteTime": {
     "end_time": "2020-05-14T06:41:51.138976Z",
     "start_time": "2020-05-14T06:41:49.782335Z"
    }
   },
   "outputs": [
    {
     "data": {
      "text/plain": [
       "3979896"
      ]
     },
     "execution_count": 20,
     "metadata": {},
     "output_type": "execute_result"
    }
   ],
   "source": [
    "converter = tf.lite.TFLiteConverter.from_frozen_graph(graph_def_file, input_arrays, output_arrays) # 得到converter对象\n",
    "converter.optimizations = [tf.lite.Optimize.DEFAULT]\n",
    "converter.representative_dataset = calibration_input_fn_gen # 引入用于calibration的batch数据\n",
    "tflite_model = converter.convert() # 进行转换\n",
    "open('./model/int8_frozen_graph.tflite', 'wb').write(tflite_model) # 把int8_frozen_graph.tflite写到本地"
   ]
  },
  {
   "cell_type": "markdown",
   "metadata": {},
   "source": [
    "# 推断函数封装"
   ]
  },
  {
   "cell_type": "code",
   "execution_count": 21,
   "metadata": {
    "ExecuteTime": {
     "end_time": "2020-05-14T06:41:51.143275Z",
     "start_time": "2020-05-14T06:41:51.139963Z"
    }
   },
   "outputs": [],
   "source": [
    "def tfLiteInference(input_details, interpreter, output_details, x):\n",
    "    interpreter.set_tensor(input_details[0]['index'], x) # 设置输入\n",
    "    \n",
    "    interpreter.invoke() # 执行推断\n",
    "    \n",
    "    output_data = interpreter.get_tensor(output_details[0]['index']) # 设置输出\n",
    "    \n",
    "    return output_data"
   ]
  },
  {
   "cell_type": "markdown",
   "metadata": {},
   "source": [
    "# 测试FP32的.tflite的FPS"
   ]
  },
  {
   "cell_type": "code",
   "execution_count": 22,
   "metadata": {
    "ExecuteTime": {
     "end_time": "2020-05-14T06:41:51.153528Z",
     "start_time": "2020-05-14T06:41:51.145726Z"
    }
   },
   "outputs": [],
   "source": [
    "interpreter = tf.lite.Interpreter(model_path='./model/fp32_frozen_graph.tflite') # 得到interpreter对象\n",
    "interpreter.allocate_tensors() # 为tensor分配内存\n",
    "\n",
    "input_details = interpreter.get_input_details() # 获取输入\n",
    "output_details = interpreter.get_output_details() # 获取输出"
   ]
  },
  {
   "cell_type": "code",
   "execution_count": 23,
   "metadata": {
    "ExecuteTime": {
     "end_time": "2020-05-14T06:43:08.662812Z",
     "start_time": "2020-05-14T06:41:51.154509Z"
    }
   },
   "outputs": [
    {
     "name": "stdout",
     "output_type": "stream",
     "text": [
      "Downloading data from https://storage.googleapis.com/download.tensorflow.org/data/imagenet_class_index.json\n",
      "40960/35363 [==================================] - 0s 0us/step\n",
      "Predicted:  [('n02504458', 'African_elephant', 0.40645552), ('n02504013', 'Indian_elephant', 0.26055485), ('n01871265', 'tusker', 0.14443952)]\n",
      "average(sec):0.02, fps:51.79\n"
     ]
    }
   ],
   "source": [
    "times =[]\n",
    "output_data = tfLiteInference(input_details, interpreter, output_details, x) # 执行推断\n",
    "\n",
    "print('Predicted: ', decode_predictions(output_data, top=3)[0])\n",
    "\n",
    "# 获取FPS\n",
    "for i in range(2000):\n",
    "    start_time = time.time()\n",
    "    # 此处的x输入来源于上面的加载一张图片用于calibration\n",
    "    output_data = tfLiteInference(input_details, interpreter, output_details, x)\n",
    "    delta = (time.time() - start_time)\n",
    "    times.append(delta)\n",
    "mean_delta = np.array(times).mean()\n",
    "fps = 1 / mean_delta\n",
    "print('average(sec):{:.2f}, fps:{:.2f}'.format(mean_delta, fps))"
   ]
  },
  {
   "cell_type": "markdown",
   "metadata": {
    "ExecuteTime": {
     "end_time": "2020-05-14T03:22:06.758743Z",
     "start_time": "2020-05-14T03:22:06.756474Z"
    }
   },
   "source": [
    "我发现Tensorflow Lite的模型在不同平台上，性能不一样，在微星台式机上是25FPS, 在微星笔记本上是64FPS"
   ]
  },
  {
   "cell_type": "markdown",
   "metadata": {},
   "source": [
    "# 测试INT8的.tflite的FPS"
   ]
  },
  {
   "cell_type": "code",
   "execution_count": 24,
   "metadata": {
    "ExecuteTime": {
     "end_time": "2020-05-14T06:43:08.667240Z",
     "start_time": "2020-05-14T06:43:08.663747Z"
    }
   },
   "outputs": [],
   "source": [
    "interpreter = tf.lite.Interpreter(model_path='./model/int8_frozen_graph.tflite') # 得到interpreter对象\n",
    "interpreter.allocate_tensors() # 为tensor分配内存\n",
    "\n",
    "input_details = interpreter.get_input_details() # 获取输入\n",
    "output_details = interpreter.get_output_details() # 获取输出"
   ]
  },
  {
   "cell_type": "code",
   "execution_count": 25,
   "metadata": {
    "ExecuteTime": {
     "end_time": "2020-05-14T06:43:28.412284Z",
     "start_time": "2020-05-14T06:43:08.668099Z"
    }
   },
   "outputs": [
    {
     "name": "stdout",
     "output_type": "stream",
     "text": [
      "Predicted:  [('n02504458', 'African_elephant', 0.44921875), ('n02504013', 'Indian_elephant', 0.1953125), ('n01871265', 'tusker', 0.1328125)]\n",
      "average(sec):1.28, fps:0.78\n"
     ]
    }
   ],
   "source": [
    "times = []\n",
    "\n",
    "output_data = tfLiteInference(input_details, interpreter, output_details, x) # 执行推断\n",
    "\n",
    "print('Predicted: ', decode_predictions(output_data, top=3)[0])\n",
    "\n",
    "# 获取FPS\n",
    "for i in range(20):\n",
    "    start_time = time.time()\n",
    "    # 此处的x输入来源于上面的加载一张图片用于calibration\n",
    "    output_data = tfLiteInference(input_details, interpreter, output_details, x)\n",
    "    delta = (time.time() - start_time)\n",
    "    times.append(delta)\n",
    "mean_delta = np.array(times).mean()\n",
    "fps = 1 / mean_delta\n",
    "print('average(sec):{:.2f}, fps:{:.2f}'.format(mean_delta, fps))"
   ]
  },
  {
   "cell_type": "code",
   "execution_count": null,
   "metadata": {},
   "outputs": [],
   "source": []
  }
 ],
 "metadata": {
  "environment": {
   "name": "tf-gpu.1-15.m47",
   "type": "gcloud",
   "uri": "gcr.io/deeplearning-platform-release/tf-gpu.1-15:m47"
  },
  "kernelspec": {
   "display_name": "Python 3",
   "language": "python",
   "name": "python3"
  },
  "language_info": {
   "codemirror_mode": {
    "name": "ipython",
    "version": 3
   },
   "file_extension": ".py",
   "mimetype": "text/x-python",
   "name": "python",
   "nbconvert_exporter": "python",
   "pygments_lexer": "ipython3",
   "version": "3.7.6"
  },
  "toc": {
   "base_numbering": 1,
   "nav_menu": {},
   "number_sections": true,
   "sideBar": true,
   "skip_h1_title": false,
   "title_cell": "Table of Contents",
   "title_sidebar": "Contents",
   "toc_cell": false,
   "toc_position": {},
   "toc_section_display": true,
   "toc_window_display": true
  }
 },
 "nbformat": 4,
 "nbformat_minor": 4
}
