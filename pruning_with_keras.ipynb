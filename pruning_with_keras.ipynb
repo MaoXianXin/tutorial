{
 "cells": [
  {
   "cell_type": "markdown",
   "metadata": {
    "colab_type": "text",
    "id": "qFdPvlXBOdUN"
   },
   "source": [
    "# Pruning in Keras example"
   ]
  },
  {
   "cell_type": "markdown",
   "metadata": {
    "colab_type": "text",
    "id": "Bjmi3qZeu_xk"
   },
   "source": [
    "## Overview\n",
    "\n",
    "Welcome to an end-to-end example for magnitude-based *weight pruning*.\n",
    "\n",
    "### Other pages\n",
    "For an introduction to what pruning is and to determine if you should use it (including what's supported), see the [overview page](https://www.tensorflow.org/model_optimization/guide/pruning).\n",
    "\n",
    "To quickly find the APIs you need for your use case (beyond fully pruning a model with 80% sparsity), see the\n",
    "[comprehensive guide](https://www.tensorflow.org/model_optimization/guide/pruning/comprehensive_guide.md).\n",
    "\n",
    "### Summary\n",
    "\n",
    "In this tutorial, you will:\n",
    "\n",
    "1.   Train a `tf.keras` model for MNIST from scratch.\n",
    "2.   Fine tune the model by applying the pruning API and see the accuracy.\n",
    "3.   Create 3x smaller TF and TFLite models from pruning.\n",
    "4.   Create a 10x smaller TFLite model from combining pruning and post-training quantization.\n",
    "5.   See the persistence of accuracy from TF to TFLite."
   ]
  },
  {
   "cell_type": "markdown",
   "metadata": {
    "colab_type": "text",
    "id": "yEAZYXvZU_XG"
   },
   "source": [
    "## Setup"
   ]
  },
  {
   "cell_type": "code",
   "execution_count": 1,
   "metadata": {
    "ExecuteTime": {
     "end_time": "2020-05-28T12:49:28.707683Z",
     "start_time": "2020-05-28T12:49:27.869908Z"
    },
    "colab": {},
    "colab_type": "code",
    "id": "yJwIonXEVJo6"
   },
   "outputs": [],
   "source": [
    "import tempfile\n",
    "import os\n",
    "\n",
    "import tensorflow as tf\n",
    "import numpy as np\n",
    "\n",
    "from tensorflow import keras\n",
    "\n",
    "%load_ext tensorboard"
   ]
  },
  {
   "cell_type": "code",
   "execution_count": 2,
   "metadata": {
    "ExecuteTime": {
     "end_time": "2020-05-28T12:49:28.769684Z",
     "start_time": "2020-05-28T12:49:28.709040Z"
    }
   },
   "outputs": [],
   "source": [
    "# 加入下面这个代码片段主要是因为TF2.0对RTX20系列显卡支持不是很好,容易爆显存,所以设置成用多少占多少显存,而不是一次性全占了(默认)\n",
    "gpus = tf.config.experimental.list_physical_devices('GPU')\n",
    "if gpus:\n",
    "    try:\n",
    "        for gpu in gpus:\n",
    "            tf.config.experimental.set_memory_growth(gpu, True)\n",
    "    except RuntimeError as e:\n",
    "        print(e)"
   ]
  },
  {
   "cell_type": "markdown",
   "metadata": {
    "colab_type": "text",
    "id": "psViY5PRDurp"
   },
   "source": [
    "## Train a model for MNIST without pruning"
   ]
  },
  {
   "cell_type": "code",
   "execution_count": 3,
   "metadata": {
    "ExecuteTime": {
     "end_time": "2020-05-28T12:49:43.670796Z",
     "start_time": "2020-05-28T12:49:28.770676Z"
    },
    "colab": {},
    "colab_type": "code",
    "id": "pbY-KGMPvbW9"
   },
   "outputs": [
    {
     "name": "stdout",
     "output_type": "stream",
     "text": [
      "Epoch 1/10\n",
      "352/352 [==============================] - 1s 3ms/step - loss: 1.7167 - accuracy: 0.3981 - val_loss: 1.5257 - val_accuracy: 0.4848\n",
      "Epoch 2/10\n",
      "352/352 [==============================] - 1s 3ms/step - loss: 1.4413 - accuracy: 0.5017 - val_loss: 1.4150 - val_accuracy: 0.5062\n",
      "Epoch 3/10\n",
      "352/352 [==============================] - 1s 3ms/step - loss: 1.3535 - accuracy: 0.5312 - val_loss: 1.3299 - val_accuracy: 0.5452\n",
      "Epoch 4/10\n",
      "352/352 [==============================] - 1s 3ms/step - loss: 1.3005 - accuracy: 0.5502 - val_loss: 1.3074 - val_accuracy: 0.5572\n",
      "Epoch 5/10\n",
      "352/352 [==============================] - 1s 3ms/step - loss: 1.2573 - accuracy: 0.5660 - val_loss: 1.2679 - val_accuracy: 0.5632\n",
      "Epoch 6/10\n",
      "352/352 [==============================] - 1s 3ms/step - loss: 1.2276 - accuracy: 0.5739 - val_loss: 1.2605 - val_accuracy: 0.5630\n",
      "Epoch 7/10\n",
      "352/352 [==============================] - 1s 3ms/step - loss: 1.1987 - accuracy: 0.5827 - val_loss: 1.2289 - val_accuracy: 0.5762\n",
      "Epoch 8/10\n",
      "352/352 [==============================] - 1s 3ms/step - loss: 1.1750 - accuracy: 0.5946 - val_loss: 1.2112 - val_accuracy: 0.5872\n",
      "Epoch 9/10\n",
      "352/352 [==============================] - 1s 3ms/step - loss: 1.1570 - accuracy: 0.5985 - val_loss: 1.2132 - val_accuracy: 0.5784\n",
      "Epoch 10/10\n",
      "352/352 [==============================] - 1s 3ms/step - loss: 1.1367 - accuracy: 0.6061 - val_loss: 1.1949 - val_accuracy: 0.5912\n"
     ]
    },
    {
     "data": {
      "text/plain": [
       "<tensorflow.python.keras.callbacks.History at 0x7fa1e4c04c88>"
      ]
     },
     "execution_count": 3,
     "metadata": {},
     "output_type": "execute_result"
    }
   ],
   "source": [
    "# Load MNIST dataset\n",
    "mnist = keras.datasets.cifar10\n",
    "(train_images, train_labels), (test_images, test_labels) = mnist.load_data()\n",
    "train_labels = np.reshape(train_labels, (train_labels.shape[0]))\n",
    "test_labels = np.reshape(test_labels, (test_labels.shape[0]))\n",
    "\n",
    "# Normalize the input image so that each pixel value is between 0 to 1.\n",
    "train_images = train_images / 255.0\n",
    "test_images = test_images / 255.0\n",
    "\n",
    "# Define the model architecture.\n",
    "model = keras.Sequential([\n",
    "  keras.layers.InputLayer(input_shape=(32, 32, 3)),\n",
    "#   keras.layers.Reshape(target_shape=(28, 28, 1)),\n",
    "  keras.layers.Conv2D(filters=12, kernel_size=(3, 3), activation=tf.nn.relu),\n",
    "  keras.layers.MaxPooling2D(pool_size=(2, 2)),\n",
    "  keras.layers.Flatten(),\n",
    "  keras.layers.Dense(10)\n",
    "])\n",
    "\n",
    "# Train the digit classification model\n",
    "model.compile(optimizer='adam',\n",
    "              loss=tf.keras.losses.SparseCategoricalCrossentropy(from_logits=True),\n",
    "              metrics=['accuracy'])\n",
    "\n",
    "model.fit(\n",
    "  train_images,\n",
    "  train_labels,\n",
    "  epochs=10,\n",
    "  batch_size=128,\n",
    "  validation_split=0.1,\n",
    ")"
   ]
  },
  {
   "cell_type": "markdown",
   "metadata": {
    "colab_type": "text",
    "id": "G1qKfXNqo9hk"
   },
   "source": [
    "Evaluate baseline test accuracy and save the model for later usage."
   ]
  },
  {
   "cell_type": "code",
   "execution_count": 4,
   "metadata": {
    "ExecuteTime": {
     "end_time": "2020-05-28T12:49:44.204987Z",
     "start_time": "2020-05-28T12:49:43.671887Z"
    },
    "colab": {},
    "colab_type": "code",
    "id": "RyIKnbVZafIH"
   },
   "outputs": [
    {
     "name": "stdout",
     "output_type": "stream",
     "text": [
      "Baseline test accuracy: 0.5728999972343445\n",
      "Saved baseline model to: /tmp/tmpqv_ye8kf.h5\n"
     ]
    }
   ],
   "source": [
    "_, baseline_model_accuracy = model.evaluate(\n",
    "    test_images, test_labels, verbose=0)\n",
    "\n",
    "print('Baseline test accuracy:', baseline_model_accuracy)\n",
    "\n",
    "_, keras_file = tempfile.mkstemp('.h5')\n",
    "tf.keras.models.save_model(model, keras_file, include_optimizer=False)\n",
    "print('Saved baseline model to:', keras_file)"
   ]
  },
  {
   "cell_type": "markdown",
   "metadata": {
    "colab_type": "text",
    "id": "K8747K9OE72P"
   },
   "source": [
    "## Fine-tune pre-trained model with pruning\n"
   ]
  },
  {
   "cell_type": "markdown",
   "metadata": {
    "colab_type": "text",
    "id": "F19k7ExXF_h2"
   },
   "source": [
    "### Define the model"
   ]
  },
  {
   "cell_type": "markdown",
   "metadata": {
    "colab_type": "text",
    "id": "JsZROpNYMWQ0"
   },
   "source": [
    "You will apply pruning to the whole model and see this in the model summary.\n",
    "\n",
    "In this example, you start the model with 50% sparsity (50% zeros in weights)\n",
    "and end with 80% sparsity.\n",
    "\n",
    "In the [comprehensive guide](https://www.tensorflow.org/model_optimization/guide/pruning/comprehensive_guide.md), you can see how to prune some layers for model accuracy improvements."
   ]
  },
  {
   "cell_type": "code",
   "execution_count": 5,
   "metadata": {
    "ExecuteTime": {
     "end_time": "2020-05-28T12:49:44.905847Z",
     "start_time": "2020-05-28T12:49:44.207000Z"
    },
    "colab": {},
    "colab_type": "code",
    "id": "oq6blGjgFDCW"
   },
   "outputs": [
    {
     "name": "stdout",
     "output_type": "stream",
     "text": [
      "WARNING:tensorflow:From /home/mao/.virtualenvs/tf2.0/lib/python3.6/site-packages/tensorflow_model_optimization/python/core/sparsity/keras/pruning_wrapper.py:199: Layer.add_variable (from tensorflow.python.keras.engine.base_layer) is deprecated and will be removed in a future version.\n",
      "Instructions for updating:\n",
      "Please use `layer.add_weight` method instead.\n",
      "Model: \"sequential\"\n",
      "_________________________________________________________________\n",
      "Layer (type)                 Output Shape              Param #   \n",
      "=================================================================\n",
      "prune_low_magnitude_conv2d ( (None, 30, 30, 12)        662       \n",
      "_________________________________________________________________\n",
      "prune_low_magnitude_max_pool (None, 15, 15, 12)        1         \n",
      "_________________________________________________________________\n",
      "prune_low_magnitude_flatten  (None, 2700)              1         \n",
      "_________________________________________________________________\n",
      "prune_low_magnitude_dense (P (None, 10)                54012     \n",
      "=================================================================\n",
      "Total params: 54,676\n",
      "Trainable params: 27,346\n",
      "Non-trainable params: 27,330\n",
      "_________________________________________________________________\n"
     ]
    }
   ],
   "source": [
    "import tensorflow_model_optimization as tfmot\n",
    "\n",
    "prune_low_magnitude = tfmot.sparsity.keras.prune_low_magnitude\n",
    "\n",
    "# Compute end step to finish pruning after 2 epochs.\n",
    "batch_size = 128\n",
    "epochs = 20\n",
    "validation_split = 0.1 # 10% of training set will be used for validation set. \n",
    "\n",
    "num_images = train_images.shape[0] * (1 - validation_split)\n",
    "end_step = np.ceil(num_images / batch_size).astype(np.int32) * epochs\n",
    "\n",
    "# Define model for pruning.\n",
    "pruning_params = {\n",
    "      'pruning_schedule': tfmot.sparsity.keras.PolynomialDecay(initial_sparsity=0.50,\n",
    "                                                               final_sparsity=0.80,\n",
    "                                                               begin_step=0,\n",
    "                                                               end_step=end_step)\n",
    "}\n",
    "\n",
    "model_for_pruning = prune_low_magnitude(model, **pruning_params)\n",
    "\n",
    "# `prune_low_magnitude` requires a recompile.\n",
    "model_for_pruning.compile(optimizer='adam',\n",
    "              loss=tf.keras.losses.SparseCategoricalCrossentropy(from_logits=True),\n",
    "              metrics=['accuracy'])\n",
    "\n",
    "model_for_pruning.summary()"
   ]
  },
  {
   "cell_type": "markdown",
   "metadata": {
    "colab_type": "text",
    "id": "uDr2ijwpGCI-"
   },
   "source": [
    "### Train and evaluate the model against baseline"
   ]
  },
  {
   "cell_type": "markdown",
   "metadata": {
    "colab_type": "text",
    "id": "XUBEn94hXYB1"
   },
   "source": [
    "Fine tune with pruning for two epochs.\n",
    "\n",
    "`tfmot.sparsity.keras.UpdatePruningStep` is required during training, and `tfmot.sparsity.keras.PruningSummaries` provides logs for tracking progress and debugging."
   ]
  },
  {
   "cell_type": "code",
   "execution_count": 6,
   "metadata": {
    "ExecuteTime": {
     "end_time": "2020-05-28T12:50:19.336120Z",
     "start_time": "2020-05-28T12:49:44.906888Z"
    },
    "colab": {},
    "colab_type": "code",
    "id": "_PHDGJryE31X"
   },
   "outputs": [
    {
     "name": "stdout",
     "output_type": "stream",
     "text": [
      "Epoch 1/20\n",
      "352/352 [==============================] - 2s 5ms/step - loss: 1.2061 - accuracy: 0.5868 - val_loss: 1.2135 - val_accuracy: 0.5798\n",
      "Epoch 2/20\n",
      "352/352 [==============================] - 2s 4ms/step - loss: 1.1482 - accuracy: 0.6024 - val_loss: 1.2244 - val_accuracy: 0.5746\n",
      "Epoch 3/20\n",
      "352/352 [==============================] - 2s 4ms/step - loss: 1.1404 - accuracy: 0.6064 - val_loss: 1.2026 - val_accuracy: 0.5832\n",
      "Epoch 4/20\n",
      "352/352 [==============================] - 2s 4ms/step - loss: 1.1315 - accuracy: 0.6081 - val_loss: 1.2187 - val_accuracy: 0.5810\n",
      "Epoch 5/20\n",
      "352/352 [==============================] - 1s 4ms/step - loss: 1.1328 - accuracy: 0.6092 - val_loss: 1.2001 - val_accuracy: 0.5850\n",
      "Epoch 6/20\n",
      "352/352 [==============================] - 1s 4ms/step - loss: 1.1296 - accuracy: 0.6098 - val_loss: 1.2475 - val_accuracy: 0.5662\n",
      "Epoch 7/20\n",
      "352/352 [==============================] - 2s 4ms/step - loss: 1.1310 - accuracy: 0.6101 - val_loss: 1.1985 - val_accuracy: 0.5788\n",
      "Epoch 8/20\n",
      "352/352 [==============================] - 2s 6ms/step - loss: 1.1293 - accuracy: 0.6102 - val_loss: 1.2207 - val_accuracy: 0.5754\n",
      "Epoch 9/20\n",
      "352/352 [==============================] - 2s 4ms/step - loss: 1.1312 - accuracy: 0.6115 - val_loss: 1.2003 - val_accuracy: 0.5810\n",
      "Epoch 10/20\n",
      "352/352 [==============================] - 2s 4ms/step - loss: 1.1356 - accuracy: 0.6081 - val_loss: 1.2157 - val_accuracy: 0.5764\n",
      "Epoch 11/20\n",
      "352/352 [==============================] - 2s 4ms/step - loss: 1.1238 - accuracy: 0.6149 - val_loss: 1.2090 - val_accuracy: 0.5782\n",
      "Epoch 12/20\n",
      "352/352 [==============================] - 2s 4ms/step - loss: 1.1303 - accuracy: 0.6098 - val_loss: 1.2182 - val_accuracy: 0.5696\n",
      "Epoch 13/20\n",
      "352/352 [==============================] - 1s 4ms/step - loss: 1.1242 - accuracy: 0.6133 - val_loss: 1.2053 - val_accuracy: 0.5796\n",
      "Epoch 14/20\n",
      "352/352 [==============================] - 2s 4ms/step - loss: 1.1084 - accuracy: 0.6191 - val_loss: 1.2034 - val_accuracy: 0.5798\n",
      "Epoch 15/20\n",
      "352/352 [==============================] - 2s 5ms/step - loss: 1.1025 - accuracy: 0.6210 - val_loss: 1.1957 - val_accuracy: 0.5826\n",
      "Epoch 16/20\n",
      "352/352 [==============================] - 2s 4ms/step - loss: 1.1039 - accuracy: 0.6184 - val_loss: 1.1974 - val_accuracy: 0.5816\n",
      "Epoch 17/20\n",
      "352/352 [==============================] - 2s 4ms/step - loss: 1.1003 - accuracy: 0.6183 - val_loss: 1.1960 - val_accuracy: 0.5854\n",
      "Epoch 18/20\n",
      "352/352 [==============================] - 2s 4ms/step - loss: 1.0884 - accuracy: 0.6236 - val_loss: 1.1938 - val_accuracy: 0.5838\n",
      "Epoch 19/20\n",
      "352/352 [==============================] - 1s 4ms/step - loss: 1.0852 - accuracy: 0.6231 - val_loss: 1.1992 - val_accuracy: 0.5852\n",
      "Epoch 20/20\n",
      "352/352 [==============================] - 1s 4ms/step - loss: 1.0803 - accuracy: 0.6262 - val_loss: 1.1959 - val_accuracy: 0.5816\n"
     ]
    },
    {
     "data": {
      "text/plain": [
       "<tensorflow.python.keras.callbacks.History at 0x7fa2c46b3400>"
      ]
     },
     "execution_count": 6,
     "metadata": {},
     "output_type": "execute_result"
    }
   ],
   "source": [
    "logdir = tempfile.mkdtemp()\n",
    "\n",
    "callbacks = [\n",
    "  tfmot.sparsity.keras.UpdatePruningStep(),\n",
    "  tfmot.sparsity.keras.PruningSummaries(log_dir=logdir),\n",
    "]\n",
    "  \n",
    "model_for_pruning.fit(train_images, train_labels,\n",
    "                  batch_size=batch_size, epochs=epochs, validation_split=validation_split,\n",
    "                  callbacks=callbacks)"
   ]
  },
  {
   "cell_type": "markdown",
   "metadata": {
    "colab_type": "text",
    "id": "-byC2lYlMkfN"
   },
   "source": [
    "For this example, there is minimal loss in test accuracy after pruning, compared to the baseline."
   ]
  },
  {
   "cell_type": "code",
   "execution_count": 7,
   "metadata": {
    "ExecuteTime": {
     "end_time": "2020-05-28T12:50:19.720414Z",
     "start_time": "2020-05-28T12:50:19.337313Z"
    },
    "colab": {},
    "colab_type": "code",
    "id": "6bMFTKSSHyyZ"
   },
   "outputs": [
    {
     "name": "stdout",
     "output_type": "stream",
     "text": [
      "Baseline test accuracy: 0.5728999972343445\n",
      "Pruned test accuracy: 0.5795000195503235\n"
     ]
    }
   ],
   "source": [
    "_, model_for_pruning_accuracy = model_for_pruning.evaluate(\n",
    "   test_images, test_labels, verbose=0)\n",
    "\n",
    "print('Baseline test accuracy:', baseline_model_accuracy) \n",
    "print('Pruned test accuracy:', model_for_pruning_accuracy)"
   ]
  },
  {
   "cell_type": "markdown",
   "metadata": {
    "colab_type": "text",
    "id": "zQFiZsqqc0vS"
   },
   "source": [
    "The logs show the progression of sparsity on a per-layer basis."
   ]
  },
  {
   "cell_type": "code",
   "execution_count": 8,
   "metadata": {
    "ExecuteTime": {
     "end_time": "2020-05-28T12:50:21.293261Z",
     "start_time": "2020-05-28T12:50:19.721331Z"
    },
    "colab": {},
    "colab_type": "code",
    "id": "LdLm4hVYc1wx"
   },
   "outputs": [
    {
     "data": {
      "text/plain": [
       "ERROR: Failed to launch TensorBoard (exited with 255).\n",
       "Contents of stderr:\n",
       "E0528 20:50:21.014012 140015635748672 program.py:311] TensorBoard could not bind to any port around 6006 (tried 10 times)\n",
       "ERROR: TensorBoard could not bind to any port around 6006 (tried 10 times)"
      ]
     },
     "metadata": {},
     "output_type": "display_data"
    }
   ],
   "source": [
    "#docs_infra: no_execute\n",
    "%tensorboard --logdir={logdir}"
   ]
  },
  {
   "cell_type": "markdown",
   "metadata": {
    "colab_type": "text",
    "id": "d1UFCxxSIIf5"
   },
   "source": [
    "For non-Colab users, you can see [the results of a previous run](https://tensorboard.dev/experiment/sRQnrycaTMWQOaswXzClYA/#scalars&_smoothingWeight=0) of this code block on [TensorBoard.dev](https://tensorboard.dev/)."
   ]
  },
  {
   "cell_type": "markdown",
   "metadata": {
    "colab_type": "text",
    "id": "2IepmUPSITn6"
   },
   "source": [
    "## Create 3x smaller models from pruning"
   ]
  },
  {
   "cell_type": "markdown",
   "metadata": {
    "colab_type": "text",
    "id": "1FgNP4rbOLH8"
   },
   "source": [
    "Both `tfmot.sparsity.keras.strip_pruning` and applying a standard compression algorithm (e.g. via gzip) are necessary to see the compression\n",
    "benefits of pruning.\n",
    "\n",
    "First, create a compressible model for TensorFlow."
   ]
  },
  {
   "cell_type": "code",
   "execution_count": 9,
   "metadata": {
    "ExecuteTime": {
     "end_time": "2020-05-28T12:50:21.323607Z",
     "start_time": "2020-05-28T12:50:21.298325Z"
    },
    "colab": {},
    "colab_type": "code",
    "id": "w7fztWsAOHTz"
   },
   "outputs": [
    {
     "name": "stdout",
     "output_type": "stream",
     "text": [
      "Saved pruned Keras model to: /tmp/tmpwpx_1p4r.h5\n"
     ]
    }
   ],
   "source": [
    "model_for_export = tfmot.sparsity.keras.strip_pruning(model_for_pruning)\n",
    "\n",
    "_, pruned_keras_file = tempfile.mkstemp('.h5')\n",
    "tf.keras.models.save_model(model_for_export, pruned_keras_file, include_optimizer=False)\n",
    "print('Saved pruned Keras model to:', pruned_keras_file)"
   ]
  },
  {
   "cell_type": "markdown",
   "metadata": {
    "colab_type": "text",
    "id": "X4_bixlrtTbF"
   },
   "source": [
    "Then, create a compressible model for TFLite."
   ]
  },
  {
   "cell_type": "code",
   "execution_count": 10,
   "metadata": {
    "ExecuteTime": {
     "end_time": "2020-05-28T12:50:22.769704Z",
     "start_time": "2020-05-28T12:50:21.324594Z"
    },
    "colab": {},
    "colab_type": "code",
    "id": "uIKxSSHmrJSa"
   },
   "outputs": [
    {
     "name": "stdout",
     "output_type": "stream",
     "text": [
      "Saved pruned TFLite model to: /tmp/tmp_zi19r12.tflite\n"
     ]
    }
   ],
   "source": [
    "converter = tf.lite.TFLiteConverter.from_keras_model(model_for_export)\n",
    "pruned_tflite_model = converter.convert()\n",
    "\n",
    "_, pruned_tflite_file = tempfile.mkstemp('.tflite')\n",
    "\n",
    "with open(pruned_tflite_file, 'wb') as f:\n",
    "  f.write(pruned_tflite_model)\n",
    "\n",
    "print('Saved pruned TFLite model to:', pruned_tflite_file)"
   ]
  },
  {
   "cell_type": "markdown",
   "metadata": {
    "colab_type": "text",
    "id": "c4lv-lRKuMY4"
   },
   "source": [
    "Define a helper function to actually compress the models via gzip and measure the zipped size."
   ]
  },
  {
   "cell_type": "code",
   "execution_count": 11,
   "metadata": {
    "ExecuteTime": {
     "end_time": "2020-05-28T12:50:22.773226Z",
     "start_time": "2020-05-28T12:50:22.770821Z"
    },
    "colab": {},
    "colab_type": "code",
    "id": "-E7DXEgUrCDZ"
   },
   "outputs": [],
   "source": [
    "def get_gzipped_model_size(file):\n",
    "  # Returns size of gzipped model, in bytes.\n",
    "  import os\n",
    "  import zipfile\n",
    "\n",
    "  _, zipped_file = tempfile.mkstemp('.zip')\n",
    "  with zipfile.ZipFile(zipped_file, 'w', compression=zipfile.ZIP_DEFLATED) as f:\n",
    "    f.write(file)\n",
    "\n",
    "  return os.path.getsize(zipped_file)"
   ]
  },
  {
   "cell_type": "markdown",
   "metadata": {
    "colab_type": "text",
    "id": "caxUoJ_BunqU"
   },
   "source": [
    "Compare and see that the models are 3x smaller from pruning."
   ]
  },
  {
   "cell_type": "code",
   "execution_count": 12,
   "metadata": {
    "ExecuteTime": {
     "end_time": "2020-05-28T12:50:22.796534Z",
     "start_time": "2020-05-28T12:50:22.774049Z"
    },
    "colab": {},
    "colab_type": "code",
    "id": "HzSXC_nxuqJX"
   },
   "outputs": [
    {
     "name": "stdout",
     "output_type": "stream",
     "text": [
      "Size of gzipped baseline Keras model: 103793.00 bytes\n",
      "Size of gzipped pruned Keras model: 33628.00 bytes\n",
      "Size of gzipped pruned TFlite model: 32049.00 bytes\n"
     ]
    }
   ],
   "source": [
    "print(\"Size of gzipped baseline Keras model: %.2f bytes\" % (get_gzipped_model_size(keras_file)))\n",
    "print(\"Size of gzipped pruned Keras model: %.2f bytes\" % (get_gzipped_model_size(pruned_keras_file)))\n",
    "print(\"Size of gzipped pruned TFlite model: %.2f bytes\" % (get_gzipped_model_size(pruned_tflite_file)))"
   ]
  },
  {
   "cell_type": "markdown",
   "metadata": {
    "colab_type": "text",
    "id": "z8D7WnFF5DZR"
   },
   "source": [
    "## Create a 10x smaller model from combining pruning and quantization"
   ]
  },
  {
   "cell_type": "markdown",
   "metadata": {
    "colab_type": "text",
    "id": "I1c2IecBRCdQ"
   },
   "source": [
    "You can apply post-training quantization to the pruned model for additional benefits."
   ]
  },
  {
   "cell_type": "code",
   "execution_count": 13,
   "metadata": {
    "ExecuteTime": {
     "end_time": "2020-05-28T12:50:24.225243Z",
     "start_time": "2020-05-28T12:50:22.797551Z"
    },
    "colab": {},
    "colab_type": "code",
    "id": "jy_Lgfh8VkyX"
   },
   "outputs": [
    {
     "name": "stdout",
     "output_type": "stream",
     "text": [
      "Saved quantized and pruned TFLite model to: /tmp/tmp6376oc4_.tflite\n",
      "Size of gzipped baseline Keras model: 103793.00 bytes\n",
      "Size of gzipped pruned and quantized TFlite model: 10494.00 bytes\n"
     ]
    }
   ],
   "source": [
    "converter = tf.lite.TFLiteConverter.from_keras_model(model_for_export)\n",
    "converter.optimizations = [tf.lite.Optimize.DEFAULT]\n",
    "quantized_and_pruned_tflite_model = converter.convert()\n",
    "\n",
    "_, quantized_and_pruned_tflite_file = tempfile.mkstemp('.tflite')\n",
    "\n",
    "with open(quantized_and_pruned_tflite_file, 'wb') as f:\n",
    "  f.write(quantized_and_pruned_tflite_model)\n",
    "\n",
    "print('Saved quantized and pruned TFLite model to:', quantized_and_pruned_tflite_file)\n",
    "\n",
    "print(\"Size of gzipped baseline Keras model: %.2f bytes\" % (get_gzipped_model_size(keras_file)))\n",
    "print(\"Size of gzipped pruned and quantized TFlite model: %.2f bytes\" % (get_gzipped_model_size(quantized_and_pruned_tflite_file)))"
   ]
  },
  {
   "cell_type": "markdown",
   "metadata": {
    "colab_type": "text",
    "id": "BEYsyYVqNgeY"
   },
   "source": [
    "## See persistence of accuracy from TF to TFLite"
   ]
  },
  {
   "cell_type": "markdown",
   "metadata": {
    "colab_type": "text",
    "id": "saadXD4JQsBK"
   },
   "source": [
    "Define a helper function to evaluate the TF Lite model on the test dataset."
   ]
  },
  {
   "cell_type": "code",
   "execution_count": 14,
   "metadata": {
    "ExecuteTime": {
     "end_time": "2020-05-28T12:50:24.231600Z",
     "start_time": "2020-05-28T12:50:24.226739Z"
    },
    "colab": {},
    "colab_type": "code",
    "id": "b8yBouuGNqls"
   },
   "outputs": [],
   "source": [
    "import numpy as np\n",
    "\n",
    "def evaluate_model(interpreter):\n",
    "  input_index = interpreter.get_input_details()[0][\"index\"]\n",
    "  output_index = interpreter.get_output_details()[0][\"index\"]\n",
    "\n",
    "  # Run predictions on ever y image in the \"test\" dataset.\n",
    "  prediction_digits = []\n",
    "  for i, test_image in enumerate(test_images):\n",
    "    if i % 1000 == 0:\n",
    "      print('Evaluated on {n} results so far.'.format(n=i))\n",
    "    # Pre-processing: add batch dimension and convert to float32 to match with\n",
    "    # the model's input data format.\n",
    "    test_image = np.expand_dims(test_image, axis=0).astype(np.float32)\n",
    "    interpreter.set_tensor(input_index, test_image)\n",
    "\n",
    "    # Run inference.\n",
    "    interpreter.invoke()\n",
    "\n",
    "    # Post-processing: remove batch dimension and find the digit with highest\n",
    "    # probability.\n",
    "    output = interpreter.tensor(output_index)\n",
    "    digit = np.argmax(output()[0])\n",
    "    prediction_digits.append(digit)\n",
    "\n",
    "  print('\\n')\n",
    "  # Compare prediction results with ground truth labels to calculate accuracy.\n",
    "  prediction_digits = np.array(prediction_digits)\n",
    "  accuracy = (prediction_digits == test_labels).mean()\n",
    "  return accuracy"
   ]
  },
  {
   "cell_type": "markdown",
   "metadata": {
    "colab_type": "text",
    "id": "TuEFS4CIQvUw"
   },
   "source": [
    "You evaluate the pruned and quantized model and see that the accuracy from TensorFlow persists to the TFLite backend."
   ]
  },
  {
   "cell_type": "code",
   "execution_count": 15,
   "metadata": {
    "ExecuteTime": {
     "end_time": "2020-05-28T12:50:25.328173Z",
     "start_time": "2020-05-28T12:50:24.233349Z"
    },
    "colab": {},
    "colab_type": "code",
    "id": "VqQTyqz4NsWd"
   },
   "outputs": [
    {
     "name": "stdout",
     "output_type": "stream",
     "text": [
      "Evaluated on 0 results so far.\n",
      "Evaluated on 1000 results so far.\n",
      "Evaluated on 2000 results so far.\n",
      "Evaluated on 3000 results so far.\n",
      "Evaluated on 4000 results so far.\n",
      "Evaluated on 5000 results so far.\n",
      "Evaluated on 6000 results so far.\n",
      "Evaluated on 7000 results so far.\n",
      "Evaluated on 8000 results so far.\n",
      "Evaluated on 9000 results so far.\n",
      "\n",
      "\n",
      "Pruned and quantized TFLite test_accuracy: 0.5792\n",
      "Pruned TF test accuracy: 0.5795000195503235\n"
     ]
    }
   ],
   "source": [
    "interpreter = tf.lite.Interpreter(model_content=quantized_and_pruned_tflite_model)\n",
    "interpreter.allocate_tensors()\n",
    "\n",
    "test_accuracy = evaluate_model(interpreter)\n",
    "\n",
    "print('Pruned and quantized TFLite test_accuracy:', test_accuracy)\n",
    "print('Pruned TF test accuracy:', model_for_pruning_accuracy)"
   ]
  },
  {
   "cell_type": "markdown",
   "metadata": {
    "colab_type": "text",
    "id": "0O5xuci-SonI"
   },
   "source": [
    "## Conclusion"
   ]
  },
  {
   "cell_type": "markdown",
   "metadata": {
    "colab_type": "text",
    "id": "O2I7xmyMW5QY"
   },
   "source": [
    "In this tutorial, you saw how to create sparse models with the TensorFlow Model Optimization Toolkit API for both TensorFlow and TFLite. You \n",
    "then combined pruning with post-training quantization for additional benefits.\n",
    "\n",
    "You created a 10x smaller model for MNIST, with minimal accuracy difference.\n",
    "\n",
    "We encourage you to try this new capability, which can be particularly important for deployment in resource-constrained environments.\n",
    "\n"
   ]
  }
 ],
 "metadata": {
  "accelerator": "GPU",
  "colab": {
   "collapsed_sections": [],
   "name": "Pruning in Keras example",
   "private_outputs": true,
   "provenance": [],
   "toc_visible": true
  },
  "kernelspec": {
   "display_name": "Python 3",
   "language": "python",
   "name": "python3"
  },
  "language_info": {
   "codemirror_mode": {
    "name": "ipython",
    "version": 3
   },
   "file_extension": ".py",
   "mimetype": "text/x-python",
   "name": "python",
   "nbconvert_exporter": "python",
   "pygments_lexer": "ipython3",
   "version": "3.6.9"
  },
  "toc": {
   "base_numbering": 1,
   "nav_menu": {},
   "number_sections": true,
   "sideBar": true,
   "skip_h1_title": false,
   "title_cell": "Table of Contents",
   "title_sidebar": "Contents",
   "toc_cell": false,
   "toc_position": {},
   "toc_section_display": true,
   "toc_window_display": true
  }
 },
 "nbformat": 4,
 "nbformat_minor": 1
}
