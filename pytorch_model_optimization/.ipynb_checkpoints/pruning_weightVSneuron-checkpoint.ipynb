{
 "cells": [
  {
   "cell_type": "markdown",
   "metadata": {},
   "source": [
    "# 这个实验告诉我们，我们在weight pruning和neuron pruning中应该选择weight pruning"
   ]
  },
  {
   "cell_type": "code",
   "execution_count": 1,
   "metadata": {
    "ExecuteTime": {
     "end_time": "2020-05-19T01:53:07.026878Z",
     "start_time": "2020-05-19T01:53:06.561839Z"
    },
    "colab": {},
    "colab_type": "code",
    "id": "EMQQzwhK_-Pi"
   },
   "outputs": [],
   "source": [
    "# import necessary libraries\n",
    "\n",
    "import torch\n",
    "import numpy as np\n",
    "import torch.nn.functional as F\n",
    "\n",
    "from torch import nn, optim\n",
    "from numpy import linalg as LA\n",
    "from scipy.stats import rankdata\n",
    "from collections import OrderedDict\n",
    "from torchvision import datasets, transforms\n",
    "from torch.utils.data.sampler import SubsetRandomSampler"
   ]
  },
  {
   "cell_type": "code",
   "execution_count": 2,
   "metadata": {
    "ExecuteTime": {
     "end_time": "2020-05-19T01:53:07.030186Z",
     "start_time": "2020-05-19T01:53:07.028143Z"
    },
    "colab": {},
    "colab_type": "code",
    "id": "2N3wEfxnPGlT"
   },
   "outputs": [],
   "source": [
    "# required variables \n",
    "\n",
    "batch_size = 64  # batch size\n",
    "valid_size = 0.2  # validation set size: 20%\n",
    "epochs = 20  # number of epochs\n",
    "min_valid_loss = np.Inf  # min value for validation loss\n",
    "transform = transforms.Compose([\n",
    "    transforms.ToTensor() # necessary image transform i.e. conver to Tensor\n",
    "])"
   ]
  },
  {
   "cell_type": "code",
   "execution_count": 3,
   "metadata": {
    "ExecuteTime": {
     "end_time": "2020-05-19T01:53:07.057520Z",
     "start_time": "2020-05-19T01:53:07.031223Z"
    },
    "colab": {},
    "colab_type": "code",
    "id": "gERAjvsUF4rf"
   },
   "outputs": [],
   "source": [
    "# Download the Train and Test set\n",
    "\n",
    "trainset = datasets.FashionMNIST('./data', train=True, download=True, transform=transform)\n",
    "testset = datasets.FashionMNIST('./data', train=False, download=True, transform=transform)"
   ]
  },
  {
   "cell_type": "code",
   "execution_count": 4,
   "metadata": {
    "ExecuteTime": {
     "end_time": "2020-05-19T01:53:07.063092Z",
     "start_time": "2020-05-19T01:53:07.058481Z"
    },
    "colab": {},
    "colab_type": "code",
    "id": "SqJJerJuPvL9"
   },
   "outputs": [],
   "source": [
    "# Split the training set indices into training and validation set indices using 80:20 ratio\n",
    "\n",
    "len_trainset = len(trainset)\n",
    "index_list = list(range(len_trainset))\n",
    "np.random.shuffle(index_list)\n",
    "split_index = int(len_trainset * valid_size)\n",
    "train_indices, valid_indices = index_list[split_index:], index_list[:split_index]"
   ]
  },
  {
   "cell_type": "code",
   "execution_count": 5,
   "metadata": {
    "ExecuteTime": {
     "end_time": "2020-05-19T01:53:07.069707Z",
     "start_time": "2020-05-19T01:53:07.064239Z"
    },
    "colab": {},
    "colab_type": "code",
    "id": "EMTr3uuYSC7Q"
   },
   "outputs": [],
   "source": [
    "# Create Samplers for training and validation set using the indices\n",
    "\n",
    "train_sampler = SubsetRandomSampler(train_indices)\n",
    "valid_sampler = SubsetRandomSampler(valid_indices)"
   ]
  },
  {
   "cell_type": "code",
   "execution_count": 6,
   "metadata": {
    "ExecuteTime": {
     "end_time": "2020-05-19T01:53:07.075689Z",
     "start_time": "2020-05-19T01:53:07.070566Z"
    },
    "colab": {},
    "colab_type": "code",
    "id": "_C5Y-UUwG68T"
   },
   "outputs": [],
   "source": [
    "# Create loaders for train, validation and testing set using samplers\n",
    "\n",
    "trainloader = torch.utils.data.DataLoader(trainset, batch_size=batch_size, sampler=train_sampler)\n",
    "validloader = torch.utils.data.DataLoader(trainset, batch_size=batch_size, sampler=valid_sampler)\n",
    "testloader = torch.utils.data.DataLoader(testset, batch_size=batch_size, shuffle=True)"
   ]
  },
  {
   "cell_type": "code",
   "execution_count": 7,
   "metadata": {
    "ExecuteTime": {
     "end_time": "2020-05-19T01:53:07.082746Z",
     "start_time": "2020-05-19T01:53:07.077047Z"
    },
    "colab": {},
    "colab_type": "code",
    "id": "YFR5XNrtJmlO"
   },
   "outputs": [],
   "source": [
    "# Model Architecture as descried in the given PDF\n",
    "\n",
    "\n",
    "class FMNISTClf(nn.Module):\n",
    "    def __init__(self):\n",
    "        super().__init__()\n",
    "        self.fc1 = nn.Linear(784, 1000, bias=False)\n",
    "        self.fc2 = nn.Linear(1000, 1000, bias=False)\n",
    "        self.fc3 = nn.Linear(1000, 500, bias=False)\n",
    "        self.fc4 = nn.Linear(500, 200, bias=False)\n",
    "        self.fc5 = nn.Linear(200, 10, bias=False)\n",
    "\n",
    "    def forward(self, x):\n",
    "        x = x.view(x.shape[0], -1)\n",
    "        x = F.relu(self.fc1(x))\n",
    "        x = F.relu(self.fc2(x))\n",
    "        x = F.relu(self.fc3(x))\n",
    "        x = F.relu(self.fc4(x))\n",
    "        x = F.log_softmax(self.fc5(x), dim=1)\n",
    "        return x"
   ]
  },
  {
   "cell_type": "code",
   "execution_count": 8,
   "metadata": {
    "ExecuteTime": {
     "end_time": "2020-05-19T01:53:07.104913Z",
     "start_time": "2020-05-19T01:53:07.083717Z"
    },
    "colab": {
     "base_uri": "https://localhost:8080/",
     "height": 136
    },
    "colab_type": "code",
    "id": "KNG1fMVaMuFz",
    "outputId": "5bcd6ba0-3a3e-4810-c9ae-2da5cc64415f"
   },
   "outputs": [
    {
     "data": {
      "text/plain": [
       "FMNISTClf(\n",
       "  (fc1): Linear(in_features=784, out_features=1000, bias=False)\n",
       "  (fc2): Linear(in_features=1000, out_features=1000, bias=False)\n",
       "  (fc3): Linear(in_features=1000, out_features=500, bias=False)\n",
       "  (fc4): Linear(in_features=500, out_features=200, bias=False)\n",
       "  (fc5): Linear(in_features=200, out_features=10, bias=False)\n",
       ")"
      ]
     },
     "execution_count": 8,
     "metadata": {},
     "output_type": "execute_result"
    }
   ],
   "source": [
    "# Create model\n",
    "\n",
    "model = FMNISTClf()\n",
    "model"
   ]
  },
  {
   "cell_type": "code",
   "execution_count": 9,
   "metadata": {
    "ExecuteTime": {
     "end_time": "2020-05-19T01:53:07.107739Z",
     "start_time": "2020-05-19T01:53:07.105726Z"
    },
    "colab": {},
    "colab_type": "code",
    "id": "OdEx22UtMwOb"
   },
   "outputs": [],
   "source": [
    "# Using CrossEntropy as my Loss function and Adam Optimizer with a learning rate of 0.01 \n",
    "\n",
    "criterion = nn.CrossEntropyLoss()\n",
    "optimizer = torch.optim.Adam(model.parameters(), lr=0.01)"
   ]
  },
  {
   "cell_type": "code",
   "execution_count": 10,
   "metadata": {
    "ExecuteTime": {
     "end_time": "2020-05-19T01:58:24.465387Z",
     "start_time": "2020-05-19T01:53:07.108569Z"
    },
    "colab": {
     "base_uri": "https://localhost:8080/",
     "height": 476
    },
    "colab_type": "code",
    "id": "KHFk0iACTz7F",
    "outputId": "d598b6d4-6646-4393-8458-c462c59eccc5",
    "scrolled": true
   },
   "outputs": [
    {
     "name": "stdout",
     "output_type": "stream",
     "text": [
      "Epoch: 1 \tTraining Loss: 0.717273 \tValidation Loss: 0.542540\n",
      "Validation loss decreased (inf --> 0.5425402878125508).  Saving model ...\n",
      "Epoch: 2 \tTraining Loss: 0.643101 \tValidation Loss: 0.583968\n",
      "Epoch: 3 \tTraining Loss: 0.493275 \tValidation Loss: 0.474145\n",
      "Validation loss decreased (0.5425402878125508 --> 0.47414541578292846).  Saving model ...\n",
      "Epoch: 4 \tTraining Loss: 0.474948 \tValidation Loss: 0.478605\n",
      "Epoch: 5 \tTraining Loss: 0.482409 \tValidation Loss: 0.503040\n",
      "Epoch: 6 \tTraining Loss: 0.465388 \tValidation Loss: 0.490554\n",
      "Epoch: 7 \tTraining Loss: 0.452560 \tValidation Loss: 0.473150\n",
      "Validation loss decreased (0.47414541578292846 --> 0.4731502185662588).  Saving model ...\n",
      "Epoch: 8 \tTraining Loss: 0.434513 \tValidation Loss: 0.472603\n",
      "Validation loss decreased (0.4731502185662588 --> 0.47260320258140565).  Saving model ...\n",
      "Epoch: 9 \tTraining Loss: 0.414899 \tValidation Loss: 0.519789\n",
      "Epoch: 10 \tTraining Loss: 0.422742 \tValidation Loss: 0.453719\n",
      "Validation loss decreased (0.47260320258140565 --> 0.4537193629741669).  Saving model ...\n",
      "Epoch: 11 \tTraining Loss: 0.411838 \tValidation Loss: 0.449968\n",
      "Validation loss decreased (0.4537193629741669 --> 0.44996820521354675).  Saving model ...\n",
      "Epoch: 12 \tTraining Loss: 0.510426 \tValidation Loss: 0.529269\n",
      "Epoch: 13 \tTraining Loss: 0.434114 \tValidation Loss: 0.475682\n",
      "Epoch: 14 \tTraining Loss: 0.419306 \tValidation Loss: 0.446680\n",
      "Validation loss decreased (0.44996820521354675 --> 0.4466798415184021).  Saving model ...\n",
      "Epoch: 15 \tTraining Loss: 0.477465 \tValidation Loss: 0.907148\n",
      "Epoch: 16 \tTraining Loss: 0.508814 \tValidation Loss: 0.461628\n",
      "Epoch: 17 \tTraining Loss: 0.426893 \tValidation Loss: 0.487089\n",
      "Epoch: 18 \tTraining Loss: 0.412501 \tValidation Loss: 0.495009\n",
      "Epoch: 19 \tTraining Loss: 0.411558 \tValidation Loss: 0.478115\n",
      "Epoch: 20 \tTraining Loss: 0.401324 \tValidation Loss: 0.438963\n",
      "Validation loss decreased (0.4466798415184021 --> 0.43896293465296427).  Saving model ...\n"
     ]
    }
   ],
   "source": [
    "# Training\n",
    "\n",
    "for epoch in range(epochs):\n",
    "    train_loss = 0\n",
    "    valid_loss = 0\n",
    "    model.train()\n",
    "    # Training\n",
    "    for image, label in trainloader:\n",
    "        # Set Gradients to zero\n",
    "        optimizer.zero_grad()\n",
    "        # forward pass the image through the network\n",
    "        output = model(image)\n",
    "        # Get the loss\n",
    "        loss = criterion(output, label)\n",
    "        # Backward propagation\n",
    "        loss.backward()\n",
    "        # Optimization step\n",
    "        optimizer.step()\n",
    "        # Train loss is the loss multiplied by the batch size\n",
    "        train_loss += loss.item() * image.size(0)\n",
    "    model.eval()\n",
    "    # Validation\n",
    "    for image, label in validloader:\n",
    "        # forward pass the image through the network\n",
    "        output = model(image)\n",
    "        # Get the loss\n",
    "        loss = criterion(output, label)\n",
    "        # Validation loss is the loss multiplied by the batch size\n",
    "        valid_loss += loss.item() * image.size(0)\n",
    "\n",
    "    # Total train loss is the average of train loss, same for validation loss\n",
    "    train_loss = train_loss/len(trainloader.sampler)\n",
    "    valid_loss = valid_loss/len(validloader.sampler)\n",
    "  \n",
    "    print('Epoch: {} \\tTraining Loss: {:.6f} \\tValidation Loss: {:.6f}'.format(\n",
    "      epoch+1, \n",
    "      train_loss,\n",
    "      valid_loss\n",
    "      ))\n",
    "    \n",
    "    # save model only if validation loss has decreased\n",
    "    if valid_loss <= min_valid_loss:\n",
    "        print('Validation loss decreased ({} --> {}).  Saving model ...'.format(\n",
    "        min_valid_loss,\n",
    "        valid_loss))\n",
    "        torch.save(model.state_dict(), 'model.pth')\n",
    "        min_valid_loss = valid_loss"
   ]
  },
  {
   "cell_type": "code",
   "execution_count": 11,
   "metadata": {
    "ExecuteTime": {
     "end_time": "2020-05-19T01:58:24.470226Z",
     "start_time": "2020-05-19T01:58:24.466334Z"
    },
    "colab": {},
    "colab_type": "code",
    "id": "KIgrOhKdWl0H"
   },
   "outputs": [],
   "source": [
    "# Function to check test accuracy\n",
    "\n",
    "def test_accuracy(model, testloader, criterion):\n",
    "    test_loss = 0.0\n",
    "    class_correct = list(0. for i in range(10))\n",
    "    class_total = list(0. for i in range(10))\n",
    "\n",
    "    model.eval()\n",
    "\n",
    "    for data, target in testloader:\n",
    "        # forward pass\n",
    "        output = model(data)\n",
    "        # Get the loss\n",
    "        loss = criterion(output, target)\n",
    "        # Test loss \n",
    "        test_loss += loss.item()*data.size(0)\n",
    "        # convert output probabilities to predicted class and get the max class\n",
    "        _, pred = torch.max(output, 1)\n",
    "        # compare prediction with true label\n",
    "        correct = np.squeeze(pred.eq(target.data.view_as(pred)))\n",
    "        # calculate test accuracy for each object class\n",
    "        for i in range(len(target)):\n",
    "            label = target.data[i]\n",
    "            class_correct[label] += correct[i].item()\n",
    "            class_total[label] += 1\n",
    "    # Overall accuracy\n",
    "    overall_accuracy = 100. * np.sum(class_correct) / np.sum(class_total)\n",
    "    return overall_accuracy"
   ]
  },
  {
   "cell_type": "code",
   "execution_count": 12,
   "metadata": {
    "ExecuteTime": {
     "end_time": "2020-05-19T01:58:25.264212Z",
     "start_time": "2020-05-19T01:58:24.471073Z"
    },
    "colab": {},
    "colab_type": "code",
    "id": "cKBQ78AbGXOK"
   },
   "outputs": [],
   "source": [
    "# Prune ranges provided in the PDF\n",
    "\n",
    "prune_percentage = [.0, .25, .50, .60, .70, .80, .90, .95, .97, .99]\n",
    "accuracies_wp = []\n",
    "accuracies_np = []\n",
    "\n",
    "# Get the accuracy without any pruning \n",
    "initial_accuracy = test_accuracy(model, testloader, criterion)\n",
    "accuracies_wp.append(initial_accuracy)\n",
    "accuracies_np.append(initial_accuracy)"
   ]
  },
  {
   "cell_type": "code",
   "execution_count": 13,
   "metadata": {
    "ExecuteTime": {
     "end_time": "2020-05-19T01:58:34.651238Z",
     "start_time": "2020-05-19T01:58:25.264989Z"
    },
    "colab": {},
    "colab_type": "code",
    "id": "Q2AUYGISL1h2"
   },
   "outputs": [],
   "source": [
    "# Weight Pruning\n",
    "\n",
    "# Loop through each prune percent\n",
    "for k in prune_percentage[1:]:\n",
    "    # Load the original unprunned model\n",
    "    model = FMNISTClf()\n",
    "    model.load_state_dict(torch.load('model.pth'))\n",
    "    # Get all the weights\n",
    "    weights = model.state_dict()\n",
    "    # Get keys to access model weights\n",
    "    layers = list(model.state_dict())\n",
    "    ranks = {}\n",
    "    pruned_weights = []\n",
    "    # For each layer except the output one\n",
    "    for l in layers[:-1]:\n",
    "        # Get weights for each layer and conver to numpy \n",
    "        data = weights[l]\n",
    "        w = np.array(data)\n",
    "        # Rank the weights element wise and reshape rank elements as the model weights\n",
    "        ranks[l]=(rankdata(np.abs(w), method='dense') - 1).astype(int).reshape(w.shape)\n",
    "        # Get the threshold value based on the value of k(prune percentage) \n",
    "        lower_bound_rank = np.ceil(np.max(ranks[l]) * k).astype(int)\n",
    "        # Assign rank elements to 0 that are less than or equal to the threshold and 1 to those that are above.\n",
    "        ranks[l][ranks[l] <= lower_bound_rank] = 0\n",
    "        ranks[l][ranks[l] > lower_bound_rank] = 1\n",
    "        # Multiply weights array with ranks to zero out the lower ranked weights\n",
    "        w = w * ranks[l]\n",
    "        # Assign the updated weights as tensor to data and append to the pruned_weights list \n",
    "        data[...] = torch.from_numpy(w)\n",
    "        pruned_weights.append(data)\n",
    "    # Append the last layer weights as it is\n",
    "    pruned_weights.append(weights[layers[-1]])\n",
    "    # Update the model weights with all the updated weights \n",
    "    new_state_dict = OrderedDict()\n",
    "    for l, pw in zip(layers, pruned_weights):\n",
    "        new_state_dict[l] = pw\n",
    "    model.state_dict = new_state_dict\n",
    "    # append the test accuracy to accuracies_wp\n",
    "    accuracies_wp.append(test_accuracy(model, testloader, criterion))"
   ]
  },
  {
   "cell_type": "code",
   "execution_count": 14,
   "metadata": {
    "ExecuteTime": {
     "end_time": "2020-05-19T01:58:43.423957Z",
     "start_time": "2020-05-19T01:58:34.652026Z"
    },
    "colab": {},
    "colab_type": "code",
    "id": "kuU40zos85y1"
   },
   "outputs": [],
   "source": [
    "# Neuron Pruning\n",
    "# Code is almost same as above so comments are provided for only different parts of code\n",
    "\n",
    "for k in prune_percentage[1:]:\n",
    "    model = FMNISTClf()\n",
    "    model.load_state_dict(torch.load('model.pth'))\n",
    "    weights = model.state_dict()\n",
    "    layers = list(model.state_dict())\n",
    "    ranks = {}\n",
    "    pruned_weights = []\n",
    "    for l in layers[:-1]:\n",
    "        data = weights[l]\n",
    "        w = np.array(data)\n",
    "        # taking norm for each neuron\n",
    "        norm = LA.norm(w, axis=0)\n",
    "        # repeat the norm values to get the shape similar to that of layer weights\n",
    "        norm = np.tile(norm, (w.shape[0],1))\n",
    "        ranks[l] = (rankdata(norm, method='dense') - 1).astype(int).reshape(norm.shape)\n",
    "        lower_bound_rank = np.ceil(np.max(ranks[l])*k).astype(int)\n",
    "        ranks[l][ranks[l] <= lower_bound_rank] = 0\n",
    "        ranks[l][ranks[l] > lower_bound_rank] = 1\n",
    "        w = w * ranks[l]\n",
    "        data[...] = torch.from_numpy(w)\n",
    "        pruned_weights.append(data)\n",
    "    pruned_weights.append(weights[layers[-1]])\n",
    "    new_state_dict = OrderedDict()\n",
    "    for l, pw in zip(layers, pruned_weights):\n",
    "        new_state_dict[l] = pw\n",
    "    model.state_dict = new_state_dict\n",
    "    accuracies_np.append(test_accuracy(model, testloader, criterion))\n"
   ]
  },
  {
   "cell_type": "code",
   "execution_count": 15,
   "metadata": {
    "ExecuteTime": {
     "end_time": "2020-05-19T01:58:43.636260Z",
     "start_time": "2020-05-19T01:58:43.424811Z"
    },
    "colab": {
     "base_uri": "https://localhost:8080/",
     "height": 279
    },
    "colab_type": "code",
    "id": "BILpYqa-861c",
    "outputId": "a368b56c-1004-4885-f8c3-8a4a80d70cdd"
   },
   "outputs": [
    {
     "data": {
      "image/png": "[encoded data removed]",
      "text/plain": [
       "<Figure size 432x288 with 1 Axes>"
      ]
     },
     "metadata": {
      "needs_background": "light"
     },
     "output_type": "display_data"
    }
   ],
   "source": [
    "# Plot the sparsity vs accuracy graph\n",
    "\n",
    "import matplotlib.pyplot as plt\n",
    "plt.plot(prune_percentage, accuracies_np, label='Neuron Pruning')\n",
    "plt.plot(prune_percentage, accuracies_wp, label='Weight Pruning')\n",
    "plt.legend(loc='best')\n",
    "plt.xlabel('% sparsity')\n",
    "plt.ylabel('% accuracy')\n",
    "plt.show()"
   ]
  },
  {
   "cell_type": "code",
   "execution_count": null,
   "metadata": {
    "colab": {},
    "colab_type": "code",
    "id": "jwmjYdUu7mCq"
   },
   "outputs": [],
   "source": []
  }
 ],
 "metadata": {
  "accelerator": "GPU",
  "colab": {
   "collapsed_sections": [],
   "name": "Autograd AI Problem Solution.ipynb",
   "provenance": []
  },
  "kernelspec": {
   "display_name": "Python 3",
   "language": "python",
   "name": "python3"
  },
  "language_info": {
   "codemirror_mode": {
    "name": "ipython",
    "version": 3
   },
   "file_extension": ".py",
   "mimetype": "text/x-python",
   "name": "python",
   "nbconvert_exporter": "python",
   "pygments_lexer": "ipython3",
   "version": "3.6.9"
  },
  "toc": {
   "base_numbering": 1,
   "nav_menu": {},
   "number_sections": true,
   "sideBar": true,
   "skip_h1_title": false,
   "title_cell": "Table of Contents",
   "title_sidebar": "Contents",
   "toc_cell": false,
   "toc_position": {},
   "toc_section_display": true,
   "toc_window_display": false
  }
 },
 "nbformat": 4,
 "nbformat_minor": 1
}
