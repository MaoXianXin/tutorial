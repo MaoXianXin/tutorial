{
 "cells": [
  {
   "cell_type": "markdown",
   "metadata": {},
   "source": [
    "# 导入函数库"
   ]
  },
  {
   "cell_type": "code",
   "execution_count": 1,
   "metadata": {
    "ExecuteTime": {
     "end_time": "2020-05-23T12:28:41.730869Z",
     "start_time": "2020-05-23T12:28:40.740535Z"
    }
   },
   "outputs": [],
   "source": [
    "import os\n",
    "import tensorflow as tf\n",
    "import numpy as np\n",
    "from tensorflow import keras  # 在TF2.0版本中,已经是自带Keras了,所以不需要额外安装\n",
    "import tensorflow_model_optimization as tfmot  # 导入TF2.0的模型优化函数库,降低模型优化难度,相当于调用借口解决问题\n",
    "import zipfile\n",
    "import tempfile\n",
    "import tensorflow_datasets as tfds # 这个是之前说过的Tensorflow Datasets"
   ]
  },
  {
   "cell_type": "markdown",
   "metadata": {},
   "source": [
    "# 如果出现显存不够的错误,把这个代码加上"
   ]
  },
  {
   "cell_type": "markdown",
   "metadata": {},
   "source": [
    "可以展示下不加这个出现错误的情形"
   ]
  },
  {
   "cell_type": "code",
   "execution_count": 2,
   "metadata": {
    "ExecuteTime": {
     "end_time": "2020-05-23T12:28:41.759428Z",
     "start_time": "2020-05-23T12:28:41.732171Z"
    }
   },
   "outputs": [],
   "source": [
    "# 加入下面这个代码片段主要是因为TF2.0对RTX20系列显卡支持不是很好,容易爆显存,所以设置成用多少占多少显存,而不是一次性全占了(默认)\n",
    "gpus = tf.config.experimental.list_physical_devices('GPU')\n",
    "if gpus:\n",
    "    try:\n",
    "        for gpu in gpus:\n",
    "            tf.config.experimental.set_memory_growth(gpu, True)\n",
    "    except RuntimeError as e:\n",
    "        print(e)"
   ]
  },
  {
   "cell_type": "markdown",
   "metadata": {},
   "source": [
    "# 定义网络结构"
   ]
  },
  {
   "cell_type": "markdown",
   "metadata": {},
   "source": [
    "## 一些参数设置"
   ]
  },
  {
   "cell_type": "code",
   "execution_count": 3,
   "metadata": {
    "ExecuteTime": {
     "end_time": "2020-05-23T12:28:41.773009Z",
     "start_time": "2020-05-23T12:28:41.760277Z"
    }
   },
   "outputs": [],
   "source": [
    "layers = tf.keras.layers\n",
    "models = tf.keras.models\n",
    "keras_utils = tf.keras.utils"
   ]
  },
  {
   "cell_type": "code",
   "execution_count": 4,
   "metadata": {
    "ExecuteTime": {
     "end_time": "2020-05-23T12:28:41.778951Z",
     "start_time": "2020-05-23T12:28:41.773911Z"
    }
   },
   "outputs": [],
   "source": [
    "WEIGHTS_PATH_NO_TOP = ('https://github.com/fchollet/deep-learning-models/'\n",
    "                       'releases/download/v0.1/'\n",
    "                       'vgg16_weights_tf_dim_ordering_tf_kernels_notop.h5')  # 此处的预训练模型不带全连接层"
   ]
  },
  {
   "cell_type": "markdown",
   "metadata": {},
   "source": [
    "## VGG16模型改写用于Cifar10分类"
   ]
  },
  {
   "cell_type": "code",
   "execution_count": 5,
   "metadata": {
    "ExecuteTime": {
     "end_time": "2020-05-23T12:28:41.789310Z",
     "start_time": "2020-05-23T12:28:41.779887Z"
    }
   },
   "outputs": [],
   "source": [
    "# 关于这里把官方VGG16函数拿了出来,原因是这样的,我们知道Keras主要有Sequential model和Functional model两种构建模型方式,\n",
    "# 而在进行迁移学习的时候，我们经常是加载预训练的模型(设置include_top=False),此时我们很常见的做法是add layer到模型上,\n",
    "# 这样会形成模型嵌套,这个在使用global_pruning的时候会出错,所以我把VGG16函数拿了出来,手动改了下\n",
    "def VGG16(include_top=False,\n",
    "         weights='imagenet',\n",
    "         input_shape=(32, 32, 3),\n",
    "         pooling='avg',\n",
    "         classes=10,\n",
    "         **kwargs):\n",
    "    img_input = layers.Input(shape=input_shape)  # 输入节点\n",
    "    \n",
    "    # Block 1\n",
    "    x = layers.Conv2D(64, (3, 3),\n",
    "                      activation='relu',\n",
    "                      padding='same',\n",
    "                      name='block1_conv1')(img_input)\n",
    "    x = layers.Conv2D(64, (3, 3),\n",
    "                      activation='relu',\n",
    "                      padding='same',\n",
    "                      name='block1_conv2')(x)\n",
    "    x = layers.MaxPooling2D((2, 2), strides=(2, 2), name='block1_pool')(x)\n",
    "\n",
    "    # Block 2\n",
    "    x = layers.Conv2D(128, (3, 3),\n",
    "                      activation='relu',\n",
    "                      padding='same',\n",
    "                      name='block2_conv1')(x)\n",
    "    x = layers.Conv2D(128, (3, 3),\n",
    "                      activation='relu',\n",
    "                      padding='same',\n",
    "                      name='block2_conv2')(x)\n",
    "    x = layers.MaxPooling2D((2, 2), strides=(2, 2), name='block2_pool')(x)\n",
    "\n",
    "    # Block 3\n",
    "    x = layers.Conv2D(256, (3, 3),\n",
    "                      activation='relu',\n",
    "                      padding='same',\n",
    "                      name='block3_conv1')(x)\n",
    "    x = layers.Conv2D(256, (3, 3),\n",
    "                      activation='relu',\n",
    "                      padding='same',\n",
    "                      name='block3_conv2')(x)\n",
    "    x = layers.Conv2D(256, (3, 3),\n",
    "                      activation='relu',\n",
    "                      padding='same',\n",
    "                      name='block3_conv3')(x)\n",
    "    x = layers.MaxPooling2D((2, 2), strides=(2, 2), name='block3_pool')(x)\n",
    "\n",
    "    # Block 4\n",
    "    x = layers.Conv2D(512, (3, 3),\n",
    "                      activation='relu',\n",
    "                      padding='same',\n",
    "                      name='block4_conv1')(x)\n",
    "    x = layers.Conv2D(512, (3, 3),\n",
    "                      activation='relu',\n",
    "                      padding='same',\n",
    "                      name='block4_conv2')(x)\n",
    "    x = layers.Conv2D(512, (3, 3),\n",
    "                      activation='relu',\n",
    "                      padding='same',\n",
    "                      name='block4_conv3')(x)\n",
    "    x = layers.MaxPooling2D((2, 2), strides=(2, 2), name='block4_pool')(x)\n",
    "\n",
    "    # Block 5\n",
    "    x = layers.Conv2D(512, (3, 3),\n",
    "                      activation='relu',\n",
    "                      padding='same',\n",
    "                      name='block5_conv1')(x)\n",
    "    x = layers.Conv2D(512, (3, 3),\n",
    "                      activation='relu',\n",
    "                      padding='same',\n",
    "                      name='block5_conv2')(x)\n",
    "    x = layers.Conv2D(512, (3, 3),\n",
    "                      activation='relu',\n",
    "                      padding='same',\n",
    "                      name='block5_conv3')(x)\n",
    "    x = layers.MaxPooling2D((2, 2), strides=(2, 2), name='block5_pool')(x)\n",
    "    \n",
    "    if pooling == 'avg':\n",
    "        x = layers.GlobalAveragePooling2D()(x)\n",
    "        x = layers.Dense(128, activation='relu', name='fc1')(x)\n",
    "        x = layers.Dense(classes, activation='softmax', name='predictions')(x) # 此处是10分类，而不是ImageNet的1000分类\n",
    "    \n",
    "    inputs = img_input  # inputs是输入节点, x是输出节点\n",
    "    model = models.Model(inputs, x , name='vgg16')  # 生成一个Model, 需要指定输入和输出\n",
    "    \n",
    "    weights_path = keras_utils.get_file(\n",
    "        'vgg16_weights_tf_dim_ordering_tf_kernels_notop.h5',  # 此处加载的是不存在全连接层的预训练模型\n",
    "        WEIGHTS_PATH_NO_TOP,\n",
    "        cache_subdir='models',\n",
    "        file_hash='6d6bbae143d832006294945121d1f1fc')\n",
    "    model.load_weights(weights_path, by_name=True)  \n",
    "    # 加载在ImageNet上预训练过的模型，注意by_name参数很有用，把layer和layer name对应上了\n",
    "    \n",
    "    return model"
   ]
  },
  {
   "cell_type": "markdown",
   "metadata": {},
   "source": [
    "## 声明一个VGG16模型实例"
   ]
  },
  {
   "cell_type": "code",
   "execution_count": 6,
   "metadata": {
    "ExecuteTime": {
     "end_time": "2020-05-23T12:28:42.370097Z",
     "start_time": "2020-05-23T12:28:41.790178Z"
    }
   },
   "outputs": [],
   "source": [
    "model = VGG16()"
   ]
  },
  {
   "cell_type": "markdown",
   "metadata": {},
   "source": [
    "## 这个函数可以用于查看网络结构和参数量"
   ]
  },
  {
   "cell_type": "code",
   "execution_count": 7,
   "metadata": {
    "ExecuteTime": {
     "end_time": "2020-05-23T12:28:42.377889Z",
     "start_time": "2020-05-23T12:28:42.371828Z"
    },
    "scrolled": true
   },
   "outputs": [
    {
     "name": "stdout",
     "output_type": "stream",
     "text": [
      "Model: \"vgg16\"\n",
      "_________________________________________________________________\n",
      "Layer (type)                 Output Shape              Param #   \n",
      "=================================================================\n",
      "input_1 (InputLayer)         [(None, 32, 32, 3)]       0         \n",
      "_________________________________________________________________\n",
      "block1_conv1 (Conv2D)        (None, 32, 32, 64)        1792      \n",
      "_________________________________________________________________\n",
      "block1_conv2 (Conv2D)        (None, 32, 32, 64)        36928     \n",
      "_________________________________________________________________\n",
      "block1_pool (MaxPooling2D)   (None, 16, 16, 64)        0         \n",
      "_________________________________________________________________\n",
      "block2_conv1 (Conv2D)        (None, 16, 16, 128)       73856     \n",
      "_________________________________________________________________\n",
      "block2_conv2 (Conv2D)        (None, 16, 16, 128)       147584    \n",
      "_________________________________________________________________\n",
      "block2_pool (MaxPooling2D)   (None, 8, 8, 128)         0         \n",
      "_________________________________________________________________\n",
      "block3_conv1 (Conv2D)        (None, 8, 8, 256)         295168    \n",
      "_________________________________________________________________\n",
      "block3_conv2 (Conv2D)        (None, 8, 8, 256)         590080    \n",
      "_________________________________________________________________\n",
      "block3_conv3 (Conv2D)        (None, 8, 8, 256)         590080    \n",
      "_________________________________________________________________\n",
      "block3_pool (MaxPooling2D)   (None, 4, 4, 256)         0         \n",
      "_________________________________________________________________\n",
      "block4_conv1 (Conv2D)        (None, 4, 4, 512)         1180160   \n",
      "_________________________________________________________________\n",
      "block4_conv2 (Conv2D)        (None, 4, 4, 512)         2359808   \n",
      "_________________________________________________________________\n",
      "block4_conv3 (Conv2D)        (None, 4, 4, 512)         2359808   \n",
      "_________________________________________________________________\n",
      "block4_pool (MaxPooling2D)   (None, 2, 2, 512)         0         \n",
      "_________________________________________________________________\n",
      "block5_conv1 (Conv2D)        (None, 2, 2, 512)         2359808   \n",
      "_________________________________________________________________\n",
      "block5_conv2 (Conv2D)        (None, 2, 2, 512)         2359808   \n",
      "_________________________________________________________________\n",
      "block5_conv3 (Conv2D)        (None, 2, 2, 512)         2359808   \n",
      "_________________________________________________________________\n",
      "block5_pool (MaxPooling2D)   (None, 1, 1, 512)         0         \n",
      "_________________________________________________________________\n",
      "global_average_pooling2d (Gl (None, 512)               0         \n",
      "_________________________________________________________________\n",
      "fc1 (Dense)                  (None, 128)               65664     \n",
      "_________________________________________________________________\n",
      "predictions (Dense)          (None, 10)                1290      \n",
      "=================================================================\n",
      "Total params: 14,781,642\n",
      "Trainable params: 14,781,642\n",
      "Non-trainable params: 0\n",
      "_________________________________________________________________\n"
     ]
    }
   ],
   "source": [
    "model.summary()"
   ]
  },
  {
   "cell_type": "markdown",
   "metadata": {},
   "source": [
    "## 对特征提取层进行冻结,加快模型训练速度"
   ]
  },
  {
   "cell_type": "markdown",
   "metadata": {},
   "source": [
    "可以展示下不加的情形，更直观的说明为什么需要训练更长时间"
   ]
  },
  {
   "cell_type": "code",
   "execution_count": 8,
   "metadata": {
    "ExecuteTime": {
     "end_time": "2020-05-23T12:28:42.384730Z",
     "start_time": "2020-05-23T12:28:42.378932Z"
    }
   },
   "outputs": [],
   "source": [
    "length = len(model.layers)  # 查看模型有多少层Layer"
   ]
  },
  {
   "cell_type": "code",
   "execution_count": 9,
   "metadata": {
    "ExecuteTime": {
     "end_time": "2020-05-23T12:28:42.391894Z",
     "start_time": "2020-05-23T12:28:42.385640Z"
    }
   },
   "outputs": [],
   "source": [
    "# 对模型的特征提取层进行冻结,可以加快模型训练速度\n",
    "for i in range(length - 2): # 我们看下上面的model.summary()，可以发现最后2层是全连接，所以不冻结\n",
    "    model.layers[i].trainable = False  # 对该层Layer进行冻结"
   ]
  },
  {
   "cell_type": "code",
   "execution_count": 10,
   "metadata": {
    "ExecuteTime": {
     "end_time": "2020-05-23T12:28:42.402476Z",
     "start_time": "2020-05-23T12:28:42.392883Z"
    },
    "scrolled": true
   },
   "outputs": [
    {
     "name": "stdout",
     "output_type": "stream",
     "text": [
      "False\n",
      "False\n",
      "False\n",
      "False\n",
      "False\n",
      "False\n",
      "False\n",
      "False\n",
      "False\n",
      "False\n",
      "False\n",
      "False\n",
      "False\n",
      "False\n",
      "False\n",
      "False\n",
      "False\n",
      "False\n",
      "False\n",
      "False\n",
      "True\n",
      "True\n"
     ]
    }
   ],
   "source": [
    "for i in range(length):\n",
    "    print(model.layers[i].trainable)"
   ]
  },
  {
   "cell_type": "markdown",
   "metadata": {},
   "source": [
    "## 进行模型训练"
   ]
  },
  {
   "cell_type": "code",
   "execution_count": 11,
   "metadata": {
    "ExecuteTime": {
     "end_time": "2020-05-23T12:30:56.112939Z",
     "start_time": "2020-05-23T12:28:42.403475Z"
    },
    "scrolled": true
   },
   "outputs": [
    {
     "name": "stdout",
     "output_type": "stream",
     "text": [
      "Epoch 1/10\n",
      "1563/1563 [==============================] - 10s 6ms/step - loss: 1.9433 - accuracy: 0.5299\n",
      "Epoch 2/10\n",
      "1563/1563 [==============================] - 13s 8ms/step - loss: 1.8750 - accuracy: 0.5907\n",
      "Epoch 3/10\n",
      "1563/1563 [==============================] - 14s 9ms/step - loss: 1.8554 - accuracy: 0.6096\n",
      "Epoch 4/10\n",
      "1563/1563 [==============================] - 14s 9ms/step - loss: 1.8252 - accuracy: 0.6400\n",
      "Epoch 5/10\n",
      "1563/1563 [==============================] - 13s 8ms/step - loss: 1.8120 - accuracy: 0.6538\n",
      "Epoch 6/10\n",
      "1563/1563 [==============================] - 13s 9ms/step - loss: 1.8012 - accuracy: 0.6649\n",
      "Epoch 7/10\n",
      "1563/1563 [==============================] - 13s 9ms/step - loss: 1.7921 - accuracy: 0.6758\n",
      "Epoch 8/10\n",
      "1563/1563 [==============================] - 14s 9ms/step - loss: 1.7850 - accuracy: 0.6833\n",
      "Epoch 9/10\n",
      "1563/1563 [==============================] - 14s 9ms/step - loss: 1.7778 - accuracy: 0.6912\n",
      "Epoch 10/10\n",
      "1563/1563 [==============================] - 13s 8ms/step - loss: 1.7713 - accuracy: 0.6970\n"
     ]
    },
    {
     "data": {
      "text/plain": [
       "<tensorflow.python.keras.callbacks.History at 0x7f6e9024fba8>"
      ]
     },
     "execution_count": 11,
     "metadata": {},
     "output_type": "execute_result"
    }
   ],
   "source": [
    "# 此处使用tfds的方式构建data pipeline\n",
    "(raw_test, raw_train), metadata = tfds.load(\n",
    "    'cifar10',\n",
    "    split=['test', 'train'],\n",
    "    with_info=True,\n",
    "    as_supervised=True\n",
    ")\n",
    "\n",
    "IMG_SIZE = 32 # All images will be resized to 32X32\n",
    "\n",
    "def format_example(image, label):\n",
    "    image = tf.cast(image, tf.float32)\n",
    "    image = (image/127.5) - 1\n",
    "    image = tf.image.resize(image, (IMG_SIZE, IMG_SIZE))\n",
    "    return image, label\n",
    "\n",
    "train = raw_train.map(format_example)\n",
    "test = raw_test.map(format_example)\n",
    "\n",
    "BATCH_SIZE = 32\n",
    "SHUFFLE_BUFFER_SIZE = 1000\n",
    "\n",
    "# 可以体验下这里是否加prefetch(tf.data.experimental.AUTOTUNE)和cache()的区别，对训练速度，以及CPU负载有影响\n",
    "train_batches = train.shuffle(SHUFFLE_BUFFER_SIZE).batch(BATCH_SIZE).cache().prefetch(tf.data.experimental.AUTOTUNE)\n",
    "test_batches = test.batch(BATCH_SIZE)\n",
    "\n",
    "# compile模型并训练\n",
    "model.compile(optimizer='adam',\n",
    "             loss=tf.keras.losses.SparseCategoricalCrossentropy(from_logits=True),\n",
    "             metrics=['accuracy'])\n",
    "\n",
    "model.fit(\n",
    "    train_batches,\n",
    "    epochs=10\n",
    ")"
   ]
  },
  {
   "cell_type": "markdown",
   "metadata": {},
   "source": [
    "## Baseline的test acc和推断速度"
   ]
  },
  {
   "cell_type": "code",
   "execution_count": 12,
   "metadata": {
    "ExecuteTime": {
     "end_time": "2020-05-23T12:30:58.395803Z",
     "start_time": "2020-05-23T12:30:56.115765Z"
    }
   },
   "outputs": [
    {
     "name": "stdout",
     "output_type": "stream",
     "text": [
      "313/313 [==============================] - 2s 6ms/step - loss: 1.8348 - accuracy: 0.6237\n",
      "Baseline test accuracy:  0.6237000226974487\n",
      "Saved baseline model to:  ./baseline.h5\n"
     ]
    }
   ],
   "source": [
    "# 此处我们可以看到Baseline的test acc和inference速度为6ms/step\n",
    "_, baseline_model_accuracy = model.evaluate(test_batches, verbose=1)\n",
    "print('Baseline test accuracy: ', baseline_model_accuracy)\n",
    "\n",
    "keras_file = './baseline.h5'\n",
    "tf.keras.models.save_model(model, keras_file, include_optimizer=False)\n",
    "print('Saved baseline model to: ', keras_file)"
   ]
  },
  {
   "cell_type": "markdown",
   "metadata": {},
   "source": [
    "# 对Baseline进行prune"
   ]
  },
  {
   "cell_type": "code",
   "execution_count": 13,
   "metadata": {
    "ExecuteTime": {
     "end_time": "2020-05-23T12:30:59.909887Z",
     "start_time": "2020-05-23T12:30:58.396734Z"
    },
    "scrolled": true
   },
   "outputs": [
    {
     "name": "stdout",
     "output_type": "stream",
     "text": [
      "WARNING:tensorflow:From /home/mao/.virtualenvs/tf2.0/lib/python3.6/site-packages/tensorflow_model_optimization/python/core/sparsity/keras/pruning_wrapper.py:199: Layer.add_variable (from tensorflow.python.keras.engine.base_layer) is deprecated and will be removed in a future version.\n",
      "Instructions for updating:\n",
      "Please use `layer.add_weight` method instead.\n"
     ]
    },
    {
     "name": "stderr",
     "output_type": "stream",
     "text": [
      "WARNING:tensorflow:From /home/mao/.virtualenvs/tf2.0/lib/python3.6/site-packages/tensorflow_model_optimization/python/core/sparsity/keras/pruning_wrapper.py:199: Layer.add_variable (from tensorflow.python.keras.engine.base_layer) is deprecated and will be removed in a future version.\n",
      "Instructions for updating:\n",
      "Please use `layer.add_weight` method instead.\n"
     ]
    },
    {
     "name": "stdout",
     "output_type": "stream",
     "text": [
      "Model: \"vgg16\"\n",
      "_________________________________________________________________\n",
      "Layer (type)                 Output Shape              Param #   \n",
      "=================================================================\n",
      "input_1 (InputLayer)         [(None, 32, 32, 3)]       0         \n",
      "_________________________________________________________________\n",
      "prune_low_magnitude_block1_c (None, 32, 32, 64)        3522      \n",
      "_________________________________________________________________\n",
      "prune_low_magnitude_block1_c (None, 32, 32, 64)        73794     \n",
      "_________________________________________________________________\n",
      "prune_low_magnitude_block1_p (None, 16, 16, 64)        1         \n",
      "_________________________________________________________________\n",
      "prune_low_magnitude_block2_c (None, 16, 16, 128)       147586    \n",
      "_________________________________________________________________\n",
      "prune_low_magnitude_block2_c (None, 16, 16, 128)       295042    \n",
      "_________________________________________________________________\n",
      "prune_low_magnitude_block2_p (None, 8, 8, 128)         1         \n",
      "_________________________________________________________________\n",
      "prune_low_magnitude_block3_c (None, 8, 8, 256)         590082    \n",
      "_________________________________________________________________\n",
      "prune_low_magnitude_block3_c (None, 8, 8, 256)         1179906   \n",
      "_________________________________________________________________\n",
      "prune_low_magnitude_block3_c (None, 8, 8, 256)         1179906   \n",
      "_________________________________________________________________\n",
      "prune_low_magnitude_block3_p (None, 4, 4, 256)         1         \n",
      "_________________________________________________________________\n",
      "prune_low_magnitude_block4_c (None, 4, 4, 512)         2359810   \n",
      "_________________________________________________________________\n",
      "prune_low_magnitude_block4_c (None, 4, 4, 512)         4719106   \n",
      "_________________________________________________________________\n",
      "prune_low_magnitude_block4_c (None, 4, 4, 512)         4719106   \n",
      "_________________________________________________________________\n",
      "prune_low_magnitude_block4_p (None, 2, 2, 512)         1         \n",
      "_________________________________________________________________\n",
      "prune_low_magnitude_block5_c (None, 2, 2, 512)         4719106   \n",
      "_________________________________________________________________\n",
      "prune_low_magnitude_block5_c (None, 2, 2, 512)         4719106   \n",
      "_________________________________________________________________\n",
      "prune_low_magnitude_block5_c (None, 2, 2, 512)         4719106   \n",
      "_________________________________________________________________\n",
      "prune_low_magnitude_block5_p (None, 1, 1, 512)         1         \n",
      "_________________________________________________________________\n",
      "prune_low_magnitude_global_a (None, 512)               1         \n",
      "_________________________________________________________________\n",
      "prune_low_magnitude_fc1 (Pru (None, 128)               131202    \n",
      "_________________________________________________________________\n",
      "prune_low_magnitude_predicti (None, 10)                2572      \n",
      "=================================================================\n",
      "Total params: 29,558,958\n",
      "Trainable params: 66,954\n",
      "Non-trainable params: 29,492,004\n",
      "_________________________________________________________________\n"
     ]
    }
   ],
   "source": [
    "prune_low_magnitude = tfmot.sparsity.keras.prune_low_magnitude\n",
    "\n",
    "# 计算end_step的值\n",
    "batch_size = BATCH_SIZE\n",
    "epochs = 2\n",
    "\n",
    "num_images = 50000\n",
    "end_step = np.ceil(num_images / batch_size).astype(np.int32) * epochs\n",
    "\n",
    "# 设置pruning参数\n",
    "pruning_params = {\n",
    "    'pruning_schedule': tfmot.sparsity.keras.PolynomialDecay(initial_sparsity=0.50,\n",
    "                                                            final_sparsity=0.80,\n",
    "                                                            begin_step=0,\n",
    "                                                            end_step=end_step)\n",
    "}\n",
    "# 对模型进行全局prune\n",
    "model_for_pruning = prune_low_magnitude(model, **pruning_params)\n",
    "\n",
    "# 重新compile剪枝后的模型\n",
    "model_for_pruning.compile(optimizer='adam',\n",
    "                         loss=tf.keras.losses.SparseCategoricalCrossentropy(from_logits=True),\n",
    "                         metrics=['accuracy'])\n",
    "\n",
    "model_for_pruning.summary()"
   ]
  },
  {
   "cell_type": "markdown",
   "metadata": {},
   "source": [
    "## 训练Baseline_pruned"
   ]
  },
  {
   "cell_type": "code",
   "execution_count": 14,
   "metadata": {
    "ExecuteTime": {
     "end_time": "2020-05-23T12:31:53.792696Z",
     "start_time": "2020-05-23T12:30:59.910799Z"
    }
   },
   "outputs": [
    {
     "name": "stdout",
     "output_type": "stream",
     "text": [
      "Epoch 1/2\n",
      "1563/1563 [==============================] - 26s 16ms/step - loss: 1.8887 - accuracy: 0.5741\n",
      "Epoch 2/2\n",
      "1563/1563 [==============================] - 25s 16ms/step - loss: 1.9391 - accuracy: 0.5388\n"
     ]
    },
    {
     "data": {
      "text/plain": [
       "<tensorflow.python.keras.callbacks.History at 0x7f6f20950630>"
      ]
     },
     "execution_count": 14,
     "metadata": {},
     "output_type": "execute_result"
    }
   ],
   "source": [
    "logdir = './logs'\n",
    "\n",
    "callbacks = [\n",
    "    tfmot.sparsity.keras.UpdatePruningStep(),\n",
    "    tfmot.sparsity.keras.PruningSummaries(log_dir=logdir)\n",
    "]\n",
    "\n",
    "model_for_pruning.fit(train_batches,\n",
    "                     batch_size=batch_size, epochs=epochs,\n",
    "                     callbacks=callbacks)"
   ]
  },
  {
   "cell_type": "markdown",
   "metadata": {},
   "source": [
    "## Baseline_pruned的test acc和推断速度"
   ]
  },
  {
   "cell_type": "code",
   "execution_count": 15,
   "metadata": {
    "ExecuteTime": {
     "end_time": "2020-05-23T12:31:56.497894Z",
     "start_time": "2020-05-23T12:31:53.793664Z"
    }
   },
   "outputs": [
    {
     "name": "stdout",
     "output_type": "stream",
     "text": [
      "313/313 [==============================] - 2s 8ms/step - loss: 1.9271 - accuracy: 0.5507\n",
      "Pruned test accuracy:  0.5507000088691711\n"
     ]
    }
   ],
   "source": [
    "# 此处我们可以看到模型的Baseline_pruned的test acc和inferece速度为8ms/step\n",
    "_, model_for_pruning_accuracy = model_for_pruning.evaluate(test_batches, verbose=1)\n",
    "print('Pruned test accuracy: ', model_for_pruning_accuracy)"
   ]
  },
  {
   "cell_type": "code",
   "execution_count": 16,
   "metadata": {
    "ExecuteTime": {
     "end_time": "2020-05-23T12:31:56.640702Z",
     "start_time": "2020-05-23T12:31:56.500907Z"
    }
   },
   "outputs": [
    {
     "name": "stdout",
     "output_type": "stream",
     "text": [
      "Saved pruned keras model to:  ./baseline_pruned.h5\n"
     ]
    }
   ],
   "source": [
    "model_for_export = tfmot.sparsity.keras.strip_pruning(model_for_pruning)  # 导出模型前要去除pruning wrapper\n",
    "\n",
    "pruned_keras_file = './baseline_pruned.h5'\n",
    "tf.keras.models.save_model(model_for_export, pruned_keras_file, include_optimizer=False)\n",
    "print('Saved pruned keras model to: ', pruned_keras_file)"
   ]
  },
  {
   "cell_type": "markdown",
   "metadata": {},
   "source": [
    "# 比较Baseline和Baseline_pruned模型压缩后的体积大小"
   ]
  },
  {
   "cell_type": "code",
   "execution_count": 17,
   "metadata": {
    "ExecuteTime": {
     "end_time": "2020-05-23T12:31:56.643652Z",
     "start_time": "2020-05-23T12:31:56.641591Z"
    }
   },
   "outputs": [],
   "source": [
    "def get_gzipped_model_size(file):\n",
    "    # Returns size of gzipped model, in bytes\n",
    "    _, zipped_file = tempfile.mkstemp('.zip')\n",
    "    with zipfile.ZipFile(zipped_file, 'w', compression=zipfile.ZIP_DEFLATED) as f:\n",
    "        f.write(file)\n",
    "    return os.path.getsize(zipped_file)"
   ]
  },
  {
   "cell_type": "code",
   "execution_count": 18,
   "metadata": {
    "ExecuteTime": {
     "end_time": "2020-05-23T12:32:00.950910Z",
     "start_time": "2020-05-23T12:31:56.644508Z"
    }
   },
   "outputs": [
    {
     "name": "stdout",
     "output_type": "stream",
     "text": [
      "Size of gzipped baseline Keras model: 54.98 Mib\n",
      "Size of gzipped pruned Keras model: 17.31 Mib\n"
     ]
    }
   ],
   "source": [
    "# 此处是Baseline和Baseline_pruned模型经过压缩后的体积对比\n",
    "print(\"Size of gzipped baseline Keras model: %.2f Mib\" % (get_gzipped_model_size(keras_file) / 1000 / 1000))\n",
    "print(\"Size of gzipped pruned Keras model: %.2f Mib\" % (get_gzipped_model_size(pruned_keras_file) / 1000 / 1000))"
   ]
  },
  {
   "cell_type": "code",
   "execution_count": null,
   "metadata": {},
   "outputs": [],
   "source": []
  }
 ],
 "metadata": {
  "kernelspec": {
   "display_name": "Python 3",
   "language": "python",
   "name": "python3"
  },
  "language_info": {
   "codemirror_mode": {
    "name": "ipython",
    "version": 3
   },
   "file_extension": ".py",
   "mimetype": "text/x-python",
   "name": "python",
   "nbconvert_exporter": "python",
   "pygments_lexer": "ipython3",
   "version": "3.6.9"
  },
  "toc": {
   "base_numbering": 1,
   "nav_menu": {},
   "number_sections": true,
   "sideBar": true,
   "skip_h1_title": false,
   "title_cell": "Table of Contents",
   "title_sidebar": "Contents",
   "toc_cell": false,
   "toc_position": {
    "height": "calc(100% - 180px)",
    "left": "10px",
    "top": "150px",
    "width": "498.594px"
   },
   "toc_section_display": true,
   "toc_window_display": true
  }
 },
 "nbformat": 4,
 "nbformat_minor": 4
}
