{
 "cells": [
  {
   "cell_type": "markdown",
   "metadata": {
    "colab_type": "text",
    "id": "qFdPvlXBOdUN"
   },
   "source": [
    "# Pruning in Keras example"
   ]
  },
  {
   "cell_type": "markdown",
   "metadata": {
    "colab_type": "text",
    "id": "Bjmi3qZeu_xk"
   },
   "source": [
    "## Overview\n",
    "\n",
    "Welcome to an end-to-end example for magnitude-based *weight pruning*.\n",
    "\n",
    "### Other pages\n",
    "For an introduction to what pruning is and to determine if you should use it (including what's supported), see the [overview page](https://www.tensorflow.org/model_optimization/guide/pruning).\n",
    "\n",
    "To quickly find the APIs you need for your use case (beyond fully pruning a model with 80% sparsity), see the\n",
    "[comprehensive guide](https://www.tensorflow.org/model_optimization/guide/pruning/comprehensive_guide.md).\n",
    "\n",
    "### Summary\n",
    "\n",
    "In this tutorial, you will:\n",
    "\n",
    "1.   Train a `tf.keras` model for MNIST from scratch.\n",
    "2.   Fine tune the model by applying the pruning API and see the accuracy.\n",
    "3.   Create 3x smaller TF and TFLite models from pruning.\n",
    "4.   Create a 10x smaller TFLite model from combining pruning and post-training quantization.\n",
    "5.   See the persistence of accuracy from TF to TFLite."
   ]
  },
  {
   "cell_type": "markdown",
   "metadata": {
    "colab_type": "text",
    "id": "yEAZYXvZU_XG"
   },
   "source": [
    "## Setup"
   ]
  },
  {
   "cell_type": "code",
   "execution_count": 1,
   "metadata": {
    "ExecuteTime": {
     "end_time": "2020-05-27T06:46:46.877963Z",
     "start_time": "2020-05-27T06:46:45.347912Z"
    },
    "colab": {},
    "colab_type": "code",
    "id": "yJwIonXEVJo6"
   },
   "outputs": [],
   "source": [
    "import tempfile\n",
    "import os\n",
    "\n",
    "import tensorflow as tf\n",
    "import numpy as np\n",
    "\n",
    "from tensorflow import keras\n",
    "\n",
    "%load_ext tensorboard"
   ]
  },
  {
   "cell_type": "markdown",
   "metadata": {},
   "source": [
    "## 如果出现显存不够的错误，加入下面这个代码片段"
   ]
  },
  {
   "cell_type": "code",
   "execution_count": 2,
   "metadata": {
    "ExecuteTime": {
     "end_time": "2020-05-27T06:46:47.127851Z",
     "start_time": "2020-05-27T06:46:46.879109Z"
    }
   },
   "outputs": [],
   "source": [
    "# 加入下面这个代码片段主要是因为TF2.0对RTX20系列显卡支持不是很好,容易爆显存,所以设置成用多少占多少显存,而不是一次性全占了(默认)\n",
    "gpus = tf.config.experimental.list_physical_devices('GPU')\n",
    "if gpus:\n",
    "    try:\n",
    "        for gpu in gpus:\n",
    "            tf.config.experimental.set_memory_growth(gpu, True)\n",
    "    except RuntimeError as e:\n",
    "        print(e)"
   ]
  },
  {
   "cell_type": "markdown",
   "metadata": {
    "colab_type": "text",
    "id": "psViY5PRDurp"
   },
   "source": [
    "## Train a model for MNIST without pruning"
   ]
  },
  {
   "cell_type": "code",
   "execution_count": 3,
   "metadata": {
    "ExecuteTime": {
     "end_time": "2020-05-27T06:49:16.753294Z",
     "start_time": "2020-05-27T06:46:47.131909Z"
    },
    "colab": {},
    "colab_type": "code",
    "id": "pbY-KGMPvbW9",
    "scrolled": true
   },
   "outputs": [
    {
     "name": "stdout",
     "output_type": "stream",
     "text": [
      "Epoch 1/30\n",
      "1688/1688 [==============================] - 6s 4ms/step - loss: 0.3111 - accuracy: 0.9117 - val_loss: 0.1281 - val_accuracy: 0.9665\n",
      "Epoch 2/30\n",
      "1688/1688 [==============================] - 5s 3ms/step - loss: 0.1268 - accuracy: 0.9640 - val_loss: 0.0894 - val_accuracy: 0.9763\n",
      "Epoch 3/30\n",
      "1688/1688 [==============================] - 3s 2ms/step - loss: 0.0913 - accuracy: 0.9740 - val_loss: 0.0715 - val_accuracy: 0.9807\n",
      "Epoch 4/30\n",
      "1688/1688 [==============================] - 5s 3ms/step - loss: 0.0750 - accuracy: 0.9787 - val_loss: 0.0698 - val_accuracy: 0.9813\n",
      "Epoch 5/30\n",
      "1688/1688 [==============================] - 5s 3ms/step - loss: 0.0635 - accuracy: 0.9819 - val_loss: 0.0643 - val_accuracy: 0.9828\n",
      "Epoch 6/30\n",
      "1688/1688 [==============================] - 7s 4ms/step - loss: 0.0561 - accuracy: 0.9832 - val_loss: 0.0602 - val_accuracy: 0.9835\n",
      "Epoch 7/30\n",
      "1688/1688 [==============================] - 3s 2ms/step - loss: 0.0497 - accuracy: 0.9852 - val_loss: 0.0582 - val_accuracy: 0.9843\n",
      "Epoch 8/30\n",
      "1688/1688 [==============================] - 5s 3ms/step - loss: 0.0456 - accuracy: 0.9866 - val_loss: 0.0596 - val_accuracy: 0.9838\n",
      "Epoch 9/30\n",
      "1688/1688 [==============================] - 5s 3ms/step - loss: 0.0410 - accuracy: 0.9879 - val_loss: 0.0586 - val_accuracy: 0.9853\n",
      "Epoch 10/30\n",
      "1688/1688 [==============================] - 5s 3ms/step - loss: 0.0380 - accuracy: 0.9884 - val_loss: 0.0587 - val_accuracy: 0.9870\n",
      "Epoch 11/30\n",
      "1688/1688 [==============================] - 4s 2ms/step - loss: 0.0342 - accuracy: 0.9901 - val_loss: 0.0605 - val_accuracy: 0.9843\n",
      "Epoch 12/30\n",
      "1688/1688 [==============================] - 6s 3ms/step - loss: 0.0316 - accuracy: 0.9903 - val_loss: 0.0590 - val_accuracy: 0.9863\n",
      "Epoch 13/30\n",
      "1688/1688 [==============================] - 5s 3ms/step - loss: 0.0284 - accuracy: 0.9917 - val_loss: 0.0584 - val_accuracy: 0.9860\n",
      "Epoch 14/30\n",
      "1688/1688 [==============================] - 5s 3ms/step - loss: 0.0265 - accuracy: 0.9919 - val_loss: 0.0607 - val_accuracy: 0.9852\n",
      "Epoch 15/30\n",
      "1688/1688 [==============================] - 5s 3ms/step - loss: 0.0239 - accuracy: 0.9929 - val_loss: 0.0618 - val_accuracy: 0.9852\n",
      "Epoch 16/30\n",
      "1688/1688 [==============================] - 6s 3ms/step - loss: 0.0221 - accuracy: 0.9935 - val_loss: 0.0650 - val_accuracy: 0.9850\n",
      "Epoch 17/30\n",
      "1688/1688 [==============================] - 6s 3ms/step - loss: 0.0207 - accuracy: 0.9941 - val_loss: 0.0654 - val_accuracy: 0.9855\n",
      "Epoch 18/30\n",
      "1688/1688 [==============================] - 5s 3ms/step - loss: 0.0184 - accuracy: 0.9948 - val_loss: 0.0667 - val_accuracy: 0.9855\n",
      "Epoch 19/30\n",
      "1688/1688 [==============================] - 4s 2ms/step - loss: 0.0167 - accuracy: 0.9953 - val_loss: 0.0724 - val_accuracy: 0.9863\n",
      "Epoch 20/30\n",
      "1688/1688 [==============================] - 5s 3ms/step - loss: 0.0164 - accuracy: 0.9954 - val_loss: 0.0701 - val_accuracy: 0.9848\n",
      "Epoch 21/30\n",
      "1688/1688 [==============================] - 5s 3ms/step - loss: 0.0145 - accuracy: 0.9960 - val_loss: 0.0728 - val_accuracy: 0.9845\n",
      "Epoch 22/30\n",
      "1688/1688 [==============================] - 5s 3ms/step - loss: 0.0131 - accuracy: 0.9962 - val_loss: 0.0723 - val_accuracy: 0.9842\n",
      "Epoch 23/30\n",
      "1688/1688 [==============================] - 5s 3ms/step - loss: 0.0123 - accuracy: 0.9968 - val_loss: 0.0719 - val_accuracy: 0.9853\n",
      "Epoch 24/30\n",
      "1688/1688 [==============================] - 5s 3ms/step - loss: 0.0112 - accuracy: 0.9971 - val_loss: 0.0757 - val_accuracy: 0.9845\n",
      "Epoch 25/30\n",
      "1688/1688 [==============================] - 5s 3ms/step - loss: 0.0104 - accuracy: 0.9972 - val_loss: 0.0793 - val_accuracy: 0.9848\n",
      "Epoch 26/30\n",
      "1688/1688 [==============================] - 5s 3ms/step - loss: 0.0101 - accuracy: 0.9973 - val_loss: 0.0806 - val_accuracy: 0.9848\n",
      "Epoch 27/30\n",
      "1688/1688 [==============================] - 5s 3ms/step - loss: 0.0090 - accuracy: 0.9976 - val_loss: 0.0765 - val_accuracy: 0.9848\n",
      "Epoch 28/30\n",
      "1688/1688 [==============================] - 4s 2ms/step - loss: 0.0080 - accuracy: 0.9980 - val_loss: 0.0851 - val_accuracy: 0.9835\n",
      "Epoch 29/30\n",
      "1688/1688 [==============================] - 3s 2ms/step - loss: 0.0076 - accuracy: 0.9981 - val_loss: 0.0854 - val_accuracy: 0.9835\n",
      "Epoch 30/30\n",
      "1688/1688 [==============================] - 5s 3ms/step - loss: 0.0071 - accuracy: 0.9982 - val_loss: 0.0939 - val_accuracy: 0.9833\n"
     ]
    },
    {
     "data": {
      "text/plain": [
       "<tensorflow.python.keras.callbacks.History at 0x7f00405889e8>"
      ]
     },
     "execution_count": 3,
     "metadata": {},
     "output_type": "execute_result"
    }
   ],
   "source": [
    "# Load MNIST dataset\n",
    "mnist = keras.datasets.mnist\n",
    "(train_images, train_labels), (test_images, test_labels) = mnist.load_data()\n",
    "\n",
    "# Normalize the input image so that each pixel value is between 0 to 1.\n",
    "train_images = train_images / 255.0\n",
    "test_images = test_images / 255.0\n",
    "\n",
    "# Define the model architecture.\n",
    "model = keras.Sequential([\n",
    "  keras.layers.InputLayer(input_shape=(28, 28)),\n",
    "  keras.layers.Reshape(target_shape=(28, 28, 1)),\n",
    "  keras.layers.Conv2D(filters=12, kernel_size=(3, 3), activation=tf.nn.relu),\n",
    "  keras.layers.MaxPooling2D(pool_size=(2, 2)),\n",
    "  keras.layers.Flatten(),\n",
    "  keras.layers.Dense(10)\n",
    "])\n",
    "\n",
    "# Train the digit classification model\n",
    "model.compile(optimizer='adam',\n",
    "              loss=tf.keras.losses.SparseCategoricalCrossentropy(from_logits=True),\n",
    "              metrics=['accuracy'])\n",
    "\n",
    "model.fit(\n",
    "  train_images,\n",
    "  train_labels,\n",
    "  epochs=30,\n",
    "  batch_size=32,\n",
    "  validation_split=0.1,\n",
    ")"
   ]
  },
  {
   "cell_type": "markdown",
   "metadata": {
    "colab_type": "text",
    "id": "G1qKfXNqo9hk"
   },
   "source": [
    "Evaluate baseline test accuracy and save the model for later usage."
   ]
  },
  {
   "cell_type": "code",
   "execution_count": 4,
   "metadata": {
    "ExecuteTime": {
     "end_time": "2020-05-27T06:49:17.082568Z",
     "start_time": "2020-05-27T06:49:16.754466Z"
    },
    "colab": {},
    "colab_type": "code",
    "id": "RyIKnbVZafIH"
   },
   "outputs": [
    {
     "name": "stdout",
     "output_type": "stream",
     "text": [
      "Baseline test accuracy: 0.9797999858856201\n",
      "Saved baseline model to: /tmp/tmpcjdf03th.h5\n"
     ]
    }
   ],
   "source": [
    "_, baseline_model_accuracy = model.evaluate(\n",
    "    test_images, test_labels, verbose=0)\n",
    "\n",
    "print('Baseline test accuracy:', baseline_model_accuracy)\n",
    "\n",
    "_, keras_file = tempfile.mkstemp('.h5')\n",
    "tf.keras.models.save_model(model, keras_file, include_optimizer=False)\n",
    "print('Saved baseline model to:', keras_file)"
   ]
  },
  {
   "cell_type": "markdown",
   "metadata": {
    "colab_type": "text",
    "id": "K8747K9OE72P"
   },
   "source": [
    "## Fine-tune pre-trained model with pruning\n"
   ]
  },
  {
   "cell_type": "markdown",
   "metadata": {
    "colab_type": "text",
    "id": "F19k7ExXF_h2"
   },
   "source": [
    "### Define the model"
   ]
  },
  {
   "cell_type": "markdown",
   "metadata": {
    "colab_type": "text",
    "id": "JsZROpNYMWQ0"
   },
   "source": [
    "You will apply pruning to the whole model and see this in the model summary.\n",
    "\n",
    "In this example, you start the model with 50% sparsity (50% zeros in weights)\n",
    "and end with 80% sparsity.\n",
    "\n",
    "In the [comprehensive guide](https://www.tensorflow.org/model_optimization/guide/pruning/comprehensive_guide.md), you can see how to prune some layers for model accuracy improvements."
   ]
  },
  {
   "cell_type": "code",
   "execution_count": 5,
   "metadata": {
    "ExecuteTime": {
     "end_time": "2020-05-27T06:49:17.867082Z",
     "start_time": "2020-05-27T06:49:17.083953Z"
    },
    "colab": {},
    "colab_type": "code",
    "id": "oq6blGjgFDCW"
   },
   "outputs": [
    {
     "name": "stdout",
     "output_type": "stream",
     "text": [
      "WARNING:tensorflow:From /home/mao/.virtualenvs/tf2.0/lib/python3.6/site-packages/tensorflow_model_optimization/python/core/sparsity/keras/pruning_wrapper.py:219: Layer.add_variable (from tensorflow.python.keras.engine.base_layer) is deprecated and will be removed in a future version.\n",
      "Instructions for updating:\n",
      "Please use `layer.add_weight` method instead.\n",
      "Model: \"sequential\"\n",
      "_________________________________________________________________\n",
      "Layer (type)                 Output Shape              Param #   \n",
      "=================================================================\n",
      "prune_low_magnitude_reshape  (None, 28, 28, 1)         1         \n",
      "_________________________________________________________________\n",
      "prune_low_magnitude_conv2d ( (None, 26, 26, 12)        230       \n",
      "_________________________________________________________________\n",
      "prune_low_magnitude_max_pool (None, 13, 13, 12)        1         \n",
      "_________________________________________________________________\n",
      "prune_low_magnitude_flatten  (None, 2028)              1         \n",
      "_________________________________________________________________\n",
      "prune_low_magnitude_dense (P (None, 10)                40572     \n",
      "=================================================================\n",
      "Total params: 40,805\n",
      "Trainable params: 20,410\n",
      "Non-trainable params: 20,395\n",
      "_________________________________________________________________\n"
     ]
    }
   ],
   "source": [
    "import tensorflow_model_optimization as tfmot\n",
    "\n",
    "prune_low_magnitude = tfmot.sparsity.keras.prune_low_magnitude\n",
    "\n",
    "# Compute end step to finish pruning after 2 epochs.\n",
    "batch_size = 128\n",
    "epochs = 20\n",
    "validation_split = 0.1 # 10% of training set will be used for validation set. \n",
    "\n",
    "num_images = train_images.shape[0] * (1 - validation_split)\n",
    "end_step = np.ceil(num_images / batch_size).astype(np.int32) * epochs\n",
    "\n",
    "# Define model for pruning.\n",
    "pruning_params = {\n",
    "      'pruning_schedule': tfmot.sparsity.keras.PolynomialDecay(initial_sparsity=0.50,\n",
    "                                                               final_sparsity=0.80,\n",
    "                                                               begin_step=0,\n",
    "                                                               end_step=end_step)\n",
    "}\n",
    "\n",
    "model_for_pruning = prune_low_magnitude(model, **pruning_params)\n",
    "\n",
    "# `prune_low_magnitude` requires a recompile.\n",
    "model_for_pruning.compile(optimizer='adam',\n",
    "              loss=tf.keras.losses.SparseCategoricalCrossentropy(from_logits=True),\n",
    "              metrics=['accuracy'])\n",
    "\n",
    "model_for_pruning.summary()"
   ]
  },
  {
   "cell_type": "markdown",
   "metadata": {
    "colab_type": "text",
    "id": "uDr2ijwpGCI-"
   },
   "source": [
    "### Train and evaluate the model against baseline"
   ]
  },
  {
   "cell_type": "markdown",
   "metadata": {
    "colab_type": "text",
    "id": "XUBEn94hXYB1"
   },
   "source": [
    "Fine tune with pruning for two epochs.\n",
    "\n",
    "`tfmot.sparsity.keras.UpdatePruningStep` is required during training, and `tfmot.sparsity.keras.PruningSummaries` provides logs for tracking progress and debugging."
   ]
  },
  {
   "cell_type": "code",
   "execution_count": 6,
   "metadata": {
    "ExecuteTime": {
     "end_time": "2020-05-27T06:49:53.807592Z",
     "start_time": "2020-05-27T06:49:17.868047Z"
    },
    "colab": {},
    "colab_type": "code",
    "id": "_PHDGJryE31X",
    "scrolled": true
   },
   "outputs": [
    {
     "name": "stdout",
     "output_type": "stream",
     "text": [
      "Epoch 1/20\n",
      "422/422 [==============================] - 2s 4ms/step - loss: 0.0258 - accuracy: 0.9911 - val_loss: 0.0787 - val_accuracy: 0.9813\n",
      "Epoch 2/20\n",
      "422/422 [==============================] - 2s 4ms/step - loss: 0.0257 - accuracy: 0.9914 - val_loss: 0.0779 - val_accuracy: 0.9808\n",
      "Epoch 3/20\n",
      "422/422 [==============================] - 2s 4ms/step - loss: 0.0250 - accuracy: 0.9917 - val_loss: 0.0777 - val_accuracy: 0.9823\n",
      "Epoch 4/20\n",
      "422/422 [==============================] - 1s 3ms/step - loss: 0.0285 - accuracy: 0.9906 - val_loss: 0.0804 - val_accuracy: 0.9808\n",
      "Epoch 5/20\n",
      "422/422 [==============================] - 2s 4ms/step - loss: 0.0329 - accuracy: 0.9888 - val_loss: 0.0962 - val_accuracy: 0.9760\n",
      "Epoch 6/20\n",
      "422/422 [==============================] - 2s 4ms/step - loss: 0.0401 - accuracy: 0.9861 - val_loss: 0.0853 - val_accuracy: 0.9778\n",
      "Epoch 7/20\n",
      "422/422 [==============================] - 2s 4ms/step - loss: 0.0521 - accuracy: 0.9828 - val_loss: 0.0917 - val_accuracy: 0.9748\n",
      "Epoch 8/20\n",
      "422/422 [==============================] - 1s 3ms/step - loss: 0.0511 - accuracy: 0.9829 - val_loss: 0.0882 - val_accuracy: 0.9773\n",
      "Epoch 9/20\n",
      "422/422 [==============================] - 2s 4ms/step - loss: 0.0487 - accuracy: 0.9838 - val_loss: 0.0922 - val_accuracy: 0.9763\n",
      "Epoch 10/20\n",
      "422/422 [==============================] - 2s 4ms/step - loss: 0.0575 - accuracy: 0.9809 - val_loss: 0.0898 - val_accuracy: 0.9773\n",
      "Epoch 11/20\n",
      "422/422 [==============================] - 2s 4ms/step - loss: 0.0645 - accuracy: 0.9783 - val_loss: 0.0921 - val_accuracy: 0.9762\n",
      "Epoch 12/20\n",
      "422/422 [==============================] - 2s 4ms/step - loss: 0.0632 - accuracy: 0.9789 - val_loss: 0.0893 - val_accuracy: 0.9780\n",
      "Epoch 13/20\n",
      "422/422 [==============================] - 2s 4ms/step - loss: 0.0730 - accuracy: 0.9756 - val_loss: 0.0954 - val_accuracy: 0.9762\n",
      "Epoch 14/20\n",
      "422/422 [==============================] - 2s 4ms/step - loss: 0.0676 - accuracy: 0.9772 - val_loss: 0.1236 - val_accuracy: 0.9663\n",
      "Epoch 15/20\n",
      "422/422 [==============================] - 2s 5ms/step - loss: 0.0726 - accuracy: 0.9758 - val_loss: 0.0912 - val_accuracy: 0.9773\n",
      "Epoch 16/20\n",
      "422/422 [==============================] - 2s 4ms/step - loss: 0.0672 - accuracy: 0.9780 - val_loss: 0.0905 - val_accuracy: 0.9778\n",
      "Epoch 17/20\n",
      "422/422 [==============================] - 2s 4ms/step - loss: 0.0648 - accuracy: 0.9789 - val_loss: 0.0901 - val_accuracy: 0.9792\n",
      "Epoch 18/20\n",
      "422/422 [==============================] - 2s 5ms/step - loss: 0.0635 - accuracy: 0.9796 - val_loss: 0.0905 - val_accuracy: 0.9770\n",
      "Epoch 19/20\n",
      "422/422 [==============================] - 2s 4ms/step - loss: 0.0621 - accuracy: 0.9803 - val_loss: 0.0908 - val_accuracy: 0.9770\n",
      "Epoch 20/20\n",
      "422/422 [==============================] - 2s 4ms/step - loss: 0.0606 - accuracy: 0.9807 - val_loss: 0.0908 - val_accuracy: 0.9777\n"
     ]
    },
    {
     "data": {
      "text/plain": [
       "<tensorflow.python.keras.callbacks.History at 0x7f00c85606d8>"
      ]
     },
     "execution_count": 6,
     "metadata": {},
     "output_type": "execute_result"
    }
   ],
   "source": [
    "logdir = tempfile.mkdtemp()\n",
    "\n",
    "callbacks = [\n",
    "  tfmot.sparsity.keras.UpdatePruningStep(),\n",
    "  tfmot.sparsity.keras.PruningSummaries(log_dir=logdir),\n",
    "]\n",
    "  \n",
    "model_for_pruning.fit(train_images, train_labels,\n",
    "                  batch_size=batch_size, epochs=epochs, validation_split=validation_split,\n",
    "                  callbacks=callbacks)"
   ]
  },
  {
   "cell_type": "markdown",
   "metadata": {
    "colab_type": "text",
    "id": "-byC2lYlMkfN"
   },
   "source": [
    "For this example, there is minimal loss in test accuracy after pruning, compared to the baseline."
   ]
  },
  {
   "cell_type": "code",
   "execution_count": 7,
   "metadata": {
    "ExecuteTime": {
     "end_time": "2020-05-27T06:49:54.277608Z",
     "start_time": "2020-05-27T06:49:53.814810Z"
    },
    "colab": {},
    "colab_type": "code",
    "id": "6bMFTKSSHyyZ"
   },
   "outputs": [
    {
     "name": "stdout",
     "output_type": "stream",
     "text": [
      "Baseline test accuracy: 0.9797999858856201\n",
      "Pruned test accuracy: 0.9714999794960022\n"
     ]
    }
   ],
   "source": [
    "_, model_for_pruning_accuracy = model_for_pruning.evaluate(\n",
    "   test_images, test_labels, verbose=0)\n",
    "\n",
    "print('Baseline test accuracy:', baseline_model_accuracy) \n",
    "print('Pruned test accuracy:', model_for_pruning_accuracy)"
   ]
  },
  {
   "cell_type": "markdown",
   "metadata": {
    "colab_type": "text",
    "id": "zQFiZsqqc0vS"
   },
   "source": [
    "The logs show the progression of sparsity on a per-layer basis."
   ]
  },
  {
   "cell_type": "code",
   "execution_count": 8,
   "metadata": {
    "ExecuteTime": {
     "end_time": "2020-05-27T06:49:55.834145Z",
     "start_time": "2020-05-27T06:49:54.278663Z"
    },
    "colab": {},
    "colab_type": "code",
    "id": "LdLm4hVYc1wx"
   },
   "outputs": [
    {
     "data": {
      "text/html": [
       "\n",
       "      <iframe id=\"tensorboard-frame-dcb33f25b55d15d\" width=\"100%\" height=\"800\" frameborder=\"0\">\n",
       "      </iframe>\n",
       "      <script>\n",
       "        (function() {\n",
       "          const frame = document.getElementById(\"tensorboard-frame-dcb33f25b55d15d\");\n",
       "          const url = new URL(\"/\", window.location);\n",
       "          url.port = 6006;\n",
       "          frame.src = url;\n",
       "        })();\n",
       "      </script>\n",
       "  "
      ],
      "text/plain": [
       "<IPython.core.display.HTML object>"
      ]
     },
     "metadata": {},
     "output_type": "display_data"
    }
   ],
   "source": [
    "#docs_infra: no_execute\n",
    "%tensorboard --logdir={logdir}"
   ]
  },
  {
   "cell_type": "markdown",
   "metadata": {
    "colab_type": "text",
    "id": "d1UFCxxSIIf5"
   },
   "source": [
    "For non-Colab users, you can see [the results of a previous run](https://tensorboard.dev/experiment/sRQnrycaTMWQOaswXzClYA/#scalars&_smoothingWeight=0) of this code block on [TensorBoard.dev](https://tensorboard.dev/)."
   ]
  },
  {
   "cell_type": "markdown",
   "metadata": {
    "colab_type": "text",
    "id": "2IepmUPSITn6"
   },
   "source": [
    "## Create 3x smaller models from pruning"
   ]
  },
  {
   "cell_type": "markdown",
   "metadata": {
    "colab_type": "text",
    "id": "1FgNP4rbOLH8"
   },
   "source": [
    "Both `tfmot.sparsity.keras.strip_pruning` and applying a standard compression algorithm (e.g. via gzip) are necessary to see the compression\n",
    "benefits of pruning.\n",
    "\n",
    "First, create a compressible model for TensorFlow."
   ]
  },
  {
   "cell_type": "code",
   "execution_count": 9,
   "metadata": {
    "ExecuteTime": {
     "end_time": "2020-05-27T06:49:55.903162Z",
     "start_time": "2020-05-27T06:49:55.839098Z"
    },
    "colab": {},
    "colab_type": "code",
    "id": "w7fztWsAOHTz"
   },
   "outputs": [
    {
     "name": "stdout",
     "output_type": "stream",
     "text": [
      "Saved pruned Keras model to: /tmp/tmpa0ksl1sv.h5\n"
     ]
    }
   ],
   "source": [
    "model_for_export = tfmot.sparsity.keras.strip_pruning(model_for_pruning)\n",
    "\n",
    "_, pruned_keras_file = tempfile.mkstemp('.h5')\n",
    "tf.keras.models.save_model(model_for_export, pruned_keras_file, include_optimizer=False)\n",
    "print('Saved pruned Keras model to:', pruned_keras_file)"
   ]
  },
  {
   "cell_type": "markdown",
   "metadata": {
    "colab_type": "text",
    "id": "X4_bixlrtTbF"
   },
   "source": [
    "Then, create a compressible model for TFLite."
   ]
  },
  {
   "cell_type": "code",
   "execution_count": 10,
   "metadata": {
    "ExecuteTime": {
     "end_time": "2020-05-27T06:49:57.630822Z",
     "start_time": "2020-05-27T06:49:55.904293Z"
    },
    "colab": {},
    "colab_type": "code",
    "id": "uIKxSSHmrJSa"
   },
   "outputs": [
    {
     "name": "stdout",
     "output_type": "stream",
     "text": [
      "Saved pruned TFLite model to: /tmp/tmp4ykyc6qj.tflite\n"
     ]
    }
   ],
   "source": [
    "converter = tf.lite.TFLiteConverter.from_keras_model(model_for_export)\n",
    "pruned_tflite_model = converter.convert()\n",
    "\n",
    "_, pruned_tflite_file = tempfile.mkstemp('.tflite')\n",
    "\n",
    "with open(pruned_tflite_file, 'wb') as f:\n",
    "  f.write(pruned_tflite_model)\n",
    "\n",
    "print('Saved pruned TFLite model to:', pruned_tflite_file)"
   ]
  },
  {
   "cell_type": "markdown",
   "metadata": {
    "colab_type": "text",
    "id": "c4lv-lRKuMY4"
   },
   "source": [
    "Define a helper function to actually compress the models via gzip and measure the zipped size."
   ]
  },
  {
   "cell_type": "code",
   "execution_count": 11,
   "metadata": {
    "ExecuteTime": {
     "end_time": "2020-05-27T06:49:57.635384Z",
     "start_time": "2020-05-27T06:49:57.632248Z"
    },
    "colab": {},
    "colab_type": "code",
    "id": "-E7DXEgUrCDZ"
   },
   "outputs": [],
   "source": [
    "def get_gzipped_model_size(file):\n",
    "    # Returns size of gzipped model, in bytes.\n",
    "    import os\n",
    "    import zipfile\n",
    "\n",
    "    _, zipped_file = tempfile.mkstemp('.zip')\n",
    "    with zipfile.ZipFile(zipped_file, 'w', compression=zipfile.ZIP_DEFLATED) as f:\n",
    "        f.write(file)\n",
    "\n",
    "    return os.path.getsize(zipped_file)"
   ]
  },
  {
   "cell_type": "markdown",
   "metadata": {
    "colab_type": "text",
    "id": "caxUoJ_BunqU"
   },
   "source": [
    "Compare and see that the models are 3x smaller from pruning."
   ]
  },
  {
   "cell_type": "code",
   "execution_count": 12,
   "metadata": {
    "ExecuteTime": {
     "end_time": "2020-05-27T06:49:57.653853Z",
     "start_time": "2020-05-27T06:49:57.636270Z"
    },
    "colab": {},
    "colab_type": "code",
    "id": "HzSXC_nxuqJX"
   },
   "outputs": [
    {
     "name": "stdout",
     "output_type": "stream",
     "text": [
      "Size of gzipped baseline Keras model: 78028.00 bytes\n",
      "Size of gzipped pruned Keras model: 25657.00 bytes\n",
      "Size of gzipped pruned TFlite model: 24752.00 bytes\n"
     ]
    }
   ],
   "source": [
    "print(\"Size of gzipped baseline Keras model: %.2f bytes\" % (get_gzipped_model_size(keras_file)))\n",
    "print(\"Size of gzipped pruned Keras model: %.2f bytes\" % (get_gzipped_model_size(pruned_keras_file)))\n",
    "print(\"Size of gzipped pruned TFlite model: %.2f bytes\" % (get_gzipped_model_size(pruned_tflite_file)))"
   ]
  },
  {
   "cell_type": "markdown",
   "metadata": {
    "colab_type": "text",
    "id": "z8D7WnFF5DZR"
   },
   "source": [
    "## Create a 10x smaller model from combining pruning and quantization"
   ]
  },
  {
   "cell_type": "markdown",
   "metadata": {
    "colab_type": "text",
    "id": "I1c2IecBRCdQ"
   },
   "source": [
    "You can apply post-training quantization to the pruned model for additional benefits."
   ]
  },
  {
   "cell_type": "code",
   "execution_count": 13,
   "metadata": {
    "ExecuteTime": {
     "end_time": "2020-05-27T06:49:59.270673Z",
     "start_time": "2020-05-27T06:49:57.654853Z"
    },
    "colab": {},
    "colab_type": "code",
    "id": "jy_Lgfh8VkyX"
   },
   "outputs": [
    {
     "name": "stdout",
     "output_type": "stream",
     "text": [
      "Saved quantized and pruned TFLite model to: /tmp/tmpy_3ud6ge.tflite\n",
      "Size of gzipped baseline Keras model: 78028.00 bytes\n",
      "Size of gzipped pruned and quantized TFlite model: 7824.00 bytes\n"
     ]
    }
   ],
   "source": [
    "converter = tf.lite.TFLiteConverter.from_keras_model(model_for_export)\n",
    "converter.optimizations = [tf.lite.Optimize.DEFAULT]\n",
    "quantized_and_pruned_tflite_model = converter.convert()\n",
    "\n",
    "_, quantized_and_pruned_tflite_file = tempfile.mkstemp('.tflite')\n",
    "\n",
    "with open(quantized_and_pruned_tflite_file, 'wb') as f:\n",
    "  f.write(quantized_and_pruned_tflite_model)\n",
    "\n",
    "print('Saved quantized and pruned TFLite model to:', quantized_and_pruned_tflite_file)\n",
    "\n",
    "print(\"Size of gzipped baseline Keras model: %.2f bytes\" % (get_gzipped_model_size(keras_file)))\n",
    "print(\"Size of gzipped pruned and quantized TFlite model: %.2f bytes\" % (get_gzipped_model_size(quantized_and_pruned_tflite_file)))"
   ]
  },
  {
   "cell_type": "markdown",
   "metadata": {
    "colab_type": "text",
    "id": "BEYsyYVqNgeY"
   },
   "source": [
    "## See persistence of accuracy from TF to TFLite"
   ]
  },
  {
   "cell_type": "markdown",
   "metadata": {
    "colab_type": "text",
    "id": "saadXD4JQsBK"
   },
   "source": [
    "Define a helper function to evaluate the TF Lite model on the test dataset."
   ]
  },
  {
   "cell_type": "code",
   "execution_count": 14,
   "metadata": {
    "ExecuteTime": {
     "end_time": "2020-05-27T06:49:59.275383Z",
     "start_time": "2020-05-27T06:49:59.271701Z"
    },
    "colab": {},
    "colab_type": "code",
    "id": "b8yBouuGNqls"
   },
   "outputs": [],
   "source": [
    "import numpy as np\n",
    "\n",
    "def evaluate_model(interpreter):\n",
    "    input_index = interpreter.get_input_details()[0][\"index\"]\n",
    "    output_index = interpreter.get_output_details()[0][\"index\"]\n",
    "\n",
    "    # Run predictions on ever y image in the \"test\" dataset.\n",
    "    prediction_digits = []\n",
    "    for i, test_image in enumerate(test_images):\n",
    "        if i % 1000 == 0:\n",
    "            print('Evaluated on {n} results so far.'.format(n=i))\n",
    "        # Pre-processing: add batch dimension and convert to float32 to match with\n",
    "        # the model's input data format.\n",
    "        test_image = np.expand_dims(test_image, axis=0).astype(np.float32)\n",
    "        interpreter.set_tensor(input_index, test_image)\n",
    "\n",
    "        # Run inference.\n",
    "        interpreter.invoke()\n",
    "\n",
    "        # Post-processing: remove batch dimension and find the digit with highest\n",
    "        # probability.\n",
    "        output = interpreter.tensor(output_index)\n",
    "        digit = np.argmax(output()[0])\n",
    "        prediction_digits.append(digit)\n",
    "\n",
    "    print('\\n')\n",
    "    # Compare prediction results with ground truth labels to calculate accuracy.\n",
    "    prediction_digits = np.array(prediction_digits)\n",
    "    accuracy = (prediction_digits == test_labels).mean()\n",
    "    return accuracy"
   ]
  },
  {
   "cell_type": "markdown",
   "metadata": {
    "colab_type": "text",
    "id": "TuEFS4CIQvUw"
   },
   "source": [
    "You evaluate the pruned and quantized model and see that the accuracy from TensorFlow persists to the TFLite backend."
   ]
  },
  {
   "cell_type": "code",
   "execution_count": 15,
   "metadata": {
    "ExecuteTime": {
     "end_time": "2020-05-27T06:50:00.162313Z",
     "start_time": "2020-05-27T06:49:59.276415Z"
    },
    "colab": {},
    "colab_type": "code",
    "id": "VqQTyqz4NsWd"
   },
   "outputs": [
    {
     "name": "stdout",
     "output_type": "stream",
     "text": [
      "Evaluated on 0 results so far.\n",
      "Evaluated on 1000 results so far.\n",
      "Evaluated on 2000 results so far.\n",
      "Evaluated on 3000 results so far.\n",
      "Evaluated on 4000 results so far.\n",
      "Evaluated on 5000 results so far.\n",
      "Evaluated on 6000 results so far.\n",
      "Evaluated on 7000 results so far.\n",
      "Evaluated on 8000 results so far.\n",
      "Evaluated on 9000 results so far.\n",
      "\n",
      "\n",
      "Pruned and quantized TFLite test_accuracy: 0.9711\n",
      "Pruned TF test accuracy: 0.9714999794960022\n"
     ]
    }
   ],
   "source": [
    "interpreter = tf.lite.Interpreter(model_content=quantized_and_pruned_tflite_model)\n",
    "interpreter.allocate_tensors()\n",
    "\n",
    "test_accuracy = evaluate_model(interpreter)\n",
    "\n",
    "print('Pruned and quantized TFLite test_accuracy:', test_accuracy)\n",
    "print('Pruned TF test accuracy:', model_for_pruning_accuracy)"
   ]
  },
  {
   "cell_type": "markdown",
   "metadata": {
    "colab_type": "text",
    "id": "0O5xuci-SonI"
   },
   "source": [
    "## Conclusion"
   ]
  },
  {
   "cell_type": "markdown",
   "metadata": {
    "colab_type": "text",
    "id": "O2I7xmyMW5QY"
   },
   "source": [
    "In this tutorial, you saw how to create sparse models with the TensorFlow Model Optimization Toolkit API for both TensorFlow and TFLite. You \n",
    "then combined pruning with post-training quantization for additional benefits.\n",
    "\n",
    "You created a 10x smaller model for MNIST, with minimal accuracy difference.\n",
    "\n",
    "We encourage you to try this new capability, which can be particularly important for deployment in resource-constrained environments.\n",
    "\n"
   ]
  }
 ],
 "metadata": {
  "accelerator": "GPU",
  "colab": {
   "collapsed_sections": [],
   "name": "Pruning in Keras example",
   "private_outputs": true,
   "provenance": [],
   "toc_visible": true
  },
  "kernelspec": {
   "display_name": "Python 3",
   "language": "python",
   "name": "python3"
  },
  "language_info": {
   "codemirror_mode": {
    "name": "ipython",
    "version": 3
   },
   "file_extension": ".py",
   "mimetype": "text/x-python",
   "name": "python",
   "nbconvert_exporter": "python",
   "pygments_lexer": "ipython3",
   "version": "3.6.9"
  },
  "toc": {
   "base_numbering": 1,
   "nav_menu": {},
   "number_sections": true,
   "sideBar": true,
   "skip_h1_title": false,
   "title_cell": "Table of Contents",
   "title_sidebar": "Contents",
   "toc_cell": false,
   "toc_position": {},
   "toc_section_display": true,
   "toc_window_display": false
  }
 },
 "nbformat": 4,
 "nbformat_minor": 1
}
